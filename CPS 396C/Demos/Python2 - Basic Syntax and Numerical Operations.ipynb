{
 "cells": [
  {
   "cell_type": "markdown",
   "metadata": {},
   "source": [
    "Basic Syntax and Numerical Operations\n",
    "======\n",
    "\n",
    "The order is important.  Statements that have not been seen by the interpeter can not be executed.  "
   ]
  },
  {
   "cell_type": "code",
   "execution_count": null,
   "metadata": {},
   "outputs": [],
   "source": [
    "print foo()  # Wait, 'foo' hasn't been defined yet.\n",
    "\n",
    "def foo():\n",
    "    return \"bar\"\n",
    "\n"
   ]
  },
  {
   "cell_type": "markdown",
   "metadata": {},
   "source": [
    "Variables are typed but the type does not need to be specified.  Variables do not need to be declared.  "
   ]
  },
  {
   "cell_type": "code",
   "execution_count": null,
   "metadata": {},
   "outputs": [],
   "source": [
    "x = \"Hello World!\"\n",
    "print x, type(x)\n",
    "\n",
    "x = 2\n",
    "print x, type(x)\n",
    "\n",
    "x = float(2)\n",
    "print x, type(x)"
   ]
  },
  {
   "cell_type": "markdown",
   "metadata": {},
   "source": [
    "The contents of variables can be displayed to the screen using `print`.  String literals are indicated with \"\" or ''."
   ]
  },
  {
   "cell_type": "code",
   "execution_count": null,
   "metadata": {},
   "outputs": [],
   "source": [
    "x = 5\n",
    "\n",
    "print x    # Prints the contents of the variable\n",
    "print \"x\"  # Prints the literal value\n",
    "print \"Hello World\"\n",
    "print 'Hello world'  # Single quotes OK\n",
    "\n",
    "print(x) # Parentheses OK\n",
    "\n"
   ]
  },
  {
   "cell_type": "markdown",
   "metadata": {},
   "source": [
    "The `+` operator can be used to combine strings and string literals.  \n",
    "\n",
    "You can not directly combine strings with integers.  "
   ]
  },
  {
   "cell_type": "code",
   "execution_count": null,
   "metadata": {},
   "outputs": [],
   "source": [
    "print \"Hello\" + \" World!\"\n",
    "print \"hello\",  # suppress newline\n",
    "print \" again world!\"\n",
    "\n",
    "#rint \"My favorite number is \" + 34 ## Nope!\n",
    "print \"My favorite number is \" + str(34)\n",
    "\n",
    "print \"X is \" + str(x)\n"
   ]
  },
  {
   "cell_type": "markdown",
   "metadata": {},
   "source": [
    "Comments can be added to programs to increase readability and describe code.  Use a `#`."
   ]
  },
  {
   "cell_type": "code",
   "execution_count": null,
   "metadata": {},
   "outputs": [],
   "source": [
    "# This is a useful comment.\n",
    "\n",
    "# /* This is not a comment */\n",
    "\n",
    "msg = \"\"\"\n",
    "This is a commment as well.\n",
    "\n",
    "\n",
    "\"\"\"\n",
    "\n",
    "print msg"
   ]
  },
  {
   "cell_type": "markdown",
   "metadata": {},
   "source": [
    "The basic numerical operations.  Note that the default operation for '/' is integer division.  "
   ]
  },
  {
   "cell_type": "code",
   "execution_count": 1,
   "metadata": {},
   "outputs": [
    {
     "name": "stdout",
     "output_type": "stream",
     "text": [
      "0\n",
      "0.666666666667\n"
     ]
    }
   ],
   "source": [
    "x = 2\n",
    "y = 3\n",
    "\n",
    "x + y\n",
    "x - y\n",
    "x * y\n",
    "x / y\n",
    "x // y\n",
    "abs(x)\n",
    "int(x)\n",
    "float(x)\n",
    "x ** y  # OR pow(x, y)  x^y\n",
    "\n",
    "print x / y  # Note that default is integer division\n",
    "\n",
    "from __future__ import division\n",
    "\n",
    "print x / y  # This is usually what we want so import the 'future' division"
   ]
  },
  {
   "cell_type": "markdown",
   "metadata": {},
   "source": [
    "A simple algorithm to calculate and display the mean exam score.  "
   ]
  },
  {
   "cell_type": "code",
   "execution_count": null,
   "metadata": {},
   "outputs": [],
   "source": [
    "# Calculate and display mean exam score.\n",
    "\n",
    "exam_1 = 5.0\n",
    "exam_2 = 7.0\n",
    "exam_3 = 9.1\n",
    "\n",
    "mean = (exam_1 + exam_2 + exam_3) / 3\n",
    "\n",
    "print mean"
   ]
  },
  {
   "cell_type": "markdown",
   "metadata": {},
   "source": [
    "What if we want to conditionally execute a statement?"
   ]
  },
  {
   "cell_type": "code",
   "execution_count": null,
   "metadata": {},
   "outputs": [],
   "source": [
    "# Calculate and display mean exam score.  \n",
    "\n",
    "exam_1 = 5.0\n",
    "exam_2 = 7.0\n",
    "exam_3 = 8.1\n",
    "\n",
    "mean = (exam_1 + exam_2 + exam_3) / 3\n",
    "\n",
    "print mean\n",
    "\n",
    "# Display warning if needed (i.e, mean < 7.0)\n",
    "if mean < 7.0:\n",
    "    print \"Warning:  Low exam average.\"\n",
    "    \n",
    "    "
   ]
  },
  {
   "cell_type": "markdown",
   "metadata": {},
   "source": [
    "What if we want to repeat a series of statements?  "
   ]
  },
  {
   "cell_type": "code",
   "execution_count": null,
   "metadata": {},
   "outputs": [],
   "source": [
    "exam_scores = [5.0, 7.0, 8.1, 6.1]\n",
    "\n",
    "# Check the number of low exam scores\n",
    "\n",
    "low_exam_score_count = 0\n",
    "\n",
    "for score in exam_scores:\n",
    "    if score < 7.0:\n",
    "        low_exam_score_count += 1\n",
    "        #low_exam_score_count = low_exam_score_count + 1  # OR += 1\n",
    "        \n",
    "print low_exam_score_count"
   ]
  },
  {
   "cell_type": "code",
   "execution_count": null,
   "metadata": {},
   "outputs": [],
   "source": []
  },
  {
   "cell_type": "code",
   "execution_count": null,
   "metadata": {},
   "outputs": [],
   "source": [
    "q"
   ]
  },
  {
   "cell_type": "code",
   "execution_count": null,
   "metadata": {},
   "outputs": [],
   "source": []
  }
 ],
 "metadata": {
  "kernelspec": {
   "display_name": "Python 2",
   "language": "python",
   "name": "python2"
  },
  "language_info": {
   "codemirror_mode": {
    "name": "ipython",
    "version": 2
   },
   "file_extension": ".py",
   "mimetype": "text/x-python",
   "name": "python",
   "nbconvert_exporter": "python",
   "pygments_lexer": "ipython2",
   "version": "2.7.13"
  }
 },
 "nbformat": 4,
 "nbformat_minor": 2
}
