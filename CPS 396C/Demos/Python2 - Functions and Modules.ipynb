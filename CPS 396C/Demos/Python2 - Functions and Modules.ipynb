{
 "cells": [
  {
   "cell_type": "markdown",
   "metadata": {
    "slideshow": {
     "slide_type": "fragment"
    }
   },
   "source": [
    "Functions and Modules\n",
    "=====\n",
    "\n",
    "Some of the code contained within this notebook is from Ch. 2 of *Data Science from Scratch* by J. Grus.\n",
    "\n"
   ]
  },
  {
   "cell_type": "markdown",
   "metadata": {},
   "source": [
    "A **function** is an operation for taking zero or more inputs and producing an output.\n"
   ]
  },
  {
   "cell_type": "code",
   "execution_count": 8,
   "metadata": {},
   "outputs": [
    {
     "name": "stdout",
     "output_type": "stream",
     "text": [
      "4\n",
      "4.4\n",
      "BOOBOO\n",
      "1\n",
      "1.1\n"
     ]
    }
   ],
   "source": [
    "def double(x):\n",
    "    \"\"\" doubles the argument provided \"\"\"\n",
    "    return 2 * x\n",
    "\n",
    "print double(2)\n",
    "print double(2.2)\n",
    "print double(\"BOO\")\n",
    "\n",
    "def halve(x):\n",
    "    \"\"\" halves the argument provided \"\"\"\n",
    "    return x / 2\n",
    "\n",
    "print halve(2)\n",
    "print halve(2.2)\n",
    "#print halve(\"BOOBOO\")"
   ]
  },
  {
   "cell_type": "markdown",
   "metadata": {},
   "source": [
    "In Python, functions are so called 'first-class' members.  They can be assigned to a variable and passed to functions.\n",
    "\n",
    "Simple functions can be defined on one line or in-line with lambdas."
   ]
  },
  {
   "cell_type": "code",
   "execution_count": 9,
   "metadata": {},
   "outputs": [
    {
     "name": "stdout",
     "output_type": "stream",
     "text": [
      "4\n",
      "8\n"
     ]
    }
   ],
   "source": [
    "Twice_x = double\n",
    "Four_x = lambda x: 2 * Twice_x(x)\n",
    "\n",
    "print Twice_x(2)\n",
    "print Four_x(2)"
   ]
  },
  {
   "cell_type": "markdown",
   "metadata": {},
   "source": [
    "A function can have a variable numbers of arguments.  Default parameters are also allowed. "
   ]
  },
  {
   "cell_type": "code",
   "execution_count": 10,
   "metadata": {},
   "outputs": [
    {
     "name": "stdout",
     "output_type": "stream",
     "text": [
      "Hello, brave world!\n",
      "Boo\n",
      "[1, 2, 3, 'message-boo', 'other_message-foo']\n"
     ]
    }
   ],
   "source": [
    "def print_me(message = \"Hello, brave world!\"):\n",
    "    print message\n",
    "    \n",
    "def print_all(*args, **kwargs):\n",
    "    \n",
    "    key_values = [key + '-' + value for key, value in kwargs.items()]\n",
    "    all_args = list(args)\n",
    "    all_args.extend(key_values)\n",
    "    \n",
    "    print all_args\n",
    "    \n",
    "print_me()\n",
    "print_me(\"Boo\")\n",
    "print_all(1, 2, 3, message='boo', other_message='foo')\n",
    "    "
   ]
  },
  {
   "cell_type": "markdown",
   "metadata": {},
   "source": [
    "Recursive functions are fun."
   ]
  },
  {
   "cell_type": "code",
   "execution_count": 11,
   "metadata": {},
   "outputs": [
    {
     "name": "stdout",
     "output_type": "stream",
     "text": [
      "8\n",
      "8\n"
     ]
    }
   ],
   "source": [
    "def X_toThe(X, N):\n",
    "    if N == 0:\n",
    "        return 1\n",
    "    else:\n",
    "        return X * X_toThe(X, N - 1)\n",
    "\n",
    "    \n",
    "Two_toTheN = lambda N: X_toThe(2, N) \n",
    "    \n",
    "print X_toThe(2, 3)\n",
    "print Two_toTheN(3)\n",
    "\n",
    "        "
   ]
  },
  {
   "cell_type": "markdown",
   "metadata": {},
   "source": [
    "**Modules** are collections of functions that can be brought in.  These are often created by third parties.  We will use a number of these. \n",
    "\n",
    "We have already seen `matplotlib` and `Counter`.  "
   ]
  },
  {
   "cell_type": "code",
   "execution_count": 12,
   "metadata": {},
   "outputs": [
    {
     "name": "stdout",
     "output_type": "stream",
     "text": [
      "Counter({1: 3, 2: 2})\n"
     ]
    }
   ],
   "source": [
    "# An entire module can be brought in with import. \n",
    "import matplotlib.pyplot\n",
    "\n",
    "# or with an alias ...\n",
    "import matplotlib.pyplot as plt\n",
    "\n",
    "import collections\n",
    "\n",
    "print collections.Counter([1,1,1,2,2])\n"
   ]
  },
  {
   "cell_type": "code",
   "execution_count": 13,
   "metadata": {},
   "outputs": [
    {
     "name": "stdout",
     "output_type": "stream",
     "text": [
      "Counter({1: 3, 2: 2})\n"
     ]
    }
   ],
   "source": [
    "# or only a few methods, bringing them into the default namespace\n",
    "from collections import Counter\n",
    "\n",
    "print Counter([1,1,1,2,2])"
   ]
  },
  {
   "cell_type": "code",
   "execution_count": 14,
   "metadata": {},
   "outputs": [
    {
     "name": "stdout",
     "output_type": "stream",
     "text": [
      "1.5\n"
     ]
    }
   ],
   "source": [
    "# ???\n",
    "from __future__ import division\n",
    "\n",
    "print 3 / 2"
   ]
  },
  {
   "cell_type": "code",
   "execution_count": 18,
   "metadata": {},
   "outputs": [
    {
     "name": "stdout",
     "output_type": "stream",
     "text": [
      "(83000, 88000, 48000, 76000, 69000, 76000, 60000, 83000, 48000, 63000) (8.7, 8.1, 0.7, 6, 6.5, 7.5, 2.5, 10, 1.9, 4.2)\n",
      "defaultdict(<type 'list'>, {'8+': [83000, 88000, 83000], '3-5': [63000], '5-8': [76000, 69000, 76000], '0-3': [48000, 60000, 48000]})\n",
      "<dictionary-itemiterator object at 0x7efcf720e310>\n",
      "{'8+': 84666.66666666667, '3-5': 63000.0, '5-8': 73666.66666666667, '0-3': 52000.0}\n"
     ]
    },
    {
     "data": {
      "image/png": "[encoded data removed]",
      "text/plain": [
       "<Figure size 432x288 with 1 Axes>"
      ]
     },
     "metadata": {
      "needs_background": "light"
     },
     "output_type": "display_data"
    }
   ],
   "source": [
    "# Example:\n",
    "# Look at some data on company employees as it relates to their time at the company.  \n",
    "# Create a scatter plot of salaries and tenure with salary as the dependent variable.  \n",
    "# Also, calculate and display the mean salary for 4 ranges of tenure \n",
    "#    (i.e, [0-3), [3-5), [5-8) and more than 8 years).  \n",
    "\n",
    "salaries_and_tenures = [(83000, 8.7), (88000, 8.1),\n",
    "                        (48000, 0.7), (76000, 6),\n",
    "                        (69000, 6.5), (76000, 7.5),\n",
    "                        (60000, 2.5), (83000, 10),\n",
    "                        (48000, 1.9), (63000, 4.2)]\n",
    "\n",
    "# Create parallel arrays of salaries and tenures\n",
    "salaries, tenures = zip(*salaries_and_tenures)\n",
    "\n",
    "print salaries, tenures\n",
    "plt.scatter(tenures, salaries)\n",
    "\n",
    "from collections import defaultdict\n",
    "\n",
    "salary_by_tenure = defaultdict(list)\n",
    "\n",
    "for salary, tenure in salaries_and_tenures:\n",
    "    if tenure < 3:\n",
    "        salary_by_tenure[\"0-3\"].append(salary)\n",
    "    elif tenure < 5:\n",
    "        salary_by_tenure[\"3-5\"].append(salary)\n",
    "    elif tenure < 8:\n",
    "        salary_by_tenure[\"5-8\"].append(salary)\n",
    "    else:\n",
    "        salary_by_tenure[\"8+\"].append(salary)\n",
    "        \n",
    "print salary_by_tenure\n",
    "\n",
    "average_salary_by_bucket = {\n",
    "    tenure_bucket: sum(salaries) / len(salaries)\n",
    "    for tenure_bucket, salaries in salary_by_tenure.iteritems()\n",
    "}\n",
    "\n",
    "print average_salary_by_bucket"
   ]
  },
  {
   "cell_type": "code",
   "execution_count": 3,
   "metadata": {},
   "outputs": [
    {
     "name": "stdout",
     "output_type": "stream",
     "text": [
      "3\n",
      "4\n"
     ]
    }
   ],
   "source": [
    "# Example:\n",
    "# Create a function to calculate the floor of log_2\n",
    "\n",
    "# print floorLog2(9)\n",
    "\n",
    "from __future__ import division\n",
    "\n",
    "def floorLog2(n):\n",
    "    if n <= 1:\n",
    "        return 0\n",
    "    \n",
    "    result = 1\n",
    "    while n > 2:\n",
    "        n /= 2\n",
    "        result += 1\n",
    "\n",
    "    return result - 1\n",
    "\n",
    "print floorLog2(9)\n",
    "print floorLog2(17)"
   ]
  },
  {
   "cell_type": "code",
   "execution_count": 14,
   "metadata": {},
   "outputs": [
    {
     "name": "stdout",
     "output_type": "stream",
     "text": [
      "84 36 48\n"
     ]
    }
   ],
   "source": [
    "# Example:\n",
    "# Find the minimum, maximum and range of a list\n",
    "\n",
    "def maximum(A):\n",
    "    currMax = A[0]\n",
    "    for x in A:\n",
    "        if x > currMax:\n",
    "            currMax = x\n",
    "    \n",
    "    return currMax\n",
    "\n",
    "def minimum(A):\n",
    "    currMax = A[0]\n",
    "    for x in A:\n",
    "        if x < currMax:\n",
    "            currMax = x\n",
    "    \n",
    "    return currMax\n",
    "\n",
    "def listRange(A):\n",
    "    return maximum(A) - minimum(A)\n",
    "\n",
    "exam_scores = [36, 84, 53]\n",
    "print maximum(exam_scores), minimum(exam_scores), listRange(exam_scores)"
   ]
  },
  {
   "cell_type": "code",
   "execution_count": 6,
   "metadata": {},
   "outputs": [
    {
     "name": "stdout",
     "output_type": "stream",
     "text": [
      "    ===========\n",
      "   ||/      |\n",
      "   ||       |\n",
      "   ||       0\n",
      "   ||      \\|/ \n",
      "   ||       |\n",
      "   ||     ,/ \\,\n",
      "   ||\n",
      ",,,||,,,,,,,,,,,,,,\n",
      "\n",
      "You lose!\n"
     ]
    }
   ],
   "source": [
    "# Example:\n",
    "# Create a hangman game make using of methods and random guesses ...\n",
    "\n",
    "from IPython.display import clear_output\n",
    "\n",
    "def updateUnknownPositions(secretWord, unknownPosition, toUncover):\n",
    "    i = 0\n",
    "    while(i < len(secretWord)):\n",
    "        if secretWord[i] == toUncover:\n",
    "            unknownPosition[i] = \" \"\n",
    "        \n",
    "        i += 1\n",
    "\n",
    "def printWord(secretWord, unknownPositions): \n",
    "    \n",
    "    for c, u in zip(secretWord, unknownPositions):\n",
    "        if u == '*':\n",
    "            print '-',\n",
    "        else:\n",
    "            print c,\n",
    "    \n",
    "#     i = 0\n",
    "#     while(i < len(secretWord)):\n",
    "#         if unknownPositions[i] == '*':\n",
    "#             print \"_\",\n",
    "#         else:\n",
    "#             print secretWord[i],\n",
    "#         i += 1\n",
    "        \n",
    "    print \"\"\n",
    "    \n",
    "def hasUnknownLetters(unknownPositions):\n",
    "    return unknownPositions.count('*') > 0\n",
    "\n",
    "def isUnknownLetter(secretWord, unknownPositions, letter):\n",
    "    \n",
    "    rValue = False\n",
    "    \n",
    "    for c, u in zip(secretWord, unknownPositions):\n",
    "        if u == \"*\" and c == letter:\n",
    "            rValue = True\n",
    "    \n",
    "#     i = 0\n",
    "#     while(i < len(unknownPositions)):\n",
    "#         if unknownPositions[i] == '*' and secretWord[i] == letter:\n",
    "#             rValue = True\n",
    "#         i += 1\n",
    "        \n",
    "    return rValue\n",
    "    \n",
    "\n",
    "def printHangman(missCount):\n",
    "    status = \"\"\n",
    "    \n",
    "    status += \"   ===========\\n\";\n",
    "    status += \"   ||/      |\\n\";\n",
    "    status += \"   ||       |\\n\";\n",
    "    status += \"   ||       \"; \n",
    "    status += \"0\\n\" if (missCount >= 1) else \"\\n\"\n",
    "    status += \"   ||      \";\n",
    "    status += \"\\\\|\" if (missCount >= 2) else \" \"\n",
    "    status += \"/ \\n\" if (missCount >= 3) else \"\\n\"\n",
    "    status += \"   ||       \";\n",
    "    status += \"|\\n\" if (missCount >= 4) else \"\\n\"\n",
    "    status += \"   ||     \";\n",
    "    status += \",/ \" if (missCount >= 4) else \"\"\n",
    "    status += \"\\\\,\\n\" if (missCount >= 5) else  \"\\n\"\n",
    "    status += \"   ||\\n\";\n",
    "    status += \",,,||,,,,,,,,,,,,,,\\n\";\n",
    "    \n",
    "    print status\n",
    "\n",
    "\n",
    "missCount = 0\n",
    "secredWord = list(\"FIREUPCHIPS\")\n",
    "unknownPositions = ['*' for _ in secredWord]\n",
    "guess = ' '\n",
    "\n",
    "while missCount < 5 and hasUnknownLetters(unknownPositions):\n",
    "    \n",
    "    printHangman(missCount)\n",
    "    printWord(secredWord, unknownPositions)\n",
    "    \n",
    "    print \"# of misses: {}\".format(missCount)\n",
    "    print \"Guess a letter: \",\n",
    "    guess = str(raw_input()).upper()\n",
    "    \n",
    "    if isUnknownLetter(secredWord, unknownPositions, guess):\n",
    "        updateUnknownPositions(secredWord, unknownPositions, guess)\n",
    "    else:\n",
    "        missCount += 1\n",
    "    \n",
    "    clear_output()\n",
    "    \n",
    "printHangman(missCount)\n",
    "print \"You win!\" if missCount < 5 else \"You lose!\"\n",
    "\n",
    "\n",
    "\n",
    "\n"
   ]
  },
  {
   "cell_type": "code",
   "execution_count": null,
   "metadata": {},
   "outputs": [],
   "source": []
  },
  {
   "cell_type": "code",
   "execution_count": null,
   "metadata": {},
   "outputs": [],
   "source": []
  }
 ],
 "metadata": {
  "kernelspec": {
   "display_name": "Python 2",
   "language": "python",
   "name": "python2"
  },
  "language_info": {
   "codemirror_mode": {
    "name": "ipython",
    "version": 2
   },
   "file_extension": ".py",
   "mimetype": "text/x-python",
   "name": "python",
   "nbconvert_exporter": "python",
   "pygments_lexer": "ipython2",
   "version": "2.7.13"
  }
 },
 "nbformat": 4,
 "nbformat_minor": 2
}
