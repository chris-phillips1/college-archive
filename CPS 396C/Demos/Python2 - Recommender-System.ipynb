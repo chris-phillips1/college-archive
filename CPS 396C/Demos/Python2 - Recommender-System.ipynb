{
 "cells": [
  {
   "cell_type": "markdown",
   "metadata": {},
   "source": [
    "Recommender Systems\n",
    "=====\n",
    "\n",
    "Most of the code contained within this notebook is from Ch. 22 of *Data Science from Scratch* by J. Grus.\n",
    "\n"
   ]
  },
  {
   "cell_type": "markdown",
   "metadata": {},
   "source": [
    "For each user, we have a list of topics of interests.  We'd like to recommend likely topics of interest to each user."
   ]
  },
  {
   "cell_type": "code",
   "execution_count": 1,
   "metadata": {},
   "outputs": [],
   "source": [
    "users_interests = [\n",
    "    [\"Hadoop\", \"Big Data\", \"HBase\", \"Java\", \"Spark\", \"Storm\", \"Cassandra\"],\n",
    "    [\"NoSQL\", \"MongoDB\", \"Cassandra\", \"HBase\", \"Postgres\"],\n",
    "    [\"Python\", \"scikit-learn\", \"scipy\", \"numpy\", \"statsmodels\", \"pandas\"],\n",
    "    [\"R\", \"Python\", \"statistics\", \"regression\", \"probability\"],\n",
    "    [\"machine learning\", \"regression\", \"decision trees\", \"libsvm\"],\n",
    "    [\"Python\", \"R\", \"Java\", \"C++\", \"Haskell\", \"programming languages\"],\n",
    "    [\"statistics\", \"probability\", \"mathematics\", \"theory\"],\n",
    "    [\"machine learning\", \"scikit-learn\", \"Mahout\", \"neural networks\"],\n",
    "    [\"neural networks\", \"deep learning\", \"Big Data\", \"artificial intelligence\"],\n",
    "    [\"Hadoop\", \"Java\", \"MapReduce\", \"Big Data\"],\n",
    "    [\"statistics\", \"R\", \"statsmodels\"],\n",
    "    [\"C++\", \"deep learning\", \"artificial intelligence\", \"probability\"],\n",
    "    [\"pandas\", \"R\", \"Python\"],\n",
    "    [\"databases\", \"HBase\", \"Postgres\", \"MySQL\", \"MongoDB\"],\n",
    "    [\"libsvm\", \"regression\", \"support vector machines\"]\n",
    "]\n",
    "\n",
    "user_ids = range(len(users_interests))"
   ]
  },
  {
   "cell_type": "markdown",
   "metadata": {},
   "source": [
    "For each user, we could recommend the most popular interests that a user has not stated as a interest."
   ]
  },
  {
   "cell_type": "code",
   "execution_count": 3,
   "metadata": {},
   "outputs": [
    {
     "name": "stdout",
     "output_type": "stream",
     "text": [
      "[('Python', 4), ('R', 4), ('Java', 3), ('regression', 3), ('statistics', 3), ('probability', 3), ('HBase', 3), ('Big Data', 3), ('neural networks', 2), ('Hadoop', 2), ('deep learning', 2), ('pandas', 2), ('artificial intelligence', 2), ('libsvm', 2), ('C++', 2), ('Postgres', 2), ('MongoDB', 2), ('scikit-learn', 2), ('machine learning', 2), ('statsmodels', 2), ('Cassandra', 2), ('NoSQL', 1), ('Mahout', 1), ('Storm', 1), ('MySQL', 1), ('programming languages', 1), ('Haskell', 1), ('mathematics', 1), ('Spark', 1), ('numpy', 1), ('theory', 1), ('decision trees', 1), ('MapReduce', 1), ('scipy', 1), ('databases', 1), ('support vector machines', 1)]\n",
      "User:  0 ['Python', 'R', 'regression']\n",
      "User:  1 ['Python', 'R', 'Java']\n",
      "User:  2 ['R', 'Java', 'regression']\n",
      "User:  3 ['Java', 'HBase', 'Big Data']\n",
      "User:  4 ['Python', 'R', 'Java']\n",
      "User:  5 ['regression', 'statistics', 'probability']\n",
      "User:  6 ['Python', 'R', 'Java']\n",
      "User:  7 ['Python', 'R', 'Java']\n",
      "User:  8 ['Python', 'R', 'Java']\n",
      "User:  9 ['Python', 'R', 'regression']\n",
      "User:  10 ['Python', 'Java', 'regression']\n",
      "User:  11 ['Python', 'R', 'Java']\n",
      "User:  12 ['Java', 'regression', 'statistics']\n",
      "User:  13 ['Python', 'R', 'Java']\n",
      "User:  14 ['Python', 'R', 'Java']\n"
     ]
    }
   ],
   "source": [
    "from collections import defaultdict, Counter\n",
    "\n",
    "popular_interests = Counter(interest\n",
    "                            for user_interests in users_interests\n",
    "                            for interest in user_interests).most_common()\n",
    "\n",
    "def most_popular_new_interests(user_interests, max_results=5):\n",
    "    suggestions = [(interest, frequency) \n",
    "                   for interest, frequency in popular_interests\n",
    "                   if interest not in user_interests]\n",
    "    return [interest for interest,_ in suggestions[:max_results]]\n",
    "\n",
    "print popular_interests\n",
    "\n",
    "for i in user_ids:\n",
    "    print \"User: \", i, most_popular_new_interests(users_interests[i], 3)"
   ]
  },
  {
   "cell_type": "code",
   "execution_count": 8,
   "metadata": {},
   "outputs": [
    {
     "name": "stdout",
     "output_type": "stream",
     "text": [
      "User:  0 [(9, 0.5669467095138409)]\n",
      "User:  1 [(13, 0.6)]\n",
      "User:  2 []\n",
      "User:  3 [(10, 0.5163977794943222), (12, 0.5163977794943222)]\n",
      "User:  4 [(14, 0.5773502691896258)]\n",
      "User:  5 []\n",
      "User:  6 []\n",
      "User:  7 []\n",
      "User:  8 []\n",
      "User:  9 [(0, 0.5669467095138409)]\n",
      "User:  10 [(3, 0.5163977794943222)]\n",
      "User:  11 []\n",
      "User:  12 [(3, 0.5163977794943222)]\n",
      "User:  13 [(1, 0.6)]\n",
      "User:  14 [(4, 0.5773502691896258)]\n"
     ]
    }
   ],
   "source": [
    "#\n",
    "# user-based filtering\n",
    "#\n",
    "import math\n",
    "\n",
    "def dot(v, w):\n",
    "    \"\"\"v_1 * w_1 + ... + v_n * w_n\"\"\"\n",
    "    return sum(v_i * w_i for v_i, w_i in zip(v, w))\n",
    "\n",
    "def cosine_similarity(v, w):\n",
    "    return dot(v, w) / math.sqrt(dot(v, v) * dot(w, w))\n",
    "\n",
    "# Get a list of all interests, remove duplicates\n",
    "unique_interests = sorted(list({ interest \n",
    "                                 for user_interests in users_interests\n",
    "                                 for interest in user_interests }))\n",
    "\n",
    "def make_user_interest_vector(user_interests):\n",
    "    \"\"\"given a list of interests, produce a vector whose i-th element is 1\n",
    "    if unique_interests[i] is in the list, 0 otherwise\"\"\"\n",
    "    return [1 if interest in user_interests else 0\n",
    "            for interest in unique_interests]\n",
    "\n",
    "# For each user's interest, apply the 'make_user_interest_vector' to create a matrix \n",
    "user_interest_matrix = map(make_user_interest_vector, users_interests)\n",
    "\n",
    "# For each user, determine the similarity with the other users\n",
    "user_similarities = [[cosine_similarity(interest_vector_i, interest_vector_j)\n",
    "                      for interest_vector_j in user_interest_matrix]\n",
    "                     for interest_vector_i in user_interest_matrix]\n",
    "\n",
    "def most_similar_users_to(user_id, min_similarity = 0):\n",
    "    pairs = [(other_user_id, similarity)                      # find other\n",
    "             for other_user_id, similarity in                 # users with\n",
    "                enumerate(user_similarities[user_id])         # nonzero \n",
    "             if user_id != other_user_id and similarity > min_similarity]  # similarity\n",
    "\n",
    "    return sorted(pairs,                                      # sort them\n",
    "                  key=lambda (_, similarity): similarity,     # most similar\n",
    "                  reverse=True)                               # first\n",
    "\n",
    "# Display the most similiar users for each user\n",
    "for i in user_ids:\n",
    "    print \"User: \", i, most_similar_users_to(i, 0.5)"
   ]
  },
  {
   "cell_type": "markdown",
   "metadata": {},
   "source": [
    "To get suggestions for each user, figure what users are similiar and weight their interests by the user's similiarity.  Optionally exclude current interests.  "
   ]
  },
  {
   "cell_type": "code",
   "execution_count": 10,
   "metadata": {},
   "outputs": [
    {
     "name": "stdout",
     "output_type": "stream",
     "text": [
      " User:  0\n",
      "Current Interests:  ['Hadoop', 'Big Data', 'HBase', 'Java', 'Spark', 'Storm', 'Cassandra']\n",
      "[('MapReduce', 0.5669467095138409), ('MongoDB', 0.50709255283711), ('Postgres', 0.50709255283711), ('NoSQL', 0.3380617018914066), ('neural networks', 0.1889822365046136), ('deep learning', 0.1889822365046136), ('artificial intelligence', 0.1889822365046136), ('databases', 0.1690308509457033), ('MySQL', 0.1690308509457033), ('programming languages', 0.1543033499620919), ('Python', 0.1543033499620919), ('Haskell', 0.1543033499620919), ('C++', 0.1543033499620919), ('R', 0.1543033499620919)]\n",
      "---\n",
      "User:  1\n",
      "Current Interests:  ['NoSQL', 'MongoDB', 'Cassandra', 'HBase', 'Postgres']\n",
      "[('databases', 0.6), ('MySQL', 0.6), ('Java', 0.3380617018914066), ('Big Data', 0.3380617018914066), ('Hadoop', 0.3380617018914066), ('Storm', 0.3380617018914066), ('Spark', 0.3380617018914066)]\n",
      "---\n",
      "User:  2\n",
      "Current Interests:  ['Python', 'scikit-learn', 'scipy', 'numpy', 'statsmodels', 'pandas']\n",
      "[('R', 1.0563476336882696), ('statistics', 0.41827644623057125), ('neural networks', 0.20412414523193154), ('machine learning', 0.20412414523193154), ('Mahout', 0.20412414523193154), ('probability', 0.18257418583505536), ('regression', 0.18257418583505536), ('Java', 0.16666666666666666), ('programming languages', 0.16666666666666666), ('C++', 0.16666666666666666), ('Haskell', 0.16666666666666666)]\n",
      "---\n",
      "User:  3\n",
      "Current Interests:  ['R', 'Python', 'statistics', 'regression', 'probability']\n",
      "[('pandas', 0.6989719653293776), ('statsmodels', 0.6989719653293776), ('C++', 0.5887551694200897), ('libsvm', 0.48180568749714003), ('mathematics', 0.4472135954999579), ('theory', 0.4472135954999579), ('Java', 0.3651483716701107), ('programming languages', 0.3651483716701107), ('Haskell', 0.3651483716701107), ('support vector machines', 0.2581988897471611), ('deep learning', 0.22360679774997896), ('artificial intelligence', 0.22360679774997896), ('decision trees', 0.22360679774997896), ('machine learning', 0.22360679774997896), ('numpy', 0.18257418583505536), ('scipy', 0.18257418583505536), ('scikit-learn', 0.18257418583505536)]\n",
      "---\n",
      "User:  4\n",
      "Current Interests:  ['machine learning', 'regression', 'decision trees', 'libsvm']\n",
      "[('support vector machines', 0.5773502691896258), ('neural networks', 0.25), ('scikit-learn', 0.25), ('Mahout', 0.25), ('statistics', 0.22360679774997896), ('probability', 0.22360679774997896), ('Python', 0.22360679774997896), ('R', 0.22360679774997896)]\n",
      "---\n",
      "User:  5\n",
      "Current Interests:  ['Python', 'R', 'Java', 'C++', 'Haskell', 'programming languages']\n",
      "[('pandas', 0.6380711874576984), ('statistics', 0.6008506320656266), ('probability', 0.5692725169020423), ('statsmodels', 0.4023689270621825), ('regression', 0.3651483716701107), ('Big Data', 0.35842749519402345), ('Hadoop', 0.35842749519402345), ('MapReduce', 0.20412414523193154), ('deep learning', 0.20412414523193154), ('artificial intelligence', 0.20412414523193154), ('scikit-learn', 0.16666666666666666), ('scipy', 0.16666666666666666), ('numpy', 0.16666666666666666), ('Storm', 0.1543033499620919), ('HBase', 0.1543033499620919), ('Cassandra', 0.1543033499620919), ('Spark', 0.1543033499620919)]\n",
      "---\n",
      "User:  6\n",
      "Current Interests:  ['statistics', 'probability', 'mathematics', 'theory']\n",
      "[('R', 0.7358887300947708), ('Python', 0.4472135954999579), ('regression', 0.4472135954999579), ('statsmodels', 0.2886751345948129), ('deep learning', 0.25), ('C++', 0.25), ('artificial intelligence', 0.25)]\n",
      "---\n",
      "User:  7\n",
      "Current Interests:  ['machine learning', 'scikit-learn', 'Mahout', 'neural networks']\n",
      "[('decision trees', 0.25), ('Big Data', 0.25), ('deep learning', 0.25), ('libsvm', 0.25), ('regression', 0.25), ('artificial intelligence', 0.25), ('Python', 0.20412414523193154), ('scipy', 0.20412414523193154), ('statsmodels', 0.20412414523193154), ('pandas', 0.20412414523193154), ('numpy', 0.20412414523193154)]\n",
      "---\n",
      "User:  8\n",
      "Current Interests:  ['neural networks', 'deep learning', 'Big Data', 'artificial intelligence']\n",
      "[('probability', 0.5), ('C++', 0.5), ('Java', 0.4389822365046136), ('Hadoop', 0.4389822365046136), ('scikit-learn', 0.25), ('machine learning', 0.25), ('Mahout', 0.25), ('MapReduce', 0.25), ('Storm', 0.1889822365046136), ('HBase', 0.1889822365046136), ('Spark', 0.1889822365046136), ('Cassandra', 0.1889822365046136)]\n",
      "---\n",
      "User:  9\n",
      "Current Interests:  ['Hadoop', 'Java', 'MapReduce', 'Big Data']\n",
      "[('Storm', 0.5669467095138409), ('HBase', 0.5669467095138409), ('Spark', 0.5669467095138409), ('Cassandra', 0.5669467095138409), ('neural networks', 0.25), ('deep learning', 0.25), ('artificial intelligence', 0.25), ('programming languages', 0.20412414523193154), ('Python', 0.20412414523193154), ('C++', 0.20412414523193154), ('Haskell', 0.20412414523193154), ('R', 0.20412414523193154)]\n",
      "---\n",
      "User:  10\n",
      "Current Interests:  ['statistics', 'R', 'statsmodels']\n",
      "[('Python', 1.3211356336186872), ('probability', 0.8050729140891351), ('pandas', 0.5690355937288492), ('regression', 0.5163977794943222), ('theory', 0.2886751345948129), ('mathematics', 0.2886751345948129), ('Java', 0.23570226039551587), ('programming languages', 0.23570226039551587), ('scikit-learn', 0.23570226039551587), ('C++', 0.23570226039551587), ('scipy', 0.23570226039551587), ('Haskell', 0.23570226039551587), ('numpy', 0.23570226039551587)]\n",
      "---\n",
      "User:  11\n",
      "Current Interests:  ['C++', 'deep learning', 'artificial intelligence', 'probability']\n",
      "[('neural networks', 0.5), ('Big Data', 0.5), ('statistics', 0.47360679774997894), ('Python', 0.4277309429819105), ('R', 0.4277309429819105), ('mathematics', 0.25), ('theory', 0.25), ('regression', 0.22360679774997896), ('Java', 0.20412414523193154), ('programming languages', 0.20412414523193154), ('Haskell', 0.20412414523193154)]\n",
      "---\n",
      "User:  12\n",
      "Current Interests:  ['pandas', 'R', 'Python']\n",
      "[('statistics', 0.8497311128276555), ('statsmodels', 0.804737854124365), ('probability', 0.5163977794943222), ('regression', 0.5163977794943222), ('Java', 0.47140452079103173), ('programming languages', 0.47140452079103173), ('scikit-learn', 0.47140452079103173), ('C++', 0.47140452079103173), ('scipy', 0.47140452079103173), ('Haskell', 0.47140452079103173), ('numpy', 0.47140452079103173)]\n",
      "---\n",
      "User:  13\n",
      "Current Interests:  ['databases', 'HBase', 'Postgres', 'MySQL', 'MongoDB']\n",
      "[('Cassandra', 0.7690308509457033), ('NoSQL', 0.6), ('Java', 0.1690308509457033), ('Hadoop', 0.1690308509457033), ('Big Data', 0.1690308509457033), ('Storm', 0.1690308509457033), ('Spark', 0.1690308509457033)]\n",
      "---\n",
      "User:  14\n",
      "Current Interests:  ['libsvm', 'regression', 'support vector machines']\n",
      "[('decision trees', 0.5773502691896258), ('machine learning', 0.5773502691896258), ('probability', 0.2581988897471611), ('Python', 0.2581988897471611), ('R', 0.2581988897471611), ('statistics', 0.2581988897471611)]\n",
      "---\n"
     ]
    }
   ],
   "source": [
    "def user_based_suggestions(user_id, include_current_interests=False):\n",
    "    # sum up the similarities\n",
    "    suggestions = defaultdict(float)\n",
    "    for other_user_id, similarity in most_similar_users_to(user_id):\n",
    "        for interest in users_interests[other_user_id]:\n",
    "            suggestions[interest] += similarity\n",
    "\n",
    "    # convert them to a sorted list\n",
    "    suggestions = sorted(suggestions.items(),\n",
    "                         key=lambda (_, weight): weight,\n",
    "                         reverse=True)\n",
    "\n",
    "    # and (maybe) exclude already-interests\n",
    "    if include_current_interests:\n",
    "        return suggestions\n",
    "    else:\n",
    "        return [(suggestion, weight) \n",
    "                for suggestion, weight in suggestions\n",
    "                if suggestion not in users_interests[user_id]]\n",
    "\n",
    "for i in user_ids:\n",
    "    print \"User: \", i\n",
    "    print \"Current Interests: \", users_interests[i]\n",
    "    print user_based_suggestions(i)\n",
    "    print \"---\""
   ]
  },
  {
   "cell_type": "markdown",
   "metadata": {},
   "source": [
    "Now determine the similiarity between items and then make recommentations based on similiar items."
   ]
  },
  {
   "cell_type": "code",
   "execution_count": null,
   "metadata": {},
   "outputs": [],
   "source": [
    "#\n",
    "# Item-Based Collaborative Filtering\n",
    "#\n",
    "\n",
    "interest_user_matrix = [[user_interest_vector[j]\n",
    "                         for user_interest_vector in user_interest_matrix]\n",
    "                        for j, _ in enumerate(unique_interests)]\n",
    "\n",
    "interest_similarities = [[cosine_similarity(user_vector_i, user_vector_j)\n",
    "                          for user_vector_j in interest_user_matrix]\n",
    "                         for user_vector_i in interest_user_matrix]\n",
    "\n",
    "def most_similar_interests_to(interest_id):\n",
    "    similarities = interest_similarities[interest_id]\n",
    "    pairs = [(unique_interests[other_interest_id], similarity)\n",
    "             for other_interest_id, similarity in enumerate(similarities)\n",
    "             if interest_id != other_interest_id and similarity > 0]\n",
    "    return sorted(pairs,\n",
    "                  key=lambda (_, similarity): similarity,\n",
    "                  reverse=True)\n",
    "\n",
    "def item_based_suggestions(user_id, include_current_interests=False):\n",
    "    suggestions = defaultdict(float)\n",
    "    user_interest_vector = user_interest_matrix[user_id]\n",
    "    for interest_id, is_interested in enumerate(user_interest_vector):\n",
    "        if is_interested == 1:\n",
    "            similar_interests = most_similar_interests_to(interest_id)\n",
    "            for interest, similarity in similar_interests:\n",
    "                suggestions[interest] += similarity\n",
    "\n",
    "    suggestions = sorted(suggestions.items(),\n",
    "                         key=lambda (_, similarity): similarity,\n",
    "                         reverse=True)\n",
    "\n",
    "    if include_current_interests:\n",
    "        return suggestions\n",
    "    else:\n",
    "        return [(suggestion, weight) \n",
    "                for suggestion, weight in suggestions\n",
    "                if suggestion not in users_interests[user_id]]\n",
    "\n"
   ]
  },
  {
   "cell_type": "markdown",
   "metadata": {},
   "source": [
    "Compare the three sets of recommendations."
   ]
  },
  {
   "cell_type": "code",
   "execution_count": null,
   "metadata": {},
   "outputs": [],
   "source": [
    "for i in user_ids:\n",
    "    print \"User:\", i\n",
    "\n",
    "    print \"-----\""
   ]
  }
 ],
 "metadata": {
  "kernelspec": {
   "display_name": "Python 2",
   "language": "python",
   "name": "python2"
  },
  "language_info": {
   "codemirror_mode": {
    "name": "ipython",
    "version": 2
   },
   "file_extension": ".py",
   "mimetype": "text/x-python",
   "name": "python",
   "nbconvert_exporter": "python",
   "pygments_lexer": "ipython2",
   "version": "2.7.13"
  }
 },
 "nbformat": 4,
 "nbformat_minor": 2
}
