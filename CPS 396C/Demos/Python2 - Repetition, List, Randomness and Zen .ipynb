{
 "cells": [
  {
   "cell_type": "markdown",
   "metadata": {},
   "source": [
    "Repetition, Lists, Randomness and Zen\n",
    "======\n",
    "\n"
   ]
  },
  {
   "cell_type": "markdown",
   "metadata": {},
   "source": [
    "For\n",
    "------\n",
    "\n",
    "A `for` loop with specific ranges can be specified using `range`."
   ]
  },
  {
   "cell_type": "code",
   "execution_count": 3,
   "metadata": {},
   "outputs": [
    {
     "name": "stdout",
     "output_type": "stream",
     "text": [
      "0\n",
      "1\n",
      "2\n",
      "3\n",
      "4\n",
      "---\n",
      "2\n",
      "3\n",
      "---\n",
      "0\n",
      "2\n",
      "4\n",
      "6\n",
      "8\n"
     ]
    }
   ],
   "source": [
    "for i in range(5): # for(i = 0; i<5; i++)\n",
    "    print i\n",
    "    \n",
    "print \"---\"\n",
    "\n",
    "for i in range(2,4):\n",
    "    print i\n",
    "    \n",
    "print \"---\"\n",
    "\n",
    "for i in range(0,10,2): # for(i = 0; i<10; i+=2)\n",
    "    print i\n"
   ]
  },
  {
   "cell_type": "markdown",
   "metadata": {},
   "source": [
    "while\n",
    "------\n",
    "\n",
    "A `while` loop functions much like in other programming languages.  Iterate while the condition is true. "
   ]
  },
  {
   "cell_type": "code",
   "execution_count": 4,
   "metadata": {},
   "outputs": [
    {
     "name": "stdout",
     "output_type": "stream",
     "text": [
      "0\n",
      "1\n",
      "2\n",
      "3\n",
      "4\n",
      "---\n"
     ]
    }
   ],
   "source": [
    "i = 0\n",
    "while i < 5:\n",
    "    print i\n",
    "    i += 1\n",
    "\n",
    "print \"---\""
   ]
  },
  {
   "cell_type": "markdown",
   "metadata": {},
   "source": [
    "Loop Control\n",
    "------\n",
    "\n",
    "`continue` will jump to the start of the next iteration and `break` will exit the loop."
   ]
  },
  {
   "cell_type": "code",
   "execution_count": 1,
   "metadata": {},
   "outputs": [
    {
     "name": "stdout",
     "output_type": "stream",
     "text": [
      "0\n",
      "1\n",
      "2\n",
      "3\n",
      "5\n",
      "6\n",
      "7\n",
      "---\n",
      "1\n",
      "2\n",
      "3\n",
      "4\n"
     ]
    }
   ],
   "source": [
    "for x in range(900):\n",
    "    if x == 4:\n",
    "        continue  # Go to next iteration\n",
    "    if x == 8:\n",
    "        break # Exit loop\n",
    "\n",
    "    print x\n",
    "    \n",
    "print \"---\"\n",
    "\n",
    "i = 0\n",
    "while True:  # Yikes!\n",
    "    i += 1\n",
    "    if i == 5:\n",
    "        break\n",
    "    \n",
    "    print i"
   ]
  },
  {
   "cell_type": "markdown",
   "metadata": {},
   "source": [
    "Lists\n",
    "------\n",
    "\n",
    "Lists are an ordered collection.  You and think of them as arrays if you like BUT the items can be of varying type and nested."
   ]
  },
  {
   "cell_type": "code",
   "execution_count": 3,
   "metadata": {},
   "outputs": [
    {
     "name": "stdout",
     "output_type": "stream",
     "text": [
      "[1, 13, 34]\n",
      "3\n",
      "[[1, 13, 34], [34, 'green', 3.14], []]\n"
     ]
    }
   ],
   "source": [
    "fav_ints = [1, 13, 34]\n",
    "grab_bag = [34, \"green\", 3.14]\n",
    "list_of_lists = [fav_ints, grab_bag, []]\n",
    "\n",
    "print fav_ints\n",
    "print len(grab_bag)\n",
    "print list_of_lists\n"
   ]
  },
  {
   "cell_type": "code",
   "execution_count": 4,
   "metadata": {},
   "outputs": [
    {
     "name": "stdout",
     "output_type": "stream",
     "text": [
      "0 1 3 4\n"
     ]
    }
   ],
   "source": [
    "x = range(5) # Wait, WHAT?!?\n",
    "\n",
    "zero = x[0]\n",
    "one = x[1]\n",
    "four = x[-1]\n",
    "three = x[-2] # or x[2]\n",
    "\n",
    "print zero, one, three, four\n",
    "\n",
    "print \"---\""
   ]
  },
  {
   "cell_type": "markdown",
   "metadata": {},
   "source": [
    "With lists, we create other lists using 'slicing'.  "
   ]
  },
  {
   "cell_type": "code",
   "execution_count": 5,
   "metadata": {},
   "outputs": [
    {
     "name": "stdout",
     "output_type": "stream",
     "text": [
      "[0, 1]\n",
      "[1, 2, 3, 4, 5, 6, 7, 8]\n",
      "[5, 6, 7, 8, 9]\n",
      "[0, 1, 2, 3, 4, 5, 6, 7, 8, 9]\n"
     ]
    }
   ],
   "source": [
    "x = range(10)\n",
    "\n",
    "print x \n",
    "print x[:2]\n",
    "print x[1:-1]\n",
    "print x[5:]\n",
    "print x[:]\n"
   ]
  },
  {
   "cell_type": "markdown",
   "metadata": {},
   "source": [
    "Lists can be extended, appended to and referenced for creation of other lists.  "
   ]
  },
  {
   "cell_type": "code",
   "execution_count": 12,
   "metadata": {},
   "outputs": [
    {
     "name": "stdout",
     "output_type": "stream",
     "text": [
      "a: [2, 4, 6], and b: [2, 4, 6, 1, 3, 5]\n",
      "extended a: [2, 4, 6, 1, 3, 5]\n",
      "appended a: [2, 4, 6, 1, 3, 5, 7]\n",
      "Contents of a sorted: [1, 2, 3, 4, 5, 6, 7]\n",
      "a: [2, 4, 6, 1, 3, 5, 7], sort a: \n",
      "[1, 2, 3, 4, 5, 6, 7]\n"
     ]
    }
   ],
   "source": [
    "a = [2, 4, 6]\n",
    "b = a + [1, 3, 5] # Create b but leave alone\n",
    "\n",
    "print \"a: \" + str(a) + \", and b: \" + str(b)\n",
    "\n",
    "# Add a list onto a\n",
    "a.extend([1, 3, 5])\n",
    "print \"extended a: \" + str(a)\n",
    "\n",
    "# Add an element to a\n",
    "a.append(7)\n",
    "print \"appended a: \" + str(a)\n",
    "\n",
    "# Contents of a sorted\n",
    "print \"Contents of a sorted: \" + str(sorted(a))\n",
    "\n",
    "# Sort a\n",
    "print \"a: \" + str(a) + \", sort a: \" \n",
    "a.sort()\n",
    "\n",
    "print a\n"
   ]
  },
  {
   "cell_type": "markdown",
   "metadata": {},
   "source": [
    "Unpacking of small lists can be explicitly performed.  Make sure the number of elements matches up with the lenght of the variable list.  "
   ]
  },
  {
   "cell_type": "code",
   "execution_count": 10,
   "metadata": {},
   "outputs": [
    {
     "name": "stdout",
     "output_type": "stream",
     "text": [
      "34 green\n"
     ]
    }
   ],
   "source": [
    "age, color = [34, \"green\"]\n",
    "\n",
    "print age, color"
   ]
  },
  {
   "cell_type": "markdown",
   "metadata": {},
   "source": [
    "List Comprehesions\n",
    "------\n",
    "\n",
    "We can easily create lists from other lists.  "
   ]
  },
  {
   "cell_type": "code",
   "execution_count": 17,
   "metadata": {},
   "outputs": [
    {
     "name": "stdout",
     "output_type": "stream",
     "text": [
      "[1, 4, 9]\n",
      "[1, 3]\n"
     ]
    }
   ],
   "source": [
    "x = [1, 2, 3]\n",
    "\n",
    "print [i * i for i in x]\n",
    "print [i for i in x if i % 2 == 1]\n",
    "\n",
    "# List comprehensions have the format [OPS for VARIABLE NAME in LIST {CONDITION }]"
   ]
  },
  {
   "cell_type": "markdown",
   "metadata": {},
   "source": [
    "If we want the values of a list along with the index, use `enumerate`."
   ]
  },
  {
   "cell_type": "code",
   "execution_count": 18,
   "metadata": {},
   "outputs": [
    {
     "name": "stdout",
     "output_type": "stream",
     "text": [
      "0 red\n",
      "1 green\n",
      "2 blue\n",
      "3 yellow\n",
      "4 black\n",
      "0 red\n",
      "1 green\n",
      "2 blue\n",
      "3 yellow\n",
      "4 black\n"
     ]
    }
   ],
   "source": [
    "colors = [\"red\", \"green\", \"blue\", \"yellow\", \"black\"]\n",
    "\n",
    "# Loop over colors along with index ...\n",
    "for i in range(len(colors)):\n",
    "    print i, colors[i]\n",
    "\n",
    "print \"---\"\n",
    "# Or ...\n",
    "for i, color in enumerate(colors):\n",
    "    print i, color"
   ]
  },
  {
   "cell_type": "markdown",
   "metadata": {},
   "source": [
    "The Zen of Python\n",
    "------\n",
    "\n",
    "How should we do things in Python?  What are our design principles?"
   ]
  },
  {
   "cell_type": "code",
   "execution_count": 2,
   "metadata": {},
   "outputs": [
    {
     "name": "stdout",
     "output_type": "stream",
     "text": [
      "The Zen of Python, by Tim Peters\n",
      "\n",
      "Beautiful is better than ugly.\n",
      "Explicit is better than implicit.\n",
      "Simple is better than complex.\n",
      "Complex is better than complicated.\n",
      "Flat is better than nested.\n",
      "Sparse is better than dense.\n",
      "Readability counts.\n",
      "Special cases aren't special enough to break the rules.\n",
      "Although practicality beats purity.\n",
      "Errors should never pass silently.\n",
      "Unless explicitly silenced.\n",
      "In the face of ambiguity, refuse the temptation to guess.\n",
      "There should be one-- and preferably only one --obvious way to do it.\n",
      "Although that way may not be obvious at first unless you're Dutch.\n",
      "Now is better than never.\n",
      "Although never is often better than *right* now.\n",
      "If the implementation is hard to explain, it's a bad idea.\n",
      "If the implementation is easy to explain, it may be a good idea.\n",
      "Namespaces are one honking great idea -- let's do more of those!\n"
     ]
    }
   ],
   "source": [
    "import this #???"
   ]
  },
  {
   "cell_type": "markdown",
   "metadata": {},
   "source": [
    "Randomness\n",
    "------\n",
    "\n",
    "The random module can be used to generate random numbers."
   ]
  },
  {
   "cell_type": "code",
   "execution_count": 6,
   "metadata": {},
   "outputs": [
    {
     "name": "stdout",
     "output_type": "stream",
     "text": [
      "0.283618217907\n",
      "0.674964847135\n",
      "0.456831151058\n",
      "0.685861485475\n",
      "0.661846320052\n",
      "---\n",
      "[0.1329781447122128, 0.7678378139439905, 0.9824132490111909, 0.9693881604049188, 0.613326820546709]\n"
     ]
    }
   ],
   "source": [
    "import random\n",
    "\n",
    "for i in range(5):\n",
    "    print random.random()\n",
    "    \n",
    "print \"---\"\n",
    "\n",
    "print [random.random() for _ in range(5)]\n",
    "\n",
    "# Re-run the cell ..."
   ]
  },
  {
   "cell_type": "code",
   "execution_count": 2,
   "metadata": {},
   "outputs": [
    {
     "name": "stdout",
     "output_type": "stream",
     "text": [
      "[0.5714025946899135, 0.4288890546751146, 0.5780913011344704, 0.20609823213950174, 0.81332125135732]\n"
     ]
    }
   ],
   "source": [
    "import random\n",
    "\n",
    "random.seed(10)\n",
    "\n",
    "print [random.random() for _ in range(5)]\n",
    "\n",
    "# Re-run the cell ..."
   ]
  },
  {
   "cell_type": "markdown",
   "metadata": {},
   "source": [
    "`random.random()` will provide a random number uniformly pulled from 0 to 1.\n"
   ]
  },
  {
   "cell_type": "code",
   "execution_count": 26,
   "metadata": {},
   "outputs": [
    {
     "name": "stdout",
     "output_type": "stream",
     "text": [
      "[14, 11, 5, 5, 6, 14, 8, 8, 13, 8]\n"
     ]
    }
   ],
   "source": [
    "print [int(random.random() * 10 + 5) for _ in range (10)]"
   ]
  },
  {
   "cell_type": "markdown",
   "metadata": {},
   "source": [
    "`random.randrange()` will return intergers from a specified range.  "
   ]
  },
  {
   "cell_type": "code",
   "execution_count": 7,
   "metadata": {},
   "outputs": [
    {
     "name": "stdout",
     "output_type": "stream",
     "text": [
      "5\n",
      "1\n",
      "14\n",
      "94\n",
      "30\n",
      "37\n",
      "89\n",
      "32\n",
      "55\n",
      "44\n"
     ]
    }
   ],
   "source": [
    "for i in range(10):\n",
    "    print random.randrange(1, 100)"
   ]
  },
  {
   "cell_type": "code",
   "execution_count": 25,
   "metadata": {},
   "outputs": [
    {
     "name": "stdout",
     "output_type": "stream",
     "text": [
      "Dear diary ...\n",
      "  On Monday the weather was poor so I played baseball.\n",
      "  On Tuesday the weather was poor so I played football.\n",
      "  On Wednesday the weather was OK so I played football.\n",
      "  On Thursday the weather was poor so I played quidditch.\n",
      "  On Friday the weather was great so I played quidditch.\n"
     ]
    }
   ],
   "source": [
    "weather = [\"great\", \"poor\", \"OK\"]\n",
    "sport = [\"football\", \"baseball\", \"quidditch\"]\n",
    "\n",
    "print \"Dear diary ...\"\n",
    "for day in [\"Monday\", \"Tuesday\", \"Wednesday\", \"Thursday\", \"Friday\"]:\n",
    "    print \"  On \" + day + \" the weather was \" + random.choice(weather) + \" so I played\",\n",
    "    print random.choice(sport) + \".\"\n",
    "\n",
    "\n"
   ]
  },
  {
   "cell_type": "code",
   "execution_count": 17,
   "metadata": {},
   "outputs": [
    {
     "name": "stdout",
     "output_type": "stream",
     "text": [
      "[-1.002771600380813, -1.0304965335319132, 0.04971410573193629, 1.8224491676040508, 1.2526976690368632, 0.94170084544624, -0.25316873793989175, 0.9982839098862119, 0.5278088743685153, 0.07764033933785627]\n"
     ]
    }
   ],
   "source": [
    "print [random.normalvariate(0, 1) for _ in range(10)]"
   ]
  },
  {
   "cell_type": "code",
   "execution_count": 24,
   "metadata": {},
   "outputs": [
    {
     "data": {
      "text/plain": [
       "(array([4.100e+01, 2.290e+02, 1.024e+03, 2.252e+03, 3.051e+03, 2.215e+03,\n",
       "        9.390e+02, 2.130e+02, 3.400e+01, 2.000e+00]),\n",
       " array([-3.42163323, -2.65962192, -1.8976106 , -1.13559928, -0.37358797,\n",
       "         0.38842335,  1.15043466,  1.91244598,  2.6744573 ,  3.43646861,\n",
       "         4.19847993]),\n",
       " <a list of 10 Patch objects>)"
      ]
     },
     "execution_count": 24,
     "metadata": {},
     "output_type": "execute_result"
    },
    {
     "data": {
      "image/png": "[encoded data removed]",
      "text/plain": [
       "<Figure size 432x288 with 1 Axes>"
      ]
     },
     "metadata": {
      "needs_background": "light"
     },
     "output_type": "display_data"
    }
   ],
   "source": [
    "%matplotlib inline\n",
    "import matplotlib.pyplot as plt\n",
    "\n",
    "N = 10000\n",
    "num_bins = 10\n",
    "\n",
    "plt.hist([random.normalvariate(0, 1) for _ in range(N)], num_bins)"
   ]
  },
  {
   "cell_type": "code",
   "execution_count": 9,
   "metadata": {},
   "outputs": [
    {
     "name": "stdout",
     "output_type": "stream",
     "text": [
      "0 * * * * * * * * * * \n",
      "1 * * * * * * * * * * \n",
      "2 * * * * * * * * * \n",
      "3 * * * * * * * * * \n",
      "4 * * * * * * * * * * \n",
      "5 * * * * * * * * * * \n",
      "6 * * * * * * * * * \n",
      "7 * * * * * * * * * \n",
      "8 * * * * * * * * * \n",
      "9 * * * * * * * * * \n"
     ]
    }
   ],
   "source": [
    "import random\n",
    "\n",
    "N = 100000\n",
    "\n",
    "num_bins = 10\n",
    "\n",
    "bins = [0 for x in range(num_bins)]\n",
    "\n",
    "for i in range(N):\n",
    "    bins[random.randrange(100) // num_bins] += 1\n",
    "\n",
    "for i, count in enumerate(bins):\n",
    "    print i, \n",
    "    for j in range(count // 1000):\n",
    "        print \"*\",\n",
    "    print \"\"\n",
    "    "
   ]
  },
  {
   "cell_type": "code",
   "execution_count": null,
   "metadata": {},
   "outputs": [],
   "source": [
    "\n"
   ]
  }
 ],
 "metadata": {
  "kernelspec": {
   "display_name": "Python 2",
   "language": "python",
   "name": "python2"
  },
  "language_info": {
   "codemirror_mode": {
    "name": "ipython",
    "version": 2
   },
   "file_extension": ".py",
   "mimetype": "text/x-python",
   "name": "python",
   "nbconvert_exporter": "python",
   "pygments_lexer": "ipython2",
   "version": "2.7.13"
  }
 },
 "nbformat": 4,
 "nbformat_minor": 2
}
