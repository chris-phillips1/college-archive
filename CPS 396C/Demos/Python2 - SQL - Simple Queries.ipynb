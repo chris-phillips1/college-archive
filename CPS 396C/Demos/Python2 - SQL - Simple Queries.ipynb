{
 "cells": [
  {
   "cell_type": "markdown",
   "metadata": {},
   "source": [
    "SQL - Simple Queries\n",
    "======\n"
   ]
  },
  {
   "cell_type": "markdown",
   "metadata": {},
   "source": [
    "Python can simulate working with a SQL database.  This is done using SQLite"
   ]
  },
  {
   "cell_type": "code",
   "execution_count": null,
   "metadata": {},
   "outputs": [],
   "source": [
    "import sqlite3\n",
    "conn = sqlite3.connect('simple_demo.db') # Name of the database to connect to.  \n",
    "                                         # This will open or create a similiarly named file.\n",
    "\n",
    "c = conn.cursor()"
   ]
  },
  {
   "cell_type": "code",
   "execution_count": null,
   "metadata": {},
   "outputs": [],
   "source": [
    "# Drop existing table (if present)\n",
    "c.execute(\"DROP TABLE IF EXISTS users\")\n",
    "\n",
    "# Create users table\n",
    "#c.execute(\"CREATE TABLE users(USER_ID INTEGER NOT NULL, NAME TEXT, NUM_FRIENDS INTEGER)\")\n",
    "c.execute(\"CREATE TABLE users(USER_ID INTEGER NOT NULL, NAME VARCHAR(20), NUM_FRIENDS INTEGER)\")\n",
    "\n",
    "# Populate\n",
    "c.execute(\"INSERT INTO users VALUES (0, 'Hero', 0)\")\n",
    "c.execute(\"INSERT INTO users VALUES (1, 'Dunn', 2)\")\n",
    "c.execute(\"INSERT INTO users VALUES (2, 'Sue', 3)\")\n",
    "\n",
    "# Additional users to add\n",
    "additional_users = [(3, \"Chi\", 3), (4, \"Thor\", 3), (5, \"Clive\", 2), (6, \"Hicks\", 3), (7, \"Devin\", 2),\n",
    "                    (8, \"Kate\", 2), (9, \"Klein\", 3), (10, \"Jen\", 1)]\n",
    "\n",
    "c.executemany(\"INSERT INTO users VALUES (?,?,?)\", additional_users)"
   ]
  },
  {
   "cell_type": "markdown",
   "metadata": {},
   "source": [
    "The results of a query are accessible by 'fetching'.  If multiple results are generated, the can be returned as a list.  "
   ]
  },
  {
   "cell_type": "code",
   "execution_count": null,
   "metadata": {},
   "outputs": [],
   "source": [
    "c.execute(\"SELECT * FROM users\")\n",
    "rows = c.fetchall()\n",
    "print rows"
   ]
  },
  {
   "cell_type": "markdown",
   "metadata": {},
   "source": [
    "Selection statements can qualified.  Results can be filtered, aggregated and ordered."
   ]
  },
  {
   "cell_type": "code",
   "execution_count": null,
   "metadata": {},
   "outputs": [],
   "source": [
    "c.execute(\"SELECT name FROM users\")\n",
    "rows = c.fetchall()\n",
    "print rows\n",
    "\n",
    "c.execute(\"SELECT * FROM users WHERE NUM_FRIENDS > 2\")\n",
    "rows = c.fetchall()\n",
    "print rows\n",
    "\n",
    "c.execute(\"SELECT COUNT(*) FROM users WHERE NUM_FRIENDS > 2\")\n",
    "print c.fetchone()\n",
    "\n",
    "c.execute(\"SELECT name, num_friends FROM users ORDER BY num_friends DESC LIMIT 8\")\n",
    "print c.fetchall()"
   ]
  },
  {
   "cell_type": "markdown",
   "metadata": {},
   "source": [
    "Table names in the database are stored in the sqlite_master table.  This is specific to SQLite. "
   ]
  },
  {
   "cell_type": "code",
   "execution_count": null,
   "metadata": {},
   "outputs": [],
   "source": [
    "c.execute(\"SELECT name FROM sqlite_master WHERE type=='table'\")\n",
    "print c.fetchall()"
   ]
  },
  {
   "cell_type": "markdown",
   "metadata": {},
   "source": [
    "Here we will create another table for user interests and populate it."
   ]
  },
  {
   "cell_type": "code",
   "execution_count": null,
   "metadata": {},
   "outputs": [],
   "source": [
    "c.execute(\"DROP TABLE IF EXISTS user_interests\")\n",
    "\n",
    "# Create users table\n",
    "c.execute(\"CREATE TABLE user_interests(USER_ID INTEGER NOT NULL, INTEREST TEXT)\")\n",
    "\n",
    "# Populate\n",
    "c.executemany(\"INSERT INTO user_interests VALUES(?,?)\", [(0, \"SQL\"), (1, \"NoSQL\"), (2, \"SQL\"), (3, \"NoSQL\")])\n",
    "\n",
    "c.execute(\"SELECT interest, COUNT(*) FROM user_interests GROUP BY INTEREST\")\n",
    "print c.fetchall()"
   ]
  }
 ],
 "metadata": {
  "kernelspec": {
   "display_name": "Python 2",
   "language": "python",
   "name": "python2"
  },
  "language_info": {
   "codemirror_mode": {
    "name": "ipython",
    "version": 2
   },
   "file_extension": ".py",
   "mimetype": "text/x-python",
   "name": "python",
   "nbconvert_exporter": "python",
   "pygments_lexer": "ipython2",
   "version": "2.7.13"
  }
 },
 "nbformat": 4,
 "nbformat_minor": 2
}
