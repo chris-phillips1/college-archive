{
 "cells": [
  {
   "cell_type": "markdown",
   "metadata": {},
   "source": [
    "Descriptive Statistics\n",
    "=====\n",
    "\n",
    "Some of the code contained within this notebook is from Ch. 5 of *Data Science from Scratch* by J. Grus.\n",
    "\n"
   ]
  },
  {
   "cell_type": "markdown",
   "metadata": {},
   "source": [
    "Imagine someone gives you a set of data.  Perhaps it is data on friendships (e.g., how many a friends a person has, a list of friends for each person, etc.)  You are asked to say *something* about the data.  In otherwords, you need to summarize the data or provide some sort of summary description about characteristics of the data.  Exactly how you do this will likely depend on your needs and what you are trying to communicate.  One way to summarize and describe your data is making use of [descriptive statistics](https://towardsdatascience.com/understanding-descriptive-statistics-c9c2b0641291)."
   ]
  },
  {
   "cell_type": "markdown",
   "metadata": {},
   "source": [
    "Consider some data taken from a survey of the residents of *fooville*.  It represents the self-reported number of friends by each resident.\n"
   ]
  },
  {
   "cell_type": "code",
   "execution_count": 1,
   "metadata": {},
   "outputs": [],
   "source": [
    "num_friends = [100,49,41,40,25,21,21,19,19,18,18,16,15,15,15,15,14,14,13,13,13,13,12,12,11,10,10,10,10,10,10,10,10,10,10,10,10,10,10,10,9,9,9,9,9,9,9,9,9,9,9,9,9,9,9,9,9,9,8,8,8,8,8,8,8,8,8,8,8,8,8,7,7,7,7,7,7,7,7,7,7,7,7,7,7,7,6,6,6,6,6,6,6,6,6,6,6,6,6,6,6,6,6,6,6,6,6,6,5,5,5,5,5,5,5,5,5,5,5,5,5,5,5,5,5,4,4,4,4,4,4,4,4,4,4,4,4,4,4,4,4,4,4,4,4,3,3,3,3,3,3,3,3,3,3,3,3,3,3,3,3,3,3,3,3,2,2,2,2,2,2,2,2,2,2,2,2,2,2,2,2,2,1,1,1,1,1,1,1,1,1,1,1,1,1,1,1,1,1,1,1,1,1,1]\n"
   ]
  },
  {
   "cell_type": "markdown",
   "metadata": {},
   "source": [
    "1) How might we get a sense of the overall friendliness of *fooville*?  "
   ]
  },
  {
   "cell_type": "code",
   "execution_count": 4,
   "metadata": {},
   "outputs": [
    {
     "data": {
      "text/plain": [
       "<BarContainer object of 101 artists>"
      ]
     },
     "execution_count": 4,
     "metadata": {},
     "output_type": "execute_result"
    },
    {
     "data": {
      "image/png": "[encoded data removed]",
      "text/plain": [
       "<Figure size 432x288 with 1 Axes>"
      ]
     },
     "metadata": {
      "needs_background": "light"
     },
     "output_type": "display_data"
    }
   ],
   "source": [
    "%matplotlib inline\n",
    "from collections import Counter\n",
    "import matplotlib.pyplot as plt\n",
    "\n",
    "friends_counts = Counter(num_friends)\n",
    "\n",
    "xs = range(101)\n",
    "ys = [friends_counts[i] for i in xs]\n",
    "\n",
    "plt.title(\"Histogram of Friend Counts\")\n",
    "plt.xlabel(\"Number of Friends\")\n",
    "plt.ylabel(\"Frequency of Occurence\")\n",
    "plt.bar(xs, ys)\n"
   ]
  },
  {
   "cell_type": "markdown",
   "metadata": {},
   "source": [
    "We would could consider the total number of friendships or the maximum or minimum number of friendships."
   ]
  },
  {
   "cell_type": "code",
   "execution_count": 5,
   "metadata": {},
   "outputs": [
    {
     "name": "stdout",
     "output_type": "stream",
     "text": [
      "Total number of friendships: 1496 Friend count of the friendliest resident: 100 Friend count of the lonliest resident: 1\n"
     ]
    }
   ],
   "source": [
    "### Solution ###\n",
    "\n",
    "total_num_friendships = sum(num_friends)\n",
    "friendliest_num_friends = max(num_friends)\n",
    "lonliest_num_friends = min(num_friends)\n",
    "\n",
    "print \"Total number of friendships:\", total_num_friendships, \n",
    "print \"Friend count of the friendliest resident:\", friendliest_num_friends,\n",
    "print \"Friend count of the lonliest resident:\", lonliest_num_friends"
   ]
  },
  {
   "cell_type": "markdown",
   "metadata": {},
   "source": [
    "## Central Tendencies\n",
    "\n",
    "The **mean**, or average, is one way to describe the central tendencies (i.e., \"middle\") of a dataset.  More formally, mean is defined as the sum of values in the dataset divided by the number of values.   "
   ]
  },
  {
   "cell_type": "code",
   "execution_count": 7,
   "metadata": {},
   "outputs": [
    {
     "name": "stdout",
     "output_type": "stream",
     "text": [
      "Average number of friends:  7.33333333333\n"
     ]
    }
   ],
   "source": [
    "from __future__ import division\n",
    "\n",
    "def mean(x):\n",
    "    return sum(x) / len(x)\n",
    "\n",
    "print \"Average number of friends: \", mean(num_friends)"
   ]
  },
  {
   "cell_type": "markdown",
   "metadata": {},
   "source": [
    "The **median** is another descriptor of the center of the dataset.  It is the middlemost value, or average of the two middlemost values, in the sorted data."
   ]
  },
  {
   "cell_type": "code",
   "execution_count": 8,
   "metadata": {},
   "outputs": [],
   "source": [
    "def median(x):\n",
    "    return 0"
   ]
  },
  {
   "cell_type": "code",
   "execution_count": 9,
   "metadata": {},
   "outputs": [],
   "source": [
    "### Solution ###\n",
    "from __future__ import division\n",
    "\n",
    "def mean(x): \n",
    "    return sum(x) / len(x)\n",
    "\n",
    "def median(v):\n",
    "    \"\"\"finds the 'middle-most' value of v\"\"\"\n",
    "    n = len(v)\n",
    "    sorted_v = sorted(v)\n",
    "    midpoint = n // 2\n",
    "    \n",
    "    if n % 2 == 1:\n",
    "        # if odd, return the middle value\n",
    "        return sorted_v[midpoint]\n",
    "    else:\n",
    "        # if even, return the average of the middle values\n",
    "        lo = midpoint - 1\n",
    "        hi = midpoint\n",
    "        return (sorted_v[lo] + sorted_v[hi]) / 2\n"
   ]
  },
  {
   "cell_type": "markdown",
   "metadata": {},
   "source": [
    "2) Notice what happens to the mean and median incomes in *fooville* after the arrival of two new residents."
   ]
  },
  {
   "cell_type": "code",
   "execution_count": 10,
   "metadata": {},
   "outputs": [
    {
     "name": "stdout",
     "output_type": "stream",
     "text": [
      "Mean and median salary of fooville: 50172.7777778 42000\n",
      "Mean and median salary of fooville: 158777.727273 45000\n"
     ]
    }
   ],
   "source": [
    "salaries = [25000, 37000, 15000, 42000, 19000, 65000, 98000, 100555, 50000]\n",
    "\n",
    "print \"Mean and median salary of fooville:\", mean(salaries), median(salaries)\n",
    "\n",
    "salaries.append(1250000)\n",
    "salaries.append(45000)\n",
    "\n",
    "print \"Mean and median salary of fooville:\", mean(salaries), median(salaries)"
   ]
  },
  {
   "cell_type": "markdown",
   "metadata": {},
   "source": [
    "As an exention of the median, we could consider **quantiles**.  A quantile indicates what value in the data represents a certain percentile in data.  As an example, if the 75th quantile was 9 then 75% of the data is less than or equal to 9  \n",
    "\n",
    "The median is the same as the 50th percentile.  "
   ]
  },
  {
   "cell_type": "code",
   "execution_count": 11,
   "metadata": {},
   "outputs": [
    {
     "name": "stdout",
     "output_type": "stream",
     "text": [
      "1\n",
      "9\n"
     ]
    }
   ],
   "source": [
    "def quantile(x, p):\n",
    "    \"\"\"retruns the pth-percentile value in x\"\"\"\n",
    "    p_index = int(p * len(x))\n",
    "    return sorted(x)[p_index]\n",
    "\n",
    "print quantile(num_friends, 0.10)\n",
    "print quantile(num_friends, 0.75)"
   ]
  },
  {
   "cell_type": "markdown",
   "metadata": {},
   "source": [
    "The most common value (or values) in a data set is called the **mode**.  "
   ]
  },
  {
   "cell_type": "code",
   "execution_count": 12,
   "metadata": {},
   "outputs": [
    {
     "name": "stdout",
     "output_type": "stream",
     "text": [
      "[1, 6]\n"
     ]
    }
   ],
   "source": [
    "from collections import Counter\n",
    "\n",
    "def mode(x):\n",
    "    \"\"\"return a list, might be more than one mode\"\"\"\n",
    "    ### Solution ###\n",
    "    counts = Counter(x)\n",
    "    max_count = max(counts.values())\n",
    "    return [x_i for x_i, count in counts.iteritems()\n",
    "            if count == max_count]\n",
    "\n",
    "print mode(num_friends)"
   ]
  },
  {
   "cell_type": "markdown",
   "metadata": {},
   "source": [
    "## Dispersion\n",
    "\n",
    "While the mean and median describe the *center* of the data, we may be interested in how spread out the data is.\n",
    "\n",
    "3) What seems like a reasonable way to measure dispersion?  \n"
   ]
  },
  {
   "cell_type": "code",
   "execution_count": 13,
   "metadata": {},
   "outputs": [
    {
     "name": "stdout",
     "output_type": "stream",
     "text": [
      "99\n"
     ]
    }
   ],
   "source": [
    "### Solution ###\n",
    "\n",
    "def rnge(x):\n",
    "    return max(x) - min(x)\n",
    "\n",
    "print rnge(num_friends)"
   ]
  },
  {
   "cell_type": "markdown",
   "metadata": {},
   "source": [
    "4) What drawbacks do you see with this approach?"
   ]
  },
  {
   "cell_type": "code",
   "execution_count": 14,
   "metadata": {},
   "outputs": [
    {
     "name": "stdout",
     "output_type": "stream",
     "text": [
      "4\n",
      "200\n"
     ]
    }
   ],
   "source": [
    "### Solution ###\n",
    "\n",
    "num_enemies = [1, 3, 5, 3, 2]\n",
    "print rnge(num_enemies)\n",
    "\n",
    "num_enemies.extend([0, 200])\n",
    "print rnge(num_enemies)\n",
    "\n"
   ]
  },
  {
   "cell_type": "markdown",
   "metadata": {},
   "source": [
    "The **variance** is another measure of dispersion.  "
   ]
  },
  {
   "cell_type": "code",
   "execution_count": 15,
   "metadata": {},
   "outputs": [
    {
     "name": "stdout",
     "output_type": "stream",
     "text": [
      "81.5435139573 9.03014473623\n"
     ]
    }
   ],
   "source": [
    "import math\n",
    "\n",
    "def variance(x):\n",
    "    \"\"\"Formulation only makes sense if x has at least 2 elements\"\"\"\n",
    "    n = len(x)\n",
    "    \n",
    "    if n < 2:\n",
    "        return 0\n",
    "    \n",
    "    x_bar = mean(x)\n",
    "    deviations = [x_i - x_bar for x_i in x]\n",
    "    squared_deviations = [x_i ** 2 for x_i in deviations]\n",
    "    \n",
    "    return sum(squared_deviations) / (n - 1)   # N.B. dividing by n-1 since we are viewing x as a sample  \n",
    "\n",
    "def standard_deviation(x):\n",
    "    return math.sqrt(variance(x))\n",
    "\n",
    "print variance(num_friends), standard_deviation(num_friends)"
   ]
  },
  {
   "cell_type": "markdown",
   "metadata": {},
   "source": [
    "5) What is this telling us?  Do you think this measure will be robust to outliers?"
   ]
  },
  {
   "cell_type": "code",
   "execution_count": 16,
   "metadata": {},
   "outputs": [
    {
     "name": "stdout",
     "output_type": "stream",
     "text": [
      "1.48323969742\n",
      "74.7280784865\n"
     ]
    }
   ],
   "source": [
    "### Solution ###\n",
    "num_enemies = [1, 3, 5, 3, 2]\n",
    "print standard_deviation(num_enemies)\n",
    "\n",
    "num_enemies.extend([0, 200])\n",
    "print standard_deviation(num_enemies)"
   ]
  },
  {
   "cell_type": "markdown",
   "metadata": {},
   "source": [
    "Another measure of dispersion is the interquartile range"
   ]
  },
  {
   "cell_type": "code",
   "execution_count": 17,
   "metadata": {},
   "outputs": [
    {
     "name": "stdout",
     "output_type": "stream",
     "text": [
      "6\n",
      "1\n",
      "4\n"
     ]
    }
   ],
   "source": [
    "def interquartile_range(x):\n",
    "    return quantile(x, 0.75) - quantile(x, 0.25)\n",
    "\n",
    "print interquartile_range(num_friends)\n",
    "\n",
    "num_enemies = [1, 3, 5, 3, 2]\n",
    "print interquartile_range(num_enemies)\n",
    "\n",
    "num_enemies.extend([0, 200])\n",
    "print interquartile_range(num_enemies)\n"
   ]
  },
  {
   "cell_type": "markdown",
   "metadata": {},
   "source": [
    "## Correlation\n",
    "\n",
    "So far, we have limited ourselves to a dataset of values of one type.  What if we had a pair of values, or two datasets that were linked?  \n",
    "\n",
    "Let's assume that the data that we have on the number of friends is for users of the DataSciencester website.  We also have the average number of minutes the user spends on the website.  Is there a relationship between the two?"
   ]
  },
  {
   "cell_type": "code",
   "execution_count": 18,
   "metadata": {},
   "outputs": [
    {
     "name": "stdout",
     "output_type": "stream",
     "text": [
      "22.4254351396\n"
     ]
    }
   ],
   "source": [
    "daily_minutes = [1,68.77,51.25,52.08,38.36,44.54,57.13,51.4,41.42,31.22,34.76,54.01,38.79,47.59,49.1,27.66,41.03,36.73,48.65,28.12,46.62,35.57,32.98,35,26.07,23.77,39.73,40.57,31.65,31.21,36.32,20.45,21.93,26.02,27.34,23.49,46.94,30.5,33.8,24.23,21.4,27.94,32.24,40.57,25.07,19.42,22.39,18.42,46.96,23.72,26.41,26.97,36.76,40.32,35.02,29.47,30.2,31,38.11,38.18,36.31,21.03,30.86,36.07,28.66,29.08,37.28,15.28,24.17,22.31,30.17,25.53,19.85,35.37,44.6,17.23,13.47,26.33,35.02,32.09,24.81,19.33,28.77,24.26,31.98,25.73,24.86,16.28,34.51,15.23,39.72,40.8,26.06,35.76,34.76,16.13,44.04,18.03,19.65,32.62,35.59,39.43,14.18,35.24,40.13,41.82,35.45,36.07,43.67,24.61,20.9,21.9,18.79,27.61,27.21,26.61,29.77,20.59,27.53,13.82,33.2,25,33.1,36.65,18.63,14.87,22.2,36.81,25.53,24.62,26.25,18.21,28.08,19.42,29.79,32.8,35.99,28.32,27.79,35.88,29.06,36.28,14.1,36.63,37.49,26.9,18.58,38.48,24.48,18.95,33.55,14.24,29.04,32.51,25.63,22.22,19,32.73,15.16,13.9,27.2,32.01,29.27,33,13.74,20.42,27.32,18.23,35.35,28.48,9.08,24.62,20.12,35.26,19.92,31.02,16.49,12.16,30.7,31.22,34.65,13.13,27.51,33.2,31.57,14.1,33.42,17.44,10.12,24.42,9.82,23.39,30.93,15.03,21.67,31.09,33.29,22.61,26.89,23.48,8.38,27.81,32.35,23.84]\n",
    "\n",
    "def dot(v, w):\n",
    "    \"\"\"v_1 * w_1 + ... + v_n * w_n\"\"\"\n",
    "    return sum(v_i * w_i for v_i, w_i in zip(v, w))\n",
    "\n",
    "def covariance(x, y):\n",
    "    n = len(x)    \n",
    "    de_mean_x = [x_i - mean(x) for x_i in x]\n",
    "    de_mean_y = [y_i - mean(y) for y_i in y]\n",
    "    \n",
    "    return dot(de_mean_x, de_mean_y) / (n - 1)\n",
    "    \n",
    "print covariance(num_friends, daily_minutes)\n"
   ]
  },
  {
   "cell_type": "markdown",
   "metadata": {},
   "source": [
    "The **covariance** looks at how the two variables vary from their respect means in tandem.  The dot product sums the products of the two lists.  Think about what happens to the products when they deviate the same direction (either above or below the means) or in opposite directions? \n",
    "\n",
    "The **correlation** divides by the standard deviations of each variable and gives a unitless value between -1 and 1.  0 indicates no correlation and -1 or 1 a negative or positive correlation, respectively.   "
   ]
  },
  {
   "cell_type": "code",
   "execution_count": 19,
   "metadata": {},
   "outputs": [
    {
     "name": "stdout",
     "output_type": "stream",
     "text": [
      "0.247369573665\n"
     ]
    }
   ],
   "source": [
    "def correlation(x, y):\n",
    "    stdev_x = standard_deviation(x)\n",
    "    stdev_y = standard_deviation(y)\n",
    "    if stdev_x > 0 and stdev_y > 0:\n",
    "        return covariance(x, y) / stdev_x / stdev_y\n",
    "    else:\n",
    "        return 0 # if no variation, correlation is zero\n",
    "    \n",
    "print correlation(num_friends, daily_minutes)"
   ]
  },
  {
   "cell_type": "markdown",
   "metadata": {},
   "source": [
    "Let's plot the data as well (and we probably should have done this first)."
   ]
  },
  {
   "cell_type": "code",
   "execution_count": 20,
   "metadata": {},
   "outputs": [
    {
     "data": {
      "text/plain": [
       "Text(0,0.5,'minutes per day')"
      ]
     },
     "execution_count": 20,
     "metadata": {},
     "output_type": "execute_result"
    },
    {
     "data": {
      "image/png": "[encoded data removed]",
      "text/plain": [
       "<Figure size 432x288 with 1 Axes>"
      ]
     },
     "metadata": {
      "needs_background": "light"
     },
     "output_type": "display_data"
    }
   ],
   "source": [
    "%matplotlib inline\n",
    "import matplotlib.pyplot as plt\n",
    "\n",
    "plt.scatter(num_friends, daily_minutes)\n",
    "plt.axis([0,105,-5,100])\n",
    "plt.title(\"Correlation with an Outlier\")\n",
    "plt.xlabel(\"# of friends\")\n",
    "plt.ylabel(\"minutes per day\")"
   ]
  },
  {
   "cell_type": "markdown",
   "metadata": {},
   "source": [
    "Whoa!  There seems to be one value that is way out of place.  How about we remove it !?!"
   ]
  },
  {
   "cell_type": "code",
   "execution_count": 21,
   "metadata": {},
   "outputs": [
    {
     "name": "stdout",
     "output_type": "stream",
     "text": [
      "0.573679211567\n"
     ]
    },
    {
     "data": {
      "image/png": "[encoded data removed]",
      "text/plain": [
       "<Figure size 432x288 with 1 Axes>"
      ]
     },
     "metadata": {
      "needs_background": "light"
     },
     "output_type": "display_data"
    }
   ],
   "source": [
    "outlier = num_friends.index(100) # index of outlier\n",
    "\n",
    "num_friends_good = [x \n",
    "                    for i, x in enumerate(num_friends) \n",
    "                    if i != outlier]\n",
    "\n",
    "daily_minutes_good = [x \n",
    "                      for i, x in enumerate(daily_minutes) \n",
    "                      if i != outlier]\n",
    "\n",
    "%matplotlib inline\n",
    "import matplotlib.pyplot as plt\n",
    "\n",
    "plt.scatter(num_friends_good, daily_minutes_good)\n",
    "plt.axis([0,105,-5,100])\n",
    "plt.title(\"Correlation after Remove the Outlier\")\n",
    "plt.xlabel(\"# of friends\")\n",
    "plt.ylabel(\"minutes per day\")\n",
    "\n",
    "print correlation(num_friends_good, daily_minutes_good)"
   ]
  },
  {
   "cell_type": "markdown",
   "metadata": {},
   "source": [
    "## Correlation vs Causation\n",
    "\n",
    "6) What can we say then about the friendliness of users and the time spend on the website?\n",
    "\n",
    "Finally, when looking at samples, we should be wary of any cofounding variables.  If possible, we need to make sure that our data is coming for samples that are not somehow biased (i.e., a cofounding variable).  Otherwise, the relationship we see may have to do with something else.  "
   ]
  }
 ],
 "metadata": {
  "kernelspec": {
   "display_name": "Python 2",
   "language": "python",
   "name": "python2"
  },
  "language_info": {
   "codemirror_mode": {
    "name": "ipython",
    "version": 2
   },
   "file_extension": ".py",
   "mimetype": "text/x-python",
   "name": "python",
   "nbconvert_exporter": "python",
   "pygments_lexer": "ipython2",
   "version": "2.7.13"
  }
 },
 "nbformat": 4,
 "nbformat_minor": 2
}
