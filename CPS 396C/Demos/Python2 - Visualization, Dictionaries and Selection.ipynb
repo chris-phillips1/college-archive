{
 "cells": [
  {
   "cell_type": "markdown",
   "metadata": {},
   "source": [
    "Visualization, Dictionaries and Selection\n",
    "=====\n",
    "\n",
    "Some of the code contained within this notebook is from Ch. 3 of *Data Science from Scratch* by J. Grus.\n",
    "\n"
   ]
  },
  {
   "cell_type": "markdown",
   "metadata": {},
   "source": [
    "A fundamental data structure is a **dictionary** that allows you to store and access key-value pairs. \n"
   ]
  },
  {
   "cell_type": "code",
   "execution_count": 21,
   "metadata": {},
   "outputs": [
    {
     "name": "stdout",
     "output_type": "stream",
     "text": [
      "{}\n",
      "{'boo': 'foo'}\n",
      "up chips?\n",
      "{'moe': 'doe', 'boo': 'foo'}\n",
      "['moe', 'boo'] ['doe', 'foo'] [('moe', 'doe'), ('boo', 'foo')]\n"
     ]
    }
   ],
   "source": [
    "# Initialize an empty dictionary\n",
    "empty = {}\n",
    "print empty\n",
    "\n",
    "# Add/set a key/value pair\n",
    "empty[\"boo\"] = 'foo' \n",
    "print empty\n",
    "\n",
    "# What happens if the key is not in the dictionary?\n",
    "# print empty[\"fire\"]\n",
    "print empty.get(\"fire\", \"up chips?\")\n",
    "\n",
    "# Initialize a dictionary with a literal\n",
    "not_empty = {'boo': 'foo', 'moe': 'doe'}\n",
    "print not_empty\n",
    "\n",
    "# You can grab lists of the keys, values or key-value pairs\n",
    "print not_empty.keys(), not_empty.values(), not_empty.items()"
   ]
  },
  {
   "cell_type": "markdown",
   "metadata": {},
   "source": [
    "It's possible to create a dictionary from a list in which the elements are the keys and the value are the counts.  This makes use of a **Counter** form the collections module."
   ]
  },
  {
   "cell_type": "code",
   "execution_count": 22,
   "metadata": {},
   "outputs": [
    {
     "name": "stdout",
     "output_type": "stream",
     "text": [
      "Counter({0: 2, 1: 1, 2: 1})\n"
     ]
    }
   ],
   "source": [
    "from collections import Counter\n",
    "c = Counter([0, 1, 2, 0])\n",
    "\n",
    "print c "
   ]
  },
  {
   "cell_type": "markdown",
   "metadata": {},
   "source": [
    "Other data structures are **sets** and **tuples**.  Sets are a collection of distinct elements.  It is not possible to access these individually.  Set memberships can quickly be tested."
   ]
  },
  {
   "cell_type": "code",
   "execution_count": 23,
   "metadata": {},
   "outputs": [
    {
     "name": "stdout",
     "output_type": "stream",
     "text": [
      "3\n",
      "Is 'c' in s: True\n",
      "Is 'd' in s: False\n",
      "['h', 'i', ' ', 't', 'h', 'e', 'r', 'e'] set([' ', 'e', 'i', 'h', 'r', 't']) [' ', 'e', 'i', 'h', 'r', 't']\n"
     ]
    }
   ],
   "source": [
    "s = set()\n",
    "s.add('a')\n",
    "s.add('b')\n",
    "s.add('c')\n",
    "\n",
    "print len(s) # Number of elements in set\n",
    "\n",
    "s.add('c') # What does this do?\n",
    "\n",
    "print \"Is 'c' in s:\", 'c' in s\n",
    "print \"Is 'd' in s:\", 'd' in s\n",
    "\n",
    "letters = list(\"hi there\") # str to list\n",
    "chars = set(letters) # list to set\n",
    "distinct_letters = list(chars) # set to list\n",
    "\n",
    "print letters, chars, distinct_letters\n"
   ]
  },
  {
   "cell_type": "markdown",
   "metadata": {},
   "source": [
    "**tuples** are similiar to list but are immutable.  "
   ]
  },
  {
   "cell_type": "code",
   "execution_count": 24,
   "metadata": {},
   "outputs": [
    {
     "name": "stdout",
     "output_type": "stream",
     "text": [
      "my_list 1 2\n",
      "my_tuple 1 2\n",
      "0 1\n",
      "1 2\n"
     ]
    }
   ],
   "source": [
    "my_list = [1, 2]\n",
    "my_tuple = (1, 2)\n",
    "\n",
    "my_list.append(3)\n",
    "#my_tuple.append(3) # No, no\n",
    "#my_tuple[1] = 2    # No, no, no\n",
    "\n",
    "print \"my_list\", my_list[0], my_list[1]\n",
    "print \"my_tuple\", my_tuple[0], my_tuple[1]\n",
    "\n",
    "for i, num in enumerate(my_tuple):\n",
    "    print i, num"
   ]
  },
  {
   "cell_type": "markdown",
   "metadata": {},
   "source": [
    "Selection is primarly accomplished with `if` or `if/else`."
   ]
  },
  {
   "cell_type": "code",
   "execution_count": 25,
   "metadata": {},
   "outputs": [
    {
     "name": "stdout",
     "output_type": "stream",
     "text": [
      "0, 1, 2 or 3\n"
     ]
    }
   ],
   "source": [
    "num = 3\n",
    "\n",
    "if num > 3:\n",
    "    print \"num is greater than 3\"\n",
    "elif num < 0:\n",
    "    print \"num is negative\"\n",
    "else:\n",
    "    print \"0, 1, 2 or 3\"\n"
   ]
  },
  {
   "cell_type": "markdown",
   "metadata": {},
   "source": [
    "We will make use of a library called matplotlib.  It works well for simple plots, bar graphs and line charts.  With jupyter, it is advisable to use `%matplotlib inline`.  This is an iPython magic command that places a plot in the notebook.  \n",
    "\n",
    "With matplotlib.  Data is passed into a function to build up a particular type of plot.  It is then displayed with `show()`.\n"
   ]
  },
  {
   "cell_type": "markdown",
   "metadata": {},
   "source": [
    "A simple line plot can be constructed through a set of parallel arrays.  Then use `plot` and pass in the independent and dependent varaibles, respectively."
   ]
  },
  {
   "cell_type": "code",
   "execution_count": 6,
   "metadata": {},
   "outputs": [
    {
     "data": {
      "image/png": "[encoded data removed]",
      "text/plain": [
       "<Figure size 432x288 with 1 Axes>"
      ]
     },
     "metadata": {
      "needs_background": "light"
     },
     "output_type": "display_data"
    }
   ],
   "source": [
    "%matplotlib inline\n",
    "import matplotlib.pyplot as plt\n",
    "from collections import Counter\n",
    "\n",
    "years = [1950, 1960, 1970, 1980, 1990, 2000, 2010]\n",
    "gdp = [300.2, 543.3, 1075.9, 2862.5, 5979.6, 10289.7, 14958.3]\n",
    "\n",
    "# create a line chart, years on x-axis, gdp on y-axis\n",
    "plt.plot(years, gdp, color='green', marker='o', linestyle='solid')\n",
    "\n",
    "# add a title\n",
    "plt.title(\"Nominal GDP\")\n",
    "\n",
    "# add a label to the y-axis\n",
    "plt.ylabel(\"Billions of $\")\n",
    "plt.show()"
   ]
  },
  {
   "cell_type": "markdown",
   "metadata": {},
   "source": [
    "A bar chart works well to show counts of distinct items.  Parallel arrays are used to keep track of the item/category names and counts.  Additonally, we have to specify where each bar will be placed.  Labels can be placed using `xticks`."
   ]
  },
  {
   "cell_type": "code",
   "execution_count": 7,
   "metadata": {},
   "outputs": [
    {
     "data": {
      "image/png": "[encoded data removed]",
      "text/plain": [
       "<Figure size 432x288 with 1 Axes>"
      ]
     },
     "metadata": {
      "needs_background": "light"
     },
     "output_type": "display_data"
    }
   ],
   "source": [
    "movies = [\"Annie Hall\", \"Ben-Hur\", \"Casablanca\", \"Gandhi\", \"West Side Story\"]\n",
    "num_oscars = [5, 11, 3, 8, 10]\n",
    "\n",
    "plt.bar([i for i, _ in enumerate(movies)], num_oscars) # Provide a location for each bar\n",
    "plt.xticks(range(len(movies)), movies) # Provide a location along with name for each movie\n",
    "\n",
    "plt.show()"
   ]
  },
  {
   "cell_type": "code",
   "execution_count": 15,
   "metadata": {},
   "outputs": [
    {
     "data": {
      "image/png": "[encoded data removed]",
      "text/plain": [
       "<Figure size 432x288 with 1 Axes>"
      ]
     },
     "metadata": {
      "needs_background": "light"
     },
     "output_type": "display_data"
    }
   ],
   "source": [
    "movies = [\"Annie Hall\", \"Ben-Hur\", \"Casablanca\", \"Gandhi\", \"West Side Story\"]\n",
    "num_oscars = [5, 11, 3, 8, 10]\n",
    "\n",
    "# bars are by default width 0.8, so we'll add 0.1 to the left coordinates\n",
    "# so that each bar is centered\n",
    "xs = [i + 0.1 for i, _ in enumerate(movies)]\n",
    "\n",
    "# plot bars with left x-coordinates [xs], heights [num_oscars]\n",
    "plt.bar(xs, num_oscars)\n",
    "plt.ylabel(\"# of Academy Awards\")\n",
    "plt.title(\"My Favorite Movies\")\n",
    "\n",
    "# label x-axis with movie names at bar centers\n",
    "plt.xticks([i + 0.5 for i, _ in enumerate(movies)], movies)\n",
    "    \n",
    "plt.show()"
   ]
  },
  {
   "cell_type": "markdown",
   "metadata": {},
   "source": [
    "A bar chart can be used to create a histogram but we need to bin the data first and then show the counts for each bin.  Round down each grade to 10, 20, 30, etc. and then count the number of each one.  What is being counted can be used as the location for the bin in the x axis.  "
   ]
  },
  {
   "cell_type": "code",
   "execution_count": 16,
   "metadata": {},
   "outputs": [
    {
     "data": {
      "image/png": "[encoded data removed]",
      "text/plain": [
       "<Figure size 432x288 with 1 Axes>"
      ]
     },
     "metadata": {
      "needs_background": "light"
     },
     "output_type": "display_data"
    }
   ],
   "source": [
    "grades = [83,95,91,87,70,0,85,82,100,67,73,77,0]\n",
    "\n",
    "#decile = lambda grade: grade // 10 * 10 \n",
    "#histogram = Counter(decile(grade) for grade in grades)\n",
    "\n",
    "decile_counts = [grade // 10 * 10 for grade in grades]\n",
    "histogram = Counter(decile_counts)\n",
    "\n",
    "plt.bar([x - 4 for x in histogram.keys()], # shift each bar to the left by 4\n",
    "         histogram.values(),                # give each bar its correct height\n",
    "         8)                                 # give each bar a width of 8\n",
    "plt.axis([-5, 105, 0, 5])                  # x-axis from -5 to 105,\n",
    "                                               # y-axis from 0 to 5\n",
    "plt.xticks([10 * i for i in range(11)])    # x-axis labels at 0, 10, ..., 100\n",
    "plt.xlabel(\"Decile\")\n",
    "plt.ylabel(\"# of Students\")\n",
    "plt.title(\"Distribution of Exam 1 Grades\")\n",
    "plt.show()"
   ]
  },
  {
   "cell_type": "markdown",
   "metadata": {},
   "source": [
    "A simple scatter plot can be created with parallel arrays.  "
   ]
  },
  {
   "cell_type": "code",
   "execution_count": 17,
   "metadata": {},
   "outputs": [
    {
     "data": {
      "text/plain": [
       "Text(0,0.5,'test 2 grade')"
      ]
     },
     "execution_count": 17,
     "metadata": {},
     "output_type": "execute_result"
    },
    {
     "data": {
      "image/png": "[encoded data removed]",
      "text/plain": [
       "<Figure size 432x288 with 1 Axes>"
      ]
     },
     "metadata": {
      "needs_background": "light"
     },
     "output_type": "display_data"
    }
   ],
   "source": [
    "test_1_grades = [ 99, 90, 85, 97, 80]\n",
    "test_2_grades = [100, 85, 60, 90, 70]\n",
    "\n",
    "plt.scatter(test_1_grades, test_2_grades)\n",
    "plt.xlabel(\"test 1 grade\")\n",
    "plt.ylabel(\"test 2 grade\")"
   ]
  },
  {
   "cell_type": "markdown",
   "metadata": {},
   "source": [
    "Labels can be added to points individually using `annotate`.  "
   ]
  },
  {
   "cell_type": "code",
   "execution_count": 18,
   "metadata": {},
   "outputs": [
    {
     "data": {
      "image/png": "[encoded data removed]",
      "text/plain": [
       "<Figure size 432x288 with 1 Axes>"
      ]
     },
     "metadata": {
      "needs_background": "light"
     },
     "output_type": "display_data"
    }
   ],
   "source": [
    "friends = [ 70, 65, 72, 63, 71, 64, 60, 64, 67]\n",
    "minutes = [175, 170, 205, 120, 220, 130, 105, 145, 190]\n",
    "labels = ['a', 'b', 'c', 'd', 'e', 'f', 'g', 'h', 'i']\n",
    "\n",
    "plt.scatter(friends, minutes)\n",
    "    \n",
    "# label each point\n",
    "for label, friend_count, minute_count in zip(labels, friends, minutes):  # What does zip do???\n",
    "    plt.annotate(label,\n",
    "                 xy=(friend_count, minute_count), # put the label with its point\n",
    "                 xytext=(5, -5), # but slightly offset\n",
    "                 textcoords='offset points')\n",
    "\n",
    "plt.title(\"Daily Minutes vs. Number of Friends\")\n",
    "plt.xlabel(\"# of friends\")\n",
    "plt.ylabel(\"daily minutes spent on the site\")\n",
    "plt.show()"
   ]
  },
  {
   "cell_type": "markdown",
   "metadata": {},
   "source": [
    "Pie charts are as simple as ..."
   ]
  },
  {
   "cell_type": "code",
   "execution_count": 19,
   "metadata": {},
   "outputs": [
    {
     "data": {
      "image/png": "[encoded data removed]",
      "text/plain": [
       "<Figure size 432x288 with 1 Axes>"
      ]
     },
     "metadata": {},
     "output_type": "display_data"
    }
   ],
   "source": [
    "plt.pie([0.85, 0.1, 0.05], labels=[\"Uses pie charts\", \"Knows better\", \"Don't care\"])\n",
    "\n",
    "# make sure pie is a circle and not an oval\n",
    "plt.axis(\"equal\")\n",
    "plt.show()"
   ]
  },
  {
   "cell_type": "code",
   "execution_count": null,
   "metadata": {},
   "outputs": [],
   "source": []
  }
 ],
 "metadata": {
  "kernelspec": {
   "display_name": "Python 2",
   "language": "python",
   "name": "python2"
  },
  "language_info": {
   "codemirror_mode": {
    "name": "ipython",
    "version": 2
   },
   "file_extension": ".py",
   "mimetype": "text/x-python",
   "name": "python",
   "nbconvert_exporter": "python",
   "pygments_lexer": "ipython2",
   "version": "2.7.13"
  }
 },
 "nbformat": 4,
 "nbformat_minor": 2
}
