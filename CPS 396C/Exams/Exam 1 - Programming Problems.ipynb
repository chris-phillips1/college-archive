{
 "cells": [
  {
   "cell_type": "code",
   "execution_count": null,
   "metadata": {},
   "outputs": [],
   "source": [
    "examScores = [36, 74, 32, 64, 85, 92, 100, 52, 65, 82, 72, 89, 42]\n",
    "\n",
    "# define a function for calculating the range of scores and use it to display the\n",
    "# range of the exam scores\n",
    "\n",
    "\n",
    "# using list comprehensions, determine the number of exam scores in the range 80-89\n",
    "# and 90-100\n",
    "\n",
    "\n",
    "# using index slicing, display the three lowest exam scores and the three highest\n",
    "# exam scores\n",
    "\n",
    "\n",
    "# visualize the exam scores data with some functionality of matplotlib"
   ]
  },
  {
   "cell_type": "code",
   "execution_count": null,
   "metadata": {},
   "outputs": [],
   "source": [
    "x = [1, 2, 3, 4, 5]\n",
    "# for i = 0 to i < len(x):\n",
    "# for i in x:\n",
    "# for i in range(4):\n",
    "print i\n",
    "\n",
    "if len(x) > 4:\n",
    "    print “lot of data”,\n",
    "elif len(x) > 2:\n",
    "    print “some data”"
   ]
  },
  {
   "cell_type": "code",
   "execution_count": 2,
   "metadata": {},
   "outputs": [
    {
     "name": "stdout",
     "output_type": "stream",
     "text": [
      "<type 'list'> 4\n"
     ]
    }
   ],
   "source": [
    "from collections import Counter\n",
    "interests = [\n",
    "(0, \"Hadoop\"), (0, \"Big Data\"), (0, \"HBase\"), (0, \"Java\"),\n",
    "(0, \"Spark\"), (0, \"Storm\"), (0, \"Cassandra\"),\n",
    "(1, \"NoSQL\"), (1, \"MongoDB\"), (1, \"Cassandra\"), (1, \"HBase\"),\n",
    "(1, \"Postgres\"), (2, \"Python\"), (2, \"scikit-learn\"), (2, \"scipy\"),\n",
    "(2, \"numpy\"), (2, \"statsmodels\"), (2, \"pandas\"), (3, \"R\"), (3, \"Python\")]\n",
    "\n",
    "M1 = [u for u, i in interests]\n",
    "M2 = set(M1)\n",
    "M3 = Counter([i for u, i in interests])\n",
    "              \n",
    "print type(M1), len(M2)"
   ]
  },
  {
   "cell_type": "code",
   "execution_count": null,
   "metadata": {},
   "outputs": [],
   "source": [
    "data = [1, 3, 5, 2, 4, 6, 9, 10]\n",
    "\n",
    "foo = [2 * x for x in data if x > 5]\n",
    "boo = data[:4]\n",
    "\n",
    "# data.extend(list(“abc”))\n"
   ]
  }
 ],
 "metadata": {
  "kernelspec": {
   "display_name": "Python 2",
   "language": "python",
   "name": "python2"
  },
  "language_info": {
   "codemirror_mode": {
    "name": "ipython",
    "version": 2
   },
   "file_extension": ".py",
   "mimetype": "text/x-python",
   "name": "python",
   "nbconvert_exporter": "python",
   "pygments_lexer": "ipython2",
   "version": "2.7.13"
  }
 },
 "nbformat": 4,
 "nbformat_minor": 2
}
