{
 "cells": [
  {
   "cell_type": "markdown",
   "metadata": {},
   "source": [
    "Introduction to DataScience - DataSciencester\n",
    "=====\n",
    "\n",
    "The code contained within this notebook is from Ch. 1 of *Data Science from Scratch* by J. Grus.\n",
    "\n",
    "Imagine that we would like to look at relationships in a company.  We could think of each person as node in a graph and an edge between nodes would represent a frienship.  "
   ]
  },
  {
   "cell_type": "code",
   "execution_count": null,
   "metadata": {},
   "outputs": [],
   "source": [
    "MY_NAME = \"Chris Phillips\" # <-- Your name here\n",
    "GROUP_ID = \"4\" # <-- Your group id here"
   ]
  },
  {
   "cell_type": "markdown",
   "metadata": {},
   "source": [
    "Imagine that we would like to look at relationships in a company. We could think of each person as node in a graph and an edge between nodes would represent a frienship."
   ]
  },
  {
   "cell_type": "code",
   "execution_count": 10,
   "metadata": {},
   "outputs": [
    {
     "name": "stdout",
     "output_type": "stream",
     "text": [
      "{'id': 0, 'name': 'Hero'}\n",
      "{'id': 1, 'name': 'Dunn'}\n",
      "{'id': 2, 'name': 'Sue'}\n",
      "{'id': 3, 'name': 'Chi'}\n",
      "{'id': 4, 'name': 'Thor'}\n",
      "{'id': 5, 'name': 'Clive'}\n",
      "{'id': 6, 'name': 'Hicks'}\n",
      "{'id': 7, 'name': 'Devin'}\n",
      "{'id': 8, 'name': 'Kate'}\n",
      "{'id': 9, 'name': 'Klein'}\n"
     ]
    }
   ],
   "source": [
    "users = [\n",
    "    { \"id\": 0, \"name\": \"Hero\"},\n",
    "    { \"id\": 1, \"name\": \"Dunn\"},\n",
    "    { \"id\": 2, \"name\": \"Sue\"},\n",
    "    { \"id\": 3, \"name\": \"Chi\"},\n",
    "    { \"id\": 4, \"name\": \"Thor\"},\n",
    "    { \"id\": 5, \"name\": \"Clive\"},\n",
    "    { \"id\": 6, \"name\": \"Hicks\"},\n",
    "    { \"id\": 7, \"name\": \"Devin\"},\n",
    "    { \"id\": 8, \"name\": \"Kate\"},\n",
    "    { \"id\": 9, \"name\": \"Klein\"},\n",
    "]\n",
    "\n",
    "friendships = [(0,1), (0,2), (1,2), (1,3), (2,3), (3,4), \n",
    "               (4,5), (5,6), (5,7), (6,8), (7,8), (8,9)]\n",
    "\n",
    "for user in users:\n",
    "    print user"
   ]
  },
  {
   "cell_type": "markdown",
   "metadata": {},
   "source": [
    "We might want to include a list of friends for each user.  For each tuple in the list of friendships, we will add the id of the friend to the friends list for each user.  "
   ]
  },
  {
   "cell_type": "code",
   "execution_count": 11,
   "metadata": {},
   "outputs": [],
   "source": [
    "for user in users:\n",
    "    user[\"friends\"] = []\n",
    "\n",
    "for i, j in friendships:\n",
    "    #print i, j  \n",
    "    users[i][\"friends\"].append(users[j][\"id\"])\n",
    "    users[j][\"friends\"].append(users[i][\"id\"])"
   ]
  },
  {
   "cell_type": "markdown",
   "metadata": {},
   "source": [
    "We could check our progress by printing out the contents of each user, along with its index in the `users` list.  "
   ]
  },
  {
   "cell_type": "code",
   "execution_count": 12,
   "metadata": {},
   "outputs": [
    {
     "name": "stdout",
     "output_type": "stream",
     "text": [
      "0 {'friends': [1, 2], 'id': 0, 'name': 'Hero'}\n",
      "1 {'friends': [0, 2, 3], 'id': 1, 'name': 'Dunn'}\n",
      "2 {'friends': [0, 1, 3], 'id': 2, 'name': 'Sue'}\n",
      "3 {'friends': [1, 2, 4], 'id': 3, 'name': 'Chi'}\n",
      "4 {'friends': [3, 5], 'id': 4, 'name': 'Thor'}\n",
      "5 {'friends': [4, 6, 7], 'id': 5, 'name': 'Clive'}\n",
      "6 {'friends': [5, 8], 'id': 6, 'name': 'Hicks'}\n",
      "7 {'friends': [5, 8], 'id': 7, 'name': 'Devin'}\n",
      "8 {'friends': [6, 7, 9], 'id': 8, 'name': 'Kate'}\n",
      "9 {'friends': [8], 'id': 9, 'name': 'Klein'}\n"
     ]
    }
   ],
   "source": [
    "for i, user in enumerate(users):\n",
    "    print i, user"
   ]
  },
  {
   "cell_type": "markdown",
   "metadata": {},
   "source": [
    "This is great, but looking the graph might be a better way to quickly see the relationships.  "
   ]
  },
  {
   "cell_type": "code",
   "execution_count": 13,
   "metadata": {},
   "outputs": [
    {
     "data": {
      "image/png": "[encoded data removed]",
      "text/plain": [
       "<Figure size 432x288 with 1 Axes>"
      ]
     },
     "metadata": {},
     "output_type": "display_data"
    }
   ],
   "source": [
    "%matplotlib inline\n",
    "\n",
    "import matplotlib.pyplot as plt\n",
    "import networkx as nx\n",
    "G = nx.Graph()\n",
    "\n",
    "G.add_edges_from(friendships)\n",
    "nx.draw(G, with_labels = True)"
   ]
  },
  {
   "cell_type": "markdown",
   "metadata": {},
   "source": [
    "Now suppose we are interested in how friendly our company is.  We could calculate the total number of friends.  "
   ]
  },
  {
   "cell_type": "code",
   "execution_count": 15,
   "metadata": {},
   "outputs": [
    {
     "name": "stdout",
     "output_type": "stream",
     "text": [
      "12\n"
     ]
    }
   ],
   "source": [
    "def number_of_friends(user):\n",
    "    return len(user[\"friends\"])\n",
    "\n",
    "# For each user in users, run number_of_friends on the user and then sum up the results.  \n",
    "total_friendships = len(friendships)\n",
    "\n",
    "print total_friendships"
   ]
  },
  {
   "cell_type": "markdown",
   "metadata": {},
   "source": [
    "1. Do you see anything wrong with this calculation?\n",
    "\n",
    "**Answer:** Friendships are being double-counted.\n",
    "    \n",
    "2. How else could you determine the number of friendships?\n",
    "\n",
    "**Answer:** We could count the number of edges in the graph (i.e. `len(friendships)`)"
   ]
  },
  {
   "cell_type": "markdown",
   "metadata": {},
   "source": [
    "We might want to know how friendly a `user` on average.  Let's calculate the average number of friends."
   ]
  },
  {
   "cell_type": "code",
   "execution_count": 16,
   "metadata": {},
   "outputs": [
    {
     "name": "stdout",
     "output_type": "stream",
     "text": [
      "1.2\n"
     ]
    }
   ],
   "source": [
    "from __future__ import division\n",
    "number_of_users = len(users)\n",
    "\n",
    "average_friends_per_user = total_friendships / number_of_users\n",
    "\n",
    "print average_friends_per_user"
   ]
  },
  {
   "cell_type": "markdown",
   "metadata": {},
   "source": [
    "What about determining who the friendliest users are?  We'll give them an award!"
   ]
  },
  {
   "cell_type": "code",
   "execution_count": 17,
   "metadata": {},
   "outputs": [
    {
     "data": {
      "text/plain": [
       "[(1, 3),\n",
       " (2, 3),\n",
       " (3, 3),\n",
       " (5, 3),\n",
       " (8, 3),\n",
       " (0, 2),\n",
       " (4, 2),\n",
       " (6, 2),\n",
       " (7, 2),\n",
       " (9, 1)]"
      ]
     },
     "execution_count": 17,
     "metadata": {},
     "output_type": "execute_result"
    }
   ],
   "source": [
    "# create a list (user_id, number_of_friends)\n",
    "num_friends_by_id = [(user[\"id\"], number_of_friends(user)) for user in users]\n",
    "                      \n",
    "sorted(num_friends_by_id, key=lambda (user_id, num_friends): num_friends, reverse=True)\n",
    "\n"
   ]
  },
  {
   "cell_type": "markdown",
   "metadata": {},
   "source": [
    "Let's visualize this.  We'll make the node size proportional to the number of friends."
   ]
  },
  {
   "cell_type": "code",
   "execution_count": 18,
   "metadata": {},
   "outputs": [
    {
     "data": {
      "image/png": "[encoded data removed]",
      "text/plain": [
       "<Figure size 432x288 with 1 Axes>"
      ]
     },
     "metadata": {},
     "output_type": "display_data"
    }
   ],
   "source": [
    "nx.draw(G, with_labels = True, node_size = [300 * number_of_friends(user) for user in users])"
   ]
  },
  {
   "cell_type": "markdown",
   "metadata": {},
   "source": [
    "Well, it seems that we could do better.  We need to be a friendlier place so let's recommend some possible friends to users.  Now, we could randomly pick users that are not in a user's friend list but it seems that we could easily do better than that.  Let's recommend the friends of a user's friends as possible friends.  "
   ]
  },
  {
   "cell_type": "code",
   "execution_count": 19,
   "metadata": {},
   "outputs": [
    {
     "name": "stdout",
     "output_type": "stream",
     "text": [
      "[0, 2, 0, 1, 5]\n"
     ]
    }
   ],
   "source": [
    "def friends_of_friends_ids(users, id):\n",
    "    return [foaf_id \n",
    "            for f_id in users[id][\"friends\"]\n",
    "            for foaf_id in users[f_id][\"friends\"]\n",
    "            if foaf_id != id]\n",
    "\n",
    "print friends_of_friends_ids(users, 3)\n",
    "\n",
    "\n",
    "\n"
   ]
  },
  {
   "cell_type": "code",
   "execution_count": 20,
   "metadata": {},
   "outputs": [
    {
     "name": "stdout",
     "output_type": "stream",
     "text": [
      "Counter({0: 2, 1: 1, 2: 1, 5: 1})\n"
     ]
    }
   ],
   "source": [
    "from collections import Counter\n",
    "print Counter( friends_of_friends_ids(users, 3) )"
   ]
  },
  {
   "cell_type": "markdown",
   "metadata": {},
   "source": [
    "3. What is going on in the block of code above?  Why might we want to do this?\n",
    "\n",
    "**Answer:** How many times a certain user shows up in mutual friends. To see which friends of friends would be the greatest match."
   ]
  }
 ],
 "metadata": {
  "kernelspec": {
   "display_name": "Python 2",
   "language": "python",
   "name": "python2"
  },
  "language_info": {
   "codemirror_mode": {
    "name": "ipython",
    "version": 2
   },
   "file_extension": ".py",
   "mimetype": "text/x-python",
   "name": "python",
   "nbconvert_exporter": "python",
   "pygments_lexer": "ipython2",
   "version": "2.7.13"
  }
 },
 "nbformat": 4,
 "nbformat_minor": 2
}
