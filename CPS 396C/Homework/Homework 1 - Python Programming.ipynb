{
 "cells": [
  {
   "cell_type": "markdown",
   "metadata": {},
   "source": [
    "Homework 1 - Python Programming\n",
    "=====\n",
    "\n",
    "**Due:** Feb. 1st, 2019 by 11:59PM via Blackboard\n",
    "\n",
    "**Objective:** Familiarize yourself List operations in python.  Create algorithms that use repetition.\n",
    "\n",
    "**This assignment is to completed individually.**"
   ]
  },
  {
   "cell_type": "code",
   "execution_count": 1,
   "metadata": {},
   "outputs": [],
   "source": [
    "MY_NAME = \"Chris Phillips\" # <-- Your name here\n"
   ]
  },
  {
   "cell_type": "markdown",
   "metadata": {},
   "source": [
    "1) Improve your implementaton of the guessing game such that the computer needs no more than 15 guesses.  You may give the computer some hints."
   ]
  },
  {
   "cell_type": "code",
   "execution_count": 2,
   "metadata": {
    "scrolled": false
   },
   "outputs": [
    {
     "name": "stdout",
     "output_type": "stream",
     "text": [
      "The secret value is 21\n",
      "The user guessed 49\n",
      "Nope, too high\n",
      "The user guessed 24\n",
      "Nope, too high\n",
      "The user guessed 11\n",
      "Nope, too low\n",
      "The user guessed 17\n",
      "Nope, too low\n",
      "The user guessed 20\n",
      "Nope, too low\n",
      "The user guessed 22\n",
      "Nope, too high\n",
      "The user guessed 21\n",
      "You guessed it. It only took you 7 tries.\n"
     ]
    }
   ],
   "source": [
    "import random\n",
    "\n",
    "# Determine the 'secret value' (i.e., what the user is trying to guess)\n",
    "secret_value = random.randrange(100)\n",
    "print \"The secret value is \" + str(secret_value)\n",
    "\n",
    "# Initialize a guess count\n",
    "guess_count = 0\n",
    "\n",
    "# Initialize the bounds for guesses\n",
    "lower_bound = 0\n",
    "upper_bound = 99\n",
    "\n",
    "# Until the computer guesses the value, determine a guess for the computer\n",
    "# and increment count\n",
    "while True:\n",
    "    guess = (lower_bound + upper_bound) / 2\n",
    "    print \"The user guessed \" + str(guess)\n",
    "    guess_count += 1\n",
    "    \n",
    "    if guess < secret_value:\n",
    "        print \"Nope, too low\"\n",
    "        lower_bound = guess + 1\n",
    "    elif guess > secret_value:\n",
    "        print \"Nope, too high\"\n",
    "        upper_bound = guess - 1\n",
    "    else:\n",
    "        break\n",
    "        \n",
    "print \"You guessed it. It only took you \" + str(guess_count) + \" tries.\""
   ]
  },
  {
   "cell_type": "markdown",
   "metadata": {},
   "source": [
    "2) Create a paper-rock-scissors game and have the two computer players continue to throw until someone wins.  Then state the winner along with the respective throws. "
   ]
  },
  {
   "cell_type": "code",
   "execution_count": 3,
   "metadata": {},
   "outputs": [
    {
     "name": "stdout",
     "output_type": "stream",
     "text": [
      "Computer 1 and Computer 2 both throw scissors\n",
      "It's a draw, try again!\n",
      "Computer 1 throws scissors and Computer 2 throws rock\n",
      "Computer 2 wins!\n"
     ]
    }
   ],
   "source": [
    "import random\n",
    "moves = ['rock', 'paper', 'scissors']\n",
    "\n",
    "while True:\n",
    "    computer_one = random.choice(moves)\n",
    "    computer_two = random.choice(moves)\n",
    "    \n",
    "    if computer_one == computer_two:\n",
    "        print \"Computer 1 and Computer 2 both throw {}\".format(computer_one)\n",
    "        print \"It's a draw, try again!\"\n",
    "        continue\n",
    "    elif computer_one == 'rock':\n",
    "        print \"Computer 1 throws {} and Computer 2 throws {}\".format(computer_one, computer_two)\n",
    "        \n",
    "        if computer_two == 'paper':\n",
    "            print \"Computer 2 wins!\"\n",
    "        else:\n",
    "            print \"Computer 1 wins!\"\n",
    "        \n",
    "        break\n",
    "            \n",
    "    elif computer_one == 'paper':\n",
    "        print \"Computer 1 throws {} and Computer 2 throws {}\".format(computer_one, computer_two)\n",
    "        \n",
    "        if computer_two == 'rock':\n",
    "            print \"Computer 1 wins!\"\n",
    "        else:\n",
    "            print \"Computer 2 wins!\"\n",
    "            \n",
    "        break\n",
    "            \n",
    "    elif computer_one == 'scissors':\n",
    "        print \"Computer 1 throws {} and Computer 2 throws {}\".format(computer_one, computer_two)\n",
    "        \n",
    "        if computer_two == 'rock':\n",
    "            print \"Computer 2 wins!\"\n",
    "        else:\n",
    "            print \"Computer 1 wins!\"\n",
    "            \n",
    "        break"
   ]
  },
  {
   "cell_type": "markdown",
   "metadata": {},
   "source": [
    "3) Write a program to count the number of simple yahtzee's that are thrown in one roll with `N` tries.  A 'simple yahtzee' is when 5 dice are thrown and have the same value (e.g., 5 'ones' are rolled).  How does this number compare to the probability of rolling a 'simple yahtzee' using a fair, size sided die?    "
   ]
  },
  {
   "cell_type": "code",
   "execution_count": 9,
   "metadata": {},
   "outputs": [
    {
     "name": "stdout",
     "output_type": "stream",
     "text": [
      "Complete with 93 yahtzees.\n",
      "The total yahtzee percentage is: 0.09%\n"
     ]
    }
   ],
   "source": [
    "from __future__ import division\n",
    "import random\n",
    "\n",
    "N = 100000\n",
    "\n",
    "roll_count = 0\n",
    "yahtzee_count = 0\n",
    "\n",
    "while roll_count < N:\n",
    "    roll_count += 1\n",
    "    lst = [random.randrange(1, 7) for _ in range(5)]\n",
    "    \n",
    "    \n",
    "#     print \"Main list: {} First Part: {} Second Part: {}\".format(lst, lst[1:], lst[:-1])\n",
    "    same = lst[1:] == lst[:-1]\n",
    "    \n",
    "    if same:\n",
    "        yahtzee_count += 1\n",
    "\n",
    "percent = (yahtzee_count / N) * 100\n",
    "print \"Complete with {} yahtzees.\".format(yahtzee_count)\n",
    "print \"The total yahtzee percentage is: {:.1}%\".format(percent)\n",
    "\n"
   ]
  },
  {
   "cell_type": "markdown",
   "metadata": {},
   "source": [
    "The probability of rolling the same number, five times in a row, is the following: (1/6) * (1/6) * (1/6) * (1/6) * (1/6) = 1/7776. However, this is just for one number, so since there are six numbers per dice, we multiply this fraction by 6 to get 6/7776 = 1/1296 = 0.08%. This means, that the number the above code is producing is very near to the actual probability for rolling a simple yahtzee."
   ]
  },
  {
   "cell_type": "code",
   "execution_count": null,
   "metadata": {},
   "outputs": [],
   "source": []
  }
 ],
 "metadata": {
  "kernelspec": {
   "display_name": "Python 2",
   "language": "python",
   "name": "python2"
  },
  "language_info": {
   "codemirror_mode": {
    "name": "ipython",
    "version": 2
   },
   "file_extension": ".py",
   "mimetype": "text/x-python",
   "name": "python",
   "nbconvert_exporter": "python",
   "pygments_lexer": "ipython2",
   "version": "2.7.13"
  }
 },
 "nbformat": 4,
 "nbformat_minor": 2
}
