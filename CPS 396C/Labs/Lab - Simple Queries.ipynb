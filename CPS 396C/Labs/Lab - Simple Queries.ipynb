{
 "cells": [
  {
   "cell_type": "markdown",
   "metadata": {},
   "source": [
    "SQL - Simple Queries\n",
    "======\n"
   ]
  },
  {
   "cell_type": "markdown",
   "metadata": {},
   "source": [
    "Python can simulate working with a SQL database.  This is done using SQLite."
   ]
  },
  {
   "cell_type": "code",
   "execution_count": 1,
   "metadata": {},
   "outputs": [],
   "source": [
    "MY_NAME = \"Chris Phillips\" # <-- Your name here"
   ]
  },
  {
   "cell_type": "code",
   "execution_count": 2,
   "metadata": {},
   "outputs": [],
   "source": [
    "import sqlite3\n",
    "conn = sqlite3.connect('simple_demo.db') # Name of the database to connect to.  \n",
    "                                         # This will open or create a similiarly named file.\n",
    "\n",
    "c = conn.cursor()"
   ]
  },
  {
   "cell_type": "code",
   "execution_count": 3,
   "metadata": {},
   "outputs": [
    {
     "data": {
      "text/plain": [
       "<sqlite3.Cursor at 0x7f588b5acb90>"
      ]
     },
     "execution_count": 3,
     "metadata": {},
     "output_type": "execute_result"
    }
   ],
   "source": [
    "# Drop existing table (if present)\n",
    "c.execute(\"DROP TABLE IF EXISTS users\")\n",
    "\n",
    "# Create users table\n",
    "#c.execute(\"CREATE TABLE users(USER_ID INTEGER NOT NULL, NAME TEXT, NUM_FRIENDS INTEGER)\")\n",
    "c.execute(\"CREATE TABLE users(USER_ID INTEGER NOT NULL, NAME VARCHAR(20), NUM_FRIENDS INTEGER, INTEREST VARCHAR(20))\")\n",
    "\n",
    "# Populate\n",
    "c.execute(\"INSERT INTO users VALUES (0, 'Hero', 0, 'SQL')\")\n",
    "c.execute(\"INSERT INTO users VALUES (1, 'Dunn', 2, 'SQL')\")\n",
    "c.execute(\"INSERT INTO users VALUES (2, 'Sue', 3, 'NoSQL')\")\n",
    "\n",
    "# Additional users to add\n",
    "additional_users = [(3, \"Chi\", 3, 'SQL'), (4, \"Thor\", 3,'SQL'), (5, \"Clive\", 2,'SQL'), (6, \"Hicks\", 3,'SQL'), (7, \"Devin\", 2,'SQL'),\n",
    "                    (8, \"Kate\", 2,'SQL'), (9, \"Klein\", 3,'SQL'), (10, \"Jen\", 1,'SQL')]\n",
    "\n",
    "c.executemany(\"INSERT INTO users VALUES (?,?,?,?)\", additional_users)"
   ]
  },
  {
   "cell_type": "markdown",
   "metadata": {},
   "source": [
    "Display the total number of friends, the distinct number of interests, and all of the user's names."
   ]
  },
  {
   "cell_type": "code",
   "execution_count": 4,
   "metadata": {},
   "outputs": [
    {
     "name": "stdout",
     "output_type": "stream",
     "text": [
      "[(24,)]\n",
      "[(u'Hero',), (u'Dunn',), (u'Sue',), (u'Chi',), (u'Thor',), (u'Clive',), (u'Hicks',), (u'Devin',), (u'Kate',), (u'Klein',), (u'Jen',)]\n",
      "[(2,)]\n"
     ]
    }
   ],
   "source": [
    "### Solution ###\n",
    "c.execute(\"SELECT SUM(num_friends) FROM users\")\n",
    "print c.fetchall()\n",
    "\n",
    "c.execute(\"SELECT name FROM users\")\n",
    "print c.fetchall()\n",
    "\n",
    "c.execute(\"SELECT COUNT(*) FROM (SELECT DISTINCT interest FROM users)\")\n",
    "print c.fetchall()"
   ]
  },
  {
   "cell_type": "markdown",
   "metadata": {},
   "source": [
    "What if we wanted to capture more than one interest per user.  One table will not cut it.  Let's add a user interests table and we can map many interest onto a user by user id.  "
   ]
  },
  {
   "cell_type": "code",
   "execution_count": 5,
   "metadata": {},
   "outputs": [
    {
     "data": {
      "text/plain": [
       "<sqlite3.Cursor at 0x7f588b5acb90>"
      ]
     },
     "execution_count": 5,
     "metadata": {},
     "output_type": "execute_result"
    }
   ],
   "source": [
    "# Drop existing table (if present)\n",
    "c.execute(\"DROP TABLE IF EXISTS users\")\n",
    "\n",
    "# Create users table\n",
    "#c.execute(\"CREATE TABLE users(USER_ID INTEGER NOT NULL, NAME TEXT, NUM_FRIENDS INTEGER)\")\n",
    "c.execute(\"CREATE TABLE users(USER_ID INTEGER NOT NULL, NAME VARCHAR(20), NUM_FRIENDS INTEGER)\")\n",
    "\n",
    "# Populate\n",
    "c.execute(\"INSERT INTO users VALUES (0, 'Hero', 0)\")\n",
    "c.execute(\"INSERT INTO users VALUES (1, 'Dunn', 2)\")\n",
    "c.execute(\"INSERT INTO users VALUES (2, 'Sue', 3)\")\n",
    "\n",
    "# Additional users to add\n",
    "additional_users = [(3, \"Chi\", 3), (4, \"Thor\", 3), (5, \"Clive\", 2), (6, \"Hicks\", 3), (7, \"Devin\", 2),\n",
    "                    (8, \"Kate\", 2), (9, \"Klein\", 3), (10, \"Jen\", 1)]\n",
    "\n",
    "c.executemany(\"INSERT INTO users VALUES (?,?,?)\", additional_users)\n",
    "\n",
    "c.execute(\"DROP TABLE IF EXISTS user_interests\")\n",
    "\n",
    "# Create user interests table\n",
    "c.execute(\"CREATE TABLE user_interests(USER_ID INTEGER NOT NULL, INTEREST TEXT)\")\n",
    "\n",
    "# Populate\n",
    "c.executemany(\"INSERT INTO user_interests VALUES(?,?)\", [(0, \"SQLa\"), (1, \"NoSQL\"), (2, \"SQLa\"), (3, \"NoSQL\")])\n",
    "c.executemany(\"INSERT INTO user_interests VALUES(?,?)\", [(0, \"Basket Weaving\"), (0, \"Data Science Stuff\")])\n"
   ]
  },
  {
   "cell_type": "markdown",
   "metadata": {},
   "source": [
    "Display the number of interests by user_id.  Display each user's name along side one of thier respective interests."
   ]
  },
  {
   "cell_type": "code",
   "execution_count": 6,
   "metadata": {},
   "outputs": [
    {
     "name": "stdout",
     "output_type": "stream",
     "text": [
      "[(0, 3), (1, 1), (2, 1), (3, 1)]\n",
      "[(u'Hero', u'Basket Weaving'), (u'Hero', u'Data Science Stuff'), (u'Hero', u'SQLa'), (u'Dunn', u'NoSQL'), (u'Sue', u'SQLa'), (u'Chi', u'NoSQL')]\n"
     ]
    }
   ],
   "source": [
    "### Solution\n",
    "c.execute(\"SELECT user_id, COUNT(interest) FROM user_interests GROUP BY user_id\")\n",
    "print c.fetchall()\n",
    "\n",
    "c.execute(\"SELECT name, interest FROM users, user_interests WHERE users.user_id = user_interests.user_id\")\n",
    "print c.fetchall()"
   ]
  },
  {
   "cell_type": "markdown",
   "metadata": {},
   "source": [
    "You might notice that there is a potential headache here.  If it was later realized that 'SQLa' should be 'SQL', there could many updates to make.  First, let's go ahead and dump the interests.  Then do an update."
   ]
  },
  {
   "cell_type": "code",
   "execution_count": 7,
   "metadata": {},
   "outputs": [
    {
     "data": {
      "text/plain": [
       "<sqlite3.Cursor at 0x7f588b5acb90>"
      ]
     },
     "execution_count": 7,
     "metadata": {},
     "output_type": "execute_result"
    }
   ],
   "source": [
    "### Soluction\n",
    "\n",
    "c.execute(\"UPDATE user_interests SET interest = 'SQL' WHERE interest = 'SQLa'\")\n",
    "c.execute(\"SELECT * FROM user_interests\")\n"
   ]
  },
  {
   "cell_type": "markdown",
   "metadata": {},
   "source": [
    "Let's create an additional table.  We will then have a table for users, a table for interests and a table that maps between the two.  "
   ]
  },
  {
   "cell_type": "code",
   "execution_count": 8,
   "metadata": {},
   "outputs": [
    {
     "data": {
      "text/plain": [
       "<sqlite3.Cursor at 0x7f588b5acb90>"
      ]
     },
     "execution_count": 8,
     "metadata": {},
     "output_type": "execute_result"
    }
   ],
   "source": [
    "# Drop existing table (if present)\n",
    "c.execute(\"DROP TABLE IF EXISTS user\")\n",
    "\n",
    "# Create users table\n",
    "#c.execute(\"CREATE TABLE users(USER_ID INTEGER NOT NULL, NAME TEXT, NUM_FRIENDS INTEGER)\")\n",
    "c.execute(\"CREATE TABLE user(USER_ID INTEGER NOT NULL, NAME VARCHAR(20), NUM_FRIENDS INTEGER)\")\n",
    "\n",
    "# Populate\n",
    "c.execute(\"INSERT INTO user VALUES (0, 'Hero', 0)\")\n",
    "c.execute(\"INSERT INTO user VALUES (1, 'Dunn', 2)\")\n",
    "c.execute(\"INSERT INTO user VALUES (2, 'Sue', 3)\")\n",
    "c.execute(\"INSERT INTO user VALUES (3, 'Chi', 3)\")\n",
    "\n",
    "c.execute(\"DROP TABLE IF EXISTS interest\")\n",
    "# Create interests table\n",
    "c.execute(\"CREATE TABLE interest(INTEREST_ID INTEGER NOT NULL, INTEREST TEXT)\")\n",
    "\n",
    "# Populate\n",
    "c.executemany(\"INSERT INTO interest VALUES(?,?)\", [(0, \"SQL\"), (1, \"NoSQL\")])\n",
    "c.executemany(\"INSERT INTO interest VALUES(?,?)\", [(2, \"Basket Weaving\"), (3, \"Data Science Stuff\")])\n",
    "\n",
    "c.execute(\"DROP TABLE IF EXISTS has_interest_in\")\n",
    "# Create has_interest_in table\n",
    "c.execute(\"CREATE TABLE has_interest_in (USER_ID INTEGER NOT NULL, INTEREST_ID INTEGER NOT NULL)\")\n"
   ]
  },
  {
   "cell_type": "markdown",
   "metadata": {},
   "source": [
    "Populate the has_interest_in table so that it contains the same mapping of users to interests as before."
   ]
  },
  {
   "cell_type": "code",
   "execution_count": 9,
   "metadata": {},
   "outputs": [
    {
     "data": {
      "text/plain": [
       "<sqlite3.Cursor at 0x7f588b5acb90>"
      ]
     },
     "execution_count": 9,
     "metadata": {},
     "output_type": "execute_result"
    }
   ],
   "source": [
    "# [(Hero, \"SQL\"), (Dunn, \"NoSQL\"), (Sue, \"SQL\"), (Chi, \"NoSQL\")])\n",
    "# [(Hero, \"Basket Weaving\"), (Hero, \"Data Science Stuff\")])\n",
    "\n",
    "### Solution\n",
    "\n",
    "c.executemany(\"INSERT INTO has_interest_in VALUES(?, ?)\", [(0,0), (1,1), (2,0), (3,1), (0,2), (0,3)])"
   ]
  },
  {
   "cell_type": "code",
   "execution_count": 10,
   "metadata": {},
   "outputs": [
    {
     "name": "stdout",
     "output_type": "stream",
     "text": [
      "[(0, 0), (1, 1), (2, 0), (3, 1), (0, 2), (0, 3)]\n"
     ]
    }
   ],
   "source": [
    "c.execute(\"SELECT * FROM has_interest_in\")\n",
    "print c.fetchall()"
   ]
  },
  {
   "cell_type": "markdown",
   "metadata": {},
   "source": [
    "Repeat some of the previous queries with this new schema.  In particular, display the number of interests by user_id, display each user's name along side one of thier respective interests, total number of distinct interests.\n",
    "\n",
    "Also display the top 3 interests by count in descending order. "
   ]
  },
  {
   "cell_type": "code",
   "execution_count": 14,
   "metadata": {},
   "outputs": [
    {
     "name": "stdout",
     "output_type": "stream",
     "text": [
      "[(0, 3), (1, 1), (2, 1), (3, 1)]\n",
      "[(u'Hero', u'SQL'), (u'Hero', u'Basket Weaving'), (u'Hero', u'Data Science Stuff'), (u'Dunn', u'NoSQL'), (u'Sue', u'SQL'), (u'Chi', u'NoSQL')]\n",
      "[(4,)]\n",
      "[(u'SQL', 2), (u'NoSQL', 2), (u'Basket Weaving', 1)]\n"
     ]
    }
   ],
   "source": [
    "### Solution\n",
    "\n",
    "# number of interests by user_id\n",
    "c.execute(\"SELECT user_id, COUNT(interest_id) FROM has_interest_in GROUP BY user_id\")\n",
    "print c.fetchall()\n",
    "\n",
    "# user name along side each respective interest\n",
    "c.execute(\"SELECT name, interest FROM user, interest, has_interest_in WHERE user.user_id = has_interest_in.user_id AND interest.interest_id = has_interest_in.interest_id\")\n",
    "print c.fetchall()\n",
    "\n",
    "# total number of distinct interest\n",
    "c.execute(\"SELECT COUNT(*) FROM (SELECT DISTINCT interest_id FROM interest)\")\n",
    "print c.fetchall()\n",
    "\n",
    "# top 3 interests by count in descending order\n",
    "c.execute(\"SELECT interest, COUNT(has_interest_in.interest_id) AS cnt FROM has_interest_in, interest WHERE interest.interest_id = has_interest_in.interest_id GROUP BY has_interest_in.interest_id ORDER BY cnt DESC LIMIT 3\")\n",
    "print c.fetchall()\n"
   ]
  },
  {
   "cell_type": "code",
   "execution_count": 12,
   "metadata": {},
   "outputs": [
    {
     "name": "stdout",
     "output_type": "stream",
     "text": [
      "[(u'Hero', 3), (u'Dunn', 1), (u'Sue', 1), (u'Chi', 1)]\n"
     ]
    }
   ],
   "source": [
    "# number of interests by user name\n",
    "c.execute(\"SELECT name, COUNT(interest_id) FROM has_interest_in,user WHERE user.user_id = has_interest_in.user_id GROUP BY has_interest_in.user_id\")\n",
    "print c.fetchall()"
   ]
  },
  {
   "cell_type": "code",
   "execution_count": null,
   "metadata": {},
   "outputs": [],
   "source": []
  }
 ],
 "metadata": {
  "kernelspec": {
   "display_name": "Python 2",
   "language": "python",
   "name": "python2"
  },
  "language_info": {
   "codemirror_mode": {
    "name": "ipython",
    "version": 2
   },
   "file_extension": ".py",
   "mimetype": "text/x-python",
   "name": "python",
   "nbconvert_exporter": "python",
   "pygments_lexer": "ipython2",
   "version": "2.7.13"
  }
 },
 "nbformat": 4,
 "nbformat_minor": 2
}
