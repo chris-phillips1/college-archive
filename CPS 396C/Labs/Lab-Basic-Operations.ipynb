{
 "cells": [
  {
   "cell_type": "markdown",
   "metadata": {},
   "source": [
    "Basic Operations\n",
    "=====\n",
    "\n",
    "**Objective**: Familiarize yourself with basic operations and output in python.  "
   ]
  },
  {
   "cell_type": "code",
   "execution_count": null,
   "metadata": {},
   "outputs": [],
   "source": [
    "MY_NAME = \"Chris Phillips\" # <-- Your name here\n",
    "GROUP_ID = \"4\" # <-- Your group id here"
   ]
  },
  {
   "cell_type": "markdown",
   "metadata": {},
   "source": [
    "1) Math Buddy - Provide the calculations to store and display the quotient and remainder of a division.  Also provide the value as a float.  Sample output is provided below.\n",
    "\n",
    "> 100 divided by 3 gives 33 with a remainder of 1\n",
    ">\n",
    "> Or as a decimal 33.3333333333"
   ]
  },
  {
   "cell_type": "code",
   "execution_count": 1,
   "metadata": {},
   "outputs": [
    {
     "name": "stdout",
     "output_type": "stream",
     "text": [
      "100 divided by 3 gives 33 with a remainder of 1\n",
      "Or as a decimal 33.3333333333\n"
     ]
    }
   ],
   "source": [
    "dividend = 100\n",
    "divisor = 3\n",
    "\n",
    "### Your code here\n",
    "quotient = dividend / divisor\n",
    "remainder = dividend % divisor\n",
    "decimal = float(dividend) / divisor\n",
    "print '{0} divided by {1} gives {2} with a remainder of {3}'.format(dividend, divisor, quotient, remainder)\n",
    "print 'Or as a decimal {0}'.format(decimal)"
   ]
  },
  {
   "cell_type": "markdown",
   "metadata": {},
   "source": [
    "2) Display the first 8 powers of `x`.  Do not use a `for` loop.  "
   ]
  },
  {
   "cell_type": "code",
   "execution_count": 4,
   "metadata": {},
   "outputs": [
    {
     "name": "stdout",
     "output_type": "stream",
     "text": [
      "2\n",
      "4\n",
      "8\n",
      "16\n",
      "32\n",
      "64\n",
      "128\n",
      "256\n"
     ]
    }
   ],
   "source": [
    "x = 2\n",
    "\n",
    "### Your code here\n",
    "print pow(x, 1)\n",
    "print pow(x, 2)\n",
    "print pow(x, 3)\n",
    "print pow(x, 4)\n",
    "print pow(x, 5)\n",
    "print pow(x, 6)\n",
    "print pow(x, 7)\n",
    "print pow(x, 8)"
   ]
  },
  {
   "cell_type": "markdown",
   "metadata": {},
   "source": [
    "3) Assume that you have the following data that pairs the size of a house in sq. foot to the sale price.  Predict the sale price of a home that is 2000 sq. ft.\n"
   ]
  },
  {
   "cell_type": "code",
   "execution_count": 5,
   "metadata": {},
   "outputs": [
    {
     "data": {
      "text/plain": [
       "<matplotlib.collections.PathCollection at 0x7ff47325a090>"
      ]
     },
     "execution_count": 5,
     "metadata": {},
     "output_type": "execute_result"
    },
    {
     "data": {
      "image/png": "[encoded data removed]",
      "text/plain": [
       "<Figure size 432x288 with 1 Axes>"
      ]
     },
     "metadata": {
      "needs_background": "light"
     },
     "output_type": "display_data"
    }
   ],
   "source": [
    "sale_data = [(1200, 50000), (1300, 53500), (1500, 57000), (1000, 44000)]\n",
    "\n",
    "%matplotlib inline\n",
    "import matplotlib.pyplot as plt\n",
    "\n",
    "x, y = zip(*sale_data) # Split list of tuples into two lists\n",
    "\n",
    "# Plot the sale data\n",
    "plt.scatter(x, y)\n",
    "\n",
    " \n"
   ]
  },
  {
   "cell_type": "code",
   "execution_count": 21,
   "metadata": {},
   "outputs": [
    {
     "name": "stdout",
     "output_type": "stream",
     "text": [
      "A house that measures 2000 sq. feet could sell for $75666.67\n"
     ]
    }
   ],
   "source": [
    "# Determine a way to make a reasonable prediction for a home that is 2000 sq. ft. \n",
    "size = 2000\n",
    "p_1 = sale_data[1]\n",
    "p_2 = sale_data[3]\n",
    "\n",
    "### Your code here\n",
    "\n",
    "from __future__ import division\n",
    "\n",
    "#1. Calculate slope\n",
    "m = (p_2[1] - p_1[1]) / (p_2[0] - p_1[0])\n",
    "\n",
    "#2. Create an equation for the line going through p_1 and p_2\n",
    "price = m * (size - p_2[0]) + p_2[1]\n",
    "\n",
    "#3. Display prediction\n",
    "print 'A house that measures {} sq. feet could sell for ${:.2f}'.format(size, price)"
   ]
  },
  {
   "cell_type": "markdown",
   "metadata": {},
   "source": [
    "4) Provide calculations to determine if the points are collinear (i.e., are points from the same line).  Then display a message to the user indicating if the points are collinear.  "
   ]
  },
  {
   "cell_type": "code",
   "execution_count": 34,
   "metadata": {},
   "outputs": [
    {
     "name": "stdout",
     "output_type": "stream",
     "text": [
      "The point (0,-2) is collinear\n"
     ]
    }
   ],
   "source": [
    "p_1 = (2, 4)\n",
    "p_2 = (4, 10)\n",
    "p_3 = (0, -2)\n",
    "\n",
    "### Your code here\n",
    "\n",
    "#1. Take two points and calculate slope\n",
    "m = (p_2[1] - p_1[1]) / (p_2[0] - p_1[0])\n",
    "\n",
    "#2. Grab other pont\n",
    "x = p_3[0]\n",
    "y = p_3[1]\n",
    "\n",
    "are_collinear = abs(y - p_1[1] - m * (x - p_1[0])) < 1.e-10\n",
    "collinear_msg = 'collinear' if are_collinear else 'not collinear'\n",
    "\n",
    "print 'The point ({},{}) is {}'.format(x, y, collinear_msg)"
   ]
  },
  {
   "cell_type": "code",
   "execution_count": 35,
   "metadata": {},
   "outputs": [
    {
     "data": {
      "text/plain": [
       "<matplotlib.collections.PathCollection at 0x7ff473142450>"
      ]
     },
     "execution_count": 35,
     "metadata": {},
     "output_type": "execute_result"
    },
    {
     "data": {
      "image/png": "[encoded data removed]",
      "text/plain": [
       "<Figure size 432x288 with 1 Axes>"
      ]
     },
     "metadata": {
      "needs_background": "light"
     },
     "output_type": "display_data"
    }
   ],
   "source": [
    "%matplotlib inline\n",
    "import matplotlib.pyplot as plt\n",
    "\n",
    "points = [p_1, p_2, p_3]\n",
    "x, y = zip(*points) # Split list of tuples into two lists\n",
    "\n",
    "plt.scatter(x, y)\n"
   ]
  },
  {
   "cell_type": "markdown",
   "metadata": {},
   "source": [
    "5) Select and use 5 string methods from [string methods](https://docs.python.org/2/library/stdtypes.html#string-methods) and use them on `msg`.  Display some output for each method selected. "
   ]
  },
  {
   "cell_type": "code",
   "execution_count": 37,
   "metadata": {},
   "outputs": [
    {
     "name": "stdout",
     "output_type": "stream",
     "text": [
      "Cps396 is my favorite course this semester.  if only we met on mondays as well...\n",
      "3\n"
     ]
    }
   ],
   "source": [
    "msg = \"CPS396 is my favorite course this semester.  If only we met on Mondays as well...\"\n",
    "\n",
    "### Your code here\n",
    "print msg.capitalize()\n",
    "print msg.count('i')"
   ]
  },
  {
   "cell_type": "code",
   "execution_count": null,
   "metadata": {},
   "outputs": [],
   "source": []
  }
 ],
 "metadata": {
  "kernelspec": {
   "display_name": "Python 2",
   "language": "python",
   "name": "python2"
  },
  "language_info": {
   "codemirror_mode": {
    "name": "ipython",
    "version": 2
   },
   "file_extension": ".py",
   "mimetype": "text/x-python",
   "name": "python",
   "nbconvert_exporter": "python",
   "pygments_lexer": "ipython2",
   "version": "2.7.13"
  }
 },
 "nbformat": 4,
 "nbformat_minor": 2
}
