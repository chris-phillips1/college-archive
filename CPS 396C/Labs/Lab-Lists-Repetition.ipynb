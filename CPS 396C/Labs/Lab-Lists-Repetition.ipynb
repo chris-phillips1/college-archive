{
 "cells": [
  {
   "cell_type": "markdown",
   "metadata": {},
   "source": [
    "Lists and Repetition\n",
    "=====\n",
    "\n",
    "**Objective**: Familiarize yourself List operations in python.  Create algorithms that use repetition.  "
   ]
  },
  {
   "cell_type": "code",
   "execution_count": 1,
   "metadata": {},
   "outputs": [],
   "source": [
    "MY_NAME = \"Chris Phillips\" # <-- Your name here\n",
    "GROUP_ID = \"4\" # <-- Your group id here"
   ]
  },
  {
   "cell_type": "markdown",
   "metadata": {},
   "source": [
    "1) Provide Python code to ...\n",
    "\n",
    "- print all integers from 0 - 100\n",
    "- print all odd intergers from 0 - 100\n",
    "- print all prime numbers from 0 - 100 (use the provided `is_prime()` funciton)\n",
    "- print 5 unique random intergers fro 0 - 100\n",
    "\n",
    "*Hint: Use list comprehensions*"
   ]
  },
  {
   "cell_type": "code",
   "execution_count": 2,
   "metadata": {},
   "outputs": [
    {
     "name": "stdout",
     "output_type": "stream",
     "text": [
      "[0, 1, 2, 3, 4, 5, 6, 7, 8, 9, 10, 11, 12, 13, 14, 15, 16, 17, 18, 19, 20, 21, 22, 23, 24, 25, 26, 27, 28, 29, 30, 31, 32, 33, 34, 35, 36, 37, 38, 39, 40, 41, 42, 43, 44, 45, 46, 47, 48, 49, 50, 51, 52, 53, 54, 55, 56, 57, 58, 59, 60, 61, 62, 63, 64, 65, 66, 67, 68, 69, 70, 71, 72, 73, 74, 75, 76, 77, 78, 79, 80, 81, 82, 83, 84, 85, 86, 87, 88, 89, 90, 91, 92, 93, 94, 95, 96, 97, 98, 99, 100]\n",
      "[1, 3, 5, 7, 9, 11, 13, 15, 17, 19, 21, 23, 25, 27, 29, 31, 33, 35, 37, 39, 41, 43, 45, 47, 49, 51, 53, 55, 57, 59, 61, 63, 65, 67, 69, 71, 73, 75, 77, 79, 81, 83, 85, 87, 89, 91, 93, 95, 97, 99]\n",
      "[2, 3, 5, 7, 11, 13, 17, 19, 23, 29, 31, 37, 41, 43, 47, 53, 59, 61, 67, 71, 73, 79, 83, 89, 97]\n",
      "[33, 29, 59, 65, 87]\n"
     ]
    }
   ],
   "source": [
    "def is_prime(x):\n",
    "    # Desc: Determines if a positive integer is prime\n",
    "    # Input: A positive integer\n",
    "    # Output: True if the provided value is a positive, prime integer and False \n",
    "    #   otherwise\n",
    "     \n",
    "    if type(x) != int or x < 0:\n",
    "        return False\n",
    "    \n",
    "    else:\n",
    "        for i in range(2, x):\n",
    "            if x % i == 0:\n",
    "                return False\n",
    "\n",
    "        return True\n",
    "    \n",
    "# print is_prime(2)\n",
    "# print is_prime(4)\n",
    "# print is_prime(7)\n",
    "\n",
    "x = range(101)\n",
    "print x\n",
    "\n",
    "y = [i for i in x if i % 2 == 1]\n",
    "print y\n",
    "\n",
    "z = [i for i in range(2,101) if is_prime(i)]\n",
    "print z\n",
    "\n",
    "import random\n",
    "print random.sample(x, 5)\n",
    "\n",
    "# print [i for i in range(101)]\n",
    "# print [i for i in range(101) if i % 2 == 1]\n",
    "# print [i for i in range(101) if is_prime(i)]\n",
    "# print [random.randrange(0,101) for i in range(5)]\n",
    "\n"
   ]
  },
  {
   "cell_type": "markdown",
   "metadata": {},
   "source": [
    "2) Display the first 25 powers of `x`.  Do not use a `for` loop.  "
   ]
  },
  {
   "cell_type": "code",
   "execution_count": 3,
   "metadata": {},
   "outputs": [
    {
     "name": "stdout",
     "output_type": "stream",
     "text": [
      "[1, 2, 4, 8, 16, 32, 64, 128, 256, 512, 1024, 2048, 4096, 8192, 16384, 32768, 65536, 131072, 262144, 524288, 1048576, 2097152, 4194304, 8388608, 16777216]\n"
     ]
    }
   ],
   "source": [
    "x = 2\n",
    "\n",
    "print [x ** i for i in range(25)]"
   ]
  },
  {
   "cell_type": "markdown",
   "metadata": {},
   "source": [
    "3) Create a guessing game such that a computer user continually guess a number between 0-99 until a correct guess is made.\n",
    "\n",
    "Mimic this output...\n",
    "\n",
    "The user guessed 62\n",
    "\n",
    "Wrong, guess again!\n",
    "\n",
    "The user guessed 35\n",
    "\n",
    "Wrong, guess again!\n",
    "\n",
    "The user guessed 79\n",
    "\n",
    "Wrong, guess again!\n",
    "\n",
    "The user guessed 71\n",
    "\n",
    "Wrong, guess again!\n",
    "\n",
    "The user guessed 87\n",
    "\n",
    "...\n",
    "\n",
    "You guessed it.  It only took you 49 tries.\n",
    "\n"
   ]
  },
  {
   "cell_type": "code",
   "execution_count": 4,
   "metadata": {},
   "outputs": [
    {
     "name": "stdout",
     "output_type": "stream",
     "text": [
      "The computer user guessed 75\n",
      "Wrong, guess again.\n",
      "The computer user guessed 21\n",
      "Wrong, guess again.\n",
      "The computer user guessed 75\n",
      "Wrong, guess again.\n",
      "The computer user guessed 41\n",
      "Wrong, guess again.\n",
      "The computer user guessed 55\n",
      "Wrong, guess again.\n",
      "The computer user guessed 71\n",
      "Wrong, guess again.\n",
      "The computer user guessed 91\n",
      "Wrong, guess again.\n",
      "The computer user guessed 49\n",
      "Wrong, guess again.\n",
      "The computer user guessed 32\n",
      "Wrong, guess again.\n",
      "The computer user guessed 88\n",
      "Wrong, guess again.\n",
      "The computer user guessed 10\n",
      "Wrong, guess again.\n",
      "The computer user guessed 5\n",
      "Wrong, guess again.\n",
      "The computer user guessed 41\n",
      "Wrong, guess again.\n",
      "The computer user guessed 64\n",
      "Wrong, guess again.\n",
      "The computer user guessed 51\n",
      "Wrong, guess again.\n",
      "The computer user guessed 2\n",
      "Wrong, guess again.\n",
      "The computer user guessed 92\n",
      "You guessed it. It only took you 17 tries.\n"
     ]
    }
   ],
   "source": [
    "import random\n",
    "\n",
    "secret_value = random.randrange(100)\n",
    "guess_count = 0\n",
    "\n",
    "while True:\n",
    "    guess = random.randrange(100)\n",
    "    print \"The computer user guessed \" + str(guess)\n",
    "    guess_count += 1\n",
    "    \n",
    "    if guess == secret_value:\n",
    "        break\n",
    "    else:\n",
    "        print \"Wrong, guess again.\"\n",
    "\n",
    "print \"You guessed it. It only took you \" + str(guess_count) + \" tries.\"\n",
    "\n"
   ]
  },
  {
   "cell_type": "markdown",
   "metadata": {},
   "source": [
    "4) Improve your implementaton such that the computer needs no more than 15 guesses.  You may give the computer some hints."
   ]
  },
  {
   "cell_type": "code",
   "execution_count": 5,
   "metadata": {
    "scrolled": true
   },
   "outputs": [
    {
     "name": "stdout",
     "output_type": "stream",
     "text": [
      "The secret value is 25\n",
      "The user guessed 49\n",
      "Nope, too high\n",
      "The user guessed 24\n",
      "Nope, too low\n",
      "The user guessed 37\n",
      "Nope, too high\n",
      "The user guessed 31\n",
      "Nope, too high\n",
      "The user guessed 28\n",
      "Nope, too high\n",
      "The user guessed 26\n",
      "Nope, too high\n",
      "The user guessed 25\n",
      "You guessed it. It only took you 7 tries.\n"
     ]
    }
   ],
   "source": [
    "import random\n",
    "\n",
    "secret_value = random.randrange(100)\n",
    "guess_count = 0\n",
    "\n",
    "lower = 0\n",
    "upper = 99\n",
    "\n",
    "print \"The secret value is \" + str(secret_value)\n",
    "\n",
    "# guess = (upper + lower) / 2\n",
    "\n",
    "while True:\n",
    "    guess = (upper + lower) / 2\n",
    "    print \"The user guessed \" + str(guess)\n",
    "    \n",
    "    guess_count += 1\n",
    "    \n",
    "    if guess == secret_value:\n",
    "        break\n",
    "        \n",
    "    if guess < secret_value:\n",
    "        print \"Nope, too low\"\n",
    "        lower = guess + 1\n",
    "    else:\n",
    "        print \"Nope, too high\"\n",
    "        upper = guess\n",
    "           \n",
    "    \n",
    "        \n",
    "print \"You guessed it. It only took you \" + str(guess_count) + \" tries.\"\n",
    "\n",
    "# secret_value = random.randrange(100)\n",
    "# secret_value = 99\n",
    "\n",
    "# low = 0\n",
    "# high = 99\n",
    "\n",
    "# guess = random.randrange(100)\n",
    "\n",
    "# print \"The secret value is \" + str(secret_value)\n",
    "\n",
    "# while True:\n",
    "#     print \"The computer takes a guess...\" + str(guess)\n",
    "    \n",
    "#     if guess == secret_value:\n",
    "#         break\n",
    "    \n",
    "#     if guess > secret_value:\n",
    "#         high = guess\n",
    "#     elif guess < secret_value:\n",
    "#         low = guess + 1\n",
    "        \n",
    "#     guess = (low+high)/2    \n",
    "\n",
    "# print \"The computer guessed \" + str(guess) + \" and it was correct!\""
   ]
  },
  {
   "cell_type": "markdown",
   "metadata": {},
   "source": [
    "5) Create a paper-rock-scissors game and have the two computer players continue to throw until someone wins.  Then state the winner along with the respective throws. "
   ]
  },
  {
   "cell_type": "code",
   "execution_count": 6,
   "metadata": {},
   "outputs": [],
   "source": [
    "import random\n",
    "\n"
   ]
  },
  {
   "cell_type": "markdown",
   "metadata": {},
   "source": [
    "6) Count the number of yahtzee's that are thrown in one roll with `N` tries."
   ]
  },
  {
   "cell_type": "code",
   "execution_count": 7,
   "metadata": {},
   "outputs": [],
   "source": [
    "from __future__ import division\n",
    "import random\n",
    "\n",
    "N = 10000\n",
    "\n",
    "roll_count = 0\n",
    "yahtzee_count = 0\n",
    "\n",
    "\n",
    "\n"
   ]
  }
 ],
 "metadata": {
  "kernelspec": {
   "display_name": "Python 2",
   "language": "python",
   "name": "python2"
  },
  "language_info": {
   "codemirror_mode": {
    "name": "ipython",
    "version": 2
   },
   "file_extension": ".py",
   "mimetype": "text/x-python",
   "name": "python",
   "nbconvert_exporter": "python",
   "pygments_lexer": "ipython2",
   "version": "2.7.13"
  }
 },
 "nbformat": 4,
 "nbformat_minor": 2
}
