{
 "cells": [
  {
   "cell_type": "markdown",
   "metadata": {},
   "source": [
    "Machine Learning Overview - Training and Evaluation\n",
    "=====\n",
    "\n",
    "**Objective**: Familiarize yourself with some general procedures for training a machine learning model.  "
   ]
  },
  {
   "cell_type": "code",
   "execution_count": null,
   "metadata": {},
   "outputs": [],
   "source": [
    "MY_NAME = \"Chris Phillips\" # <-- Your name here"
   ]
  },
  {
   "cell_type": "markdown",
   "metadata": {},
   "source": [
    "1) Bring in the game data.  Split it into 2 datasets (i.e., a training and test dataset) using an 80-20 split.  For each one, create an X and y (i.e., input features and target).  "
   ]
  },
  {
   "cell_type": "code",
   "execution_count": 5,
   "metadata": {},
   "outputs": [
    {
     "name": "stdout",
     "output_type": "stream",
     "text": [
      "(8000, 2) (8000,) (2000, 2) (2000,)\n"
     ]
    }
   ],
   "source": [
    "import numpy as np\n",
    "\n",
    "data = np.genfromtxt('http://mlid.cps.cmich.edu/resources/game-data.txt', delimiter=' ')\n",
    "\n",
    "N = int(0.8 * data.shape[0]) \n",
    "\n",
    "### SOLUTION ###\n",
    "\n",
    "GAME_train_X = data[:N,:2]\n",
    "GAME_train_y = data[:N,-1]\n",
    "GAME_test_X = data[N:,:2]\n",
    "GAME_test_y = data[N:,-1]\n",
    "\n",
    "print GAME_train_X.shape, GAME_train_y.shape, GAME_test_X.shape, GAME_test_y.shape"
   ]
  },
  {
   "cell_type": "markdown",
   "metadata": {},
   "source": [
    "2) Train up a neural network using sklearn [link](https://scikit-learn.org/stable/modules/generated/sklearn.neural_network.MLPClassifier.html#sklearn.neural_network.MLPClassifier.fit).  We will use the default parameters and fit with the training data.  "
   ]
  },
  {
   "cell_type": "code",
   "execution_count": 9,
   "metadata": {},
   "outputs": [
    {
     "name": "stdout",
     "output_type": "stream",
     "text": [
      "Accuracy on training data ... 1.0\n",
      "Accuracy on test data ... 1.0\n"
     ]
    }
   ],
   "source": [
    "from sklearn.neural_network import MLPClassifier\n",
    "\n",
    "clf = MLPClassifier(solver='lbfgs', hidden_layer_sizes=(5, 2))\n",
    "clf.fit(GAME_train_X, GAME_train_y)\n",
    "\n",
    "print \"Accuracy on training data ...\", clf.score(GAME_train_X, GAME_train_y)\n",
    "print \"Accuracy on test data ...\", clf.score(GAME_test_X, GAME_test_y)\n"
   ]
  },
  {
   "cell_type": "markdown",
   "metadata": {},
   "source": [
    "That's pretty impressive.  Let's try another problem and see how we do.\n",
    "\n",
    "3) Load only two digits of the MNIST data.  Then train up a neural network for this binary classification task.  "
   ]
  },
  {
   "cell_type": "code",
   "execution_count": 17,
   "metadata": {},
   "outputs": [
    {
     "name": "stdout",
     "output_type": "stream",
     "text": [
      "Accuracy on training data ... 1.0\n"
     ]
    }
   ],
   "source": [
    "from sklearn.datasets import load_digits\n",
    "from sklearn.neural_network import MLPClassifier\n",
    "import numpy as np\n",
    "\n",
    "digits, targets = load_digits(n_class=2, return_X_y=True)\n",
    "\n",
    "### Solution ###\n",
    "clf = MLPClassifier(solver='lbfgs', hidden_layer_sizes=(25,10))\n",
    "clf.fit(digits, targets)\n",
    "\n",
    "print \"Accuracy on training data ...\", clf.score(digits, targets)"
   ]
  },
  {
   "cell_type": "markdown",
   "metadata": {},
   "source": [
    "4) Load in all of the MNIST data.  The targets will need to be converted into a vector, with one index representing each class.  Also split all of the data into a training and test set.  "
   ]
  },
  {
   "cell_type": "code",
   "execution_count": 20,
   "metadata": {},
   "outputs": [],
   "source": [
    "from sklearn.datasets import load_digits\n",
    "import numpy as np\n",
    "\n",
    "digits, targets = load_digits(return_X_y=True)\n",
    "\n",
    "# Have a look at digits and targets ... \n",
    "\n",
    "# Split\n",
    "N = int(0.8 * digits.shape[0]) \n",
    "\n",
    "MDIGIT_train_X = digits[:N,:]\n",
    "# Create a target vector, using one-bit hot encoding\n",
    "MDIGIT_train_y = np.zeros((N, 10), dtype=int)\n",
    "for i, clss in enumerate(targets[:N]):\n",
    "    MDIGIT_train_y[i, clss] = 1\n",
    "\n",
    "MDIGIT_test_X = digits[N:,:]\n",
    "# Create another target vector for the test vector.  \n",
    "MDIGIT_test_y = np.zeros((targets[N:].shape[0], 10), dtype=int)\n",
    "for i, clss in enumerate(targets[N:]):\n",
    "    MDIGIT_test_y[i, clss] = 1"
   ]
  },
  {
   "cell_type": "markdown",
   "metadata": {},
   "source": [
    "Train a number of neural networks of different architectures and display the accuracy on the training and text data.  "
   ]
  },
  {
   "cell_type": "code",
   "execution_count": 22,
   "metadata": {},
   "outputs": [
    {
     "name": "stdout",
     "output_type": "stream",
     "text": [
      "Training accuracy (5, 2) . . . 0.0\n",
      "Test accuracy (5, 2) . . . 0.0\n",
      "Training accuracy (10, 10) . . . 0.09881697981906751\n",
      "Test accuracy (10, 10) . . . 0.09722222222222222\n",
      "Training accuracy (25, 10) . . . 0.9498956158663883\n",
      "Test accuracy (25, 10) . . . 0.85\n",
      "Training accuracy (50, 25, 10) . . . 0.9352818371607515\n",
      "Test accuracy (50, 25, 10) . . . 0.7972222222222223\n",
      "Training accuracy (50, 25, 25) . . . 0.9993041057759221\n",
      "Test accuracy (50, 25, 25) . . . 0.8722222222222222\n",
      "Training accuracy (50, 25, 25, 25) . . . 0.9450243562978428\n",
      "Test accuracy (50, 25, 25, 25) . . . 0.8055555555555556\n",
      "Training accuracy (150, 150) . . . 1.0\n",
      "Test accuracy (150, 150) . . . 0.8472222222222222\n"
     ]
    }
   ],
   "source": [
    "from sklearn.neural_network import MLPClassifier\n",
    "\n",
    "for architecture in [(5, 2), (10, 10), (25, 10), (50, 25, 10), (50, 25, 25), (50, 25, 25, 25), (150, 150)]:\n",
    "\n",
    "    ### Solution ###\n",
    "    \n",
    "    # Train and evaluate several models with sigmoid activation function\n",
    "    clf = MLPClassifier(solver='lbfgs', activation='logistic', hidden_layer_sizes=architecture)\n",
    "    clf.fit(MDIGIT_train_X, MDIGIT_train_y)\n",
    "    \n",
    "    print \"Training accuracy\", architecture, \". . .\", clf.score(MDIGIT_train_X, MDIGIT_train_y)\n",
    "    print \"Test accuracy\", architecture, \". . .\", clf.score(MDIGIT_test_X, MDIGIT_test_y)"
   ]
  },
  {
   "cell_type": "code",
   "execution_count": 24,
   "metadata": {},
   "outputs": [
    {
     "name": "stdout",
     "output_type": "stream",
     "text": [
      "Training accuracy (5, 2) . . . 0.0\n",
      "Test accuracy (5, 2) . . . 0.0\n",
      "Training accuracy (10, 10) . . . 0.20041753653444677\n",
      "Test accuracy (10, 10) . . . 0.21388888888888888\n",
      "Training accuracy (25, 10) . . . 0.9986082115518441\n",
      "Test accuracy (25, 10) . . . 0.8555555555555555\n",
      "Training accuracy (50, 25, 10) . . . 1.0\n",
      "Test accuracy (50, 25, 10) . . . 0.8444444444444444\n",
      "Training accuracy (50, 25, 25) . . . 1.0\n",
      "Test accuracy (50, 25, 25) . . . 0.8666666666666667\n",
      "Training accuracy (50, 25, 25, 25) . . . 1.0\n",
      "Test accuracy (50, 25, 25, 25) . . . 0.8555555555555555\n",
      "Training accuracy (150, 150) . . . 1.0\n",
      "Test accuracy (150, 150) . . . 0.875\n"
     ]
    }
   ],
   "source": [
    "from sklearn.neural_network import MLPClassifier\n",
    "\n",
    "for architecture in [(5, 2), (10, 10), (25, 10), (50, 25, 10), (50, 25, 25), (50, 25, 25, 25), (150, 150)]:\n",
    "\n",
    "    ### Solution ###\n",
    "    \n",
    "    # Train and evaluate several models with relu activation function\n",
    "    clf = MLPClassifier(solver='lbfgs', activation='relu', hidden_layer_sizes=architecture)\n",
    "    clf.fit(MDIGIT_train_X, MDIGIT_train_y)\n",
    "    \n",
    "    print \"Training accuracy\", architecture, \". . .\", clf.score(MDIGIT_train_X, MDIGIT_train_y)\n",
    "    print \"Test accuracy\", architecture, \". . .\", clf.score(MDIGIT_test_X, MDIGIT_test_y)\n",
    "\n"
   ]
  },
  {
   "cell_type": "markdown",
   "metadata": {},
   "source": [
    "Notice how the accuracy depends on architecture and activation functions.  Let's also look at the effect of length of training."
   ]
  },
  {
   "cell_type": "code",
   "execution_count": 26,
   "metadata": {},
   "outputs": [
    {
     "data": {
      "text/plain": [
       "[<matplotlib.lines.Line2D at 0x7f1f9245e490>]"
      ]
     },
     "execution_count": 26,
     "metadata": {},
     "output_type": "execute_result"
    },
    {
     "data": {
      "image/png": "[encoded data removed]",
      "text/plain": [
       "<Figure size 432x288 with 1 Axes>"
      ]
     },
     "metadata": {
      "needs_background": "light"
     },
     "output_type": "display_data"
    }
   ],
   "source": [
    "epochs = 150\n",
    "batch_size = 20\n",
    "\n",
    "\n",
    "digits, targets = load_digits(return_X_y=True)\n",
    "\n",
    "N = int(0.8 * digits.shape[0]) \n",
    "MDIGIT_train_X = digits[:N,:]\n",
    "MDIGIT_train_y = targets[:N]\n",
    "\n",
    "MDIGIT_test_X = digits[N:,:]\n",
    "MDIGIT_test_y = targets[N:]\n",
    "\n",
    "clf = MLPClassifier(solver='sgd', alpha=1e-5, hidden_layer_sizes=(75, 75, 50), random_state=1)\n",
    "\n",
    "training_accuracies = []\n",
    "test_accuracies = []\n",
    "\n",
    "for i in range(0, epochs):\n",
    "    # print \"Starting epoch \", i + 1\n",
    "\n",
    "    for j in range(0, MDIGIT_train_X.shape[0] // batch_size):\n",
    "\n",
    "        Xt = MDIGIT_train_X[j*batch_size:(j+1)*batch_size,:]\n",
    "        Yt = MDIGIT_train_y[j*batch_size:(j+1)*batch_size]\n",
    "        \n",
    "        clf.partial_fit(Xt, Yt, np.unique(MDIGIT_train_y))\n",
    "        \n",
    "    training_accuracies.append(clf.score(MDIGIT_train_X, MDIGIT_train_y))\n",
    "    test_accuracies.append(clf.score(MDIGIT_test_X, MDIGIT_test_y))\n",
    "        \n",
    "\n",
    "%matplotlib inline\n",
    "import matplotlib.pyplot as plt\n",
    "        \n",
    "plt.plot(training_accuracies)\n",
    "plt.plot(test_accuracies)"
   ]
  },
  {
   "cell_type": "code",
   "execution_count": null,
   "metadata": {},
   "outputs": [],
   "source": []
  }
 ],
 "metadata": {
  "kernelspec": {
   "display_name": "Python 2",
   "language": "python",
   "name": "python2"
  },
  "language_info": {
   "codemirror_mode": {
    "name": "ipython",
    "version": 2
   },
   "file_extension": ".py",
   "mimetype": "text/x-python",
   "name": "python",
   "nbconvert_exporter": "python",
   "pygments_lexer": "ipython2",
   "version": "2.7.13"
  }
 },
 "nbformat": 4,
 "nbformat_minor": 2
}
