{
 "cells": [
  {
   "cell_type": "markdown",
   "metadata": {},
   "source": [
    "Project\n",
    "=====\n",
    "\n",
    "**Due:** April 26, 2019 by 11:59PM via Blackboard\n",
    "**Vaule:** 150 points"
   ]
  },
  {
   "cell_type": "code",
   "execution_count": 1,
   "metadata": {},
   "outputs": [],
   "source": [
    "MY_NAME = \"Chris Phillips\" # <-- Your name here"
   ]
  },
  {
   "cell_type": "markdown",
   "metadata": {},
   "source": [
    "**Description:** Apply some of the techniques you have learned this semester to a new dataset.  In doing so, create a tutorial that you can share with the class.\n",
    "\n",
    "**Requirements:** \n",
    "i) The dataset must be something that is available on-line and that can be accessed via a URL.  The notebook must be entirely self-contained. \n",
    "ii) Your implementation must be accompanied by a description.\n",
    "iii) You may use existing tutorials but you must provide a citation as a URL and must *paraphrase* the text and code. iv) You may NOT simply repackage an existing notebook.\n",
    "\n",
    "The project is yours.  Do and share great things!"
   ]
  },
  {
   "cell_type": "markdown",
   "metadata": {},
   "source": [
    "# Diabetes Regression Tutorial"
   ]
  },
  {
   "cell_type": "markdown",
   "metadata": {},
   "source": [
    "### In this tutorial, we will be looking at the diabetes dataset provided by sklearn. This dataset is similar to the boston housing price data that we've used in the past.\n",
    "### Objective: Learn how to use various regressions in order to predict the target for this dataset. By the end of this tutorial, we should have a good feel for some regressions and we should be able to see which regression has provided us with the best predictions."
   ]
  },
  {
   "cell_type": "markdown",
   "metadata": {},
   "source": [
    "First, we want to import all the modules we will be using to explore this dataset. We will also define a few methods, that will be useful in our evaluations later."
   ]
  },
  {
   "cell_type": "code",
   "execution_count": 2,
   "metadata": {},
   "outputs": [],
   "source": [
    "import pandas as pd\n",
    "import numpy as np\n",
    "from matplotlib import pyplot as plt\n",
    "from sklearn.model_selection import KFold \n",
    "from sklearn.datasets import load_diabetes\n",
    "from sklearn.linear_model import LinearRegression, LogisticRegression\n",
    "from sklearn.metrics import accuracy_score\n",
    "from sklearn import svm\n",
    "\n",
    "\n",
    "def mean_difference(a, b):\n",
    "    return np.sqrt(np.square((a - b))).sum() / a.shape[0]\n",
    "\n",
    "def train_and_evaluate_model(train_X, train_y, val_X, val_y):\n",
    "    reg = LinearRegression().fit(train_X, train_y)\n",
    "    train_y_hat = reg.predict(train_X)\n",
    "    val_y_hat = reg.predict(val_X)\n",
    "    \n",
    "    return (mean_difference(train_y, train_y_hat), mean_difference(val_y, val_y_hat))"
   ]
  },
  {
   "cell_type": "markdown",
   "metadata": {},
   "source": [
    "Then, we want to import the data. Once we've imported the data, we will perform an 80/20 split. 80% of the data will be our training data while 20% of our data will be the validation data. Finally, we will print out the data and make sure everything is in order."
   ]
  },
  {
   "cell_type": "code",
   "execution_count": 3,
   "metadata": {},
   "outputs": [
    {
     "name": "stdout",
     "output_type": "stream",
     "text": [
      "[[ 0.03807591  0.05068012  0.06169621 ... -0.00259226  0.01990842\n",
      "  -0.01764613]\n",
      " [-0.00188202 -0.04464164 -0.05147406 ... -0.03949338 -0.06832974\n",
      "  -0.09220405]\n",
      " [ 0.08529891  0.05068012  0.04445121 ... -0.00259226  0.00286377\n",
      "  -0.02593034]\n",
      " ...\n",
      " [ 0.04170844  0.05068012 -0.01590626 ... -0.01107952 -0.04687948\n",
      "   0.01549073]\n",
      " [-0.04547248 -0.04464164  0.03906215 ...  0.02655962  0.04452837\n",
      "  -0.02593034]\n",
      " [-0.04547248 -0.04464164 -0.0730303  ... -0.03949338 -0.00421986\n",
      "   0.00306441]] [151.  75. 141. 206. 135.  97. 138.  63. 110. 310. 101.  69. 179. 185.\n",
      " 118. 171. 166. 144.  97. 168.  68.  49.  68. 245. 184. 202. 137.  85.\n",
      " 131. 283. 129.  59. 341.  87.  65. 102. 265. 276. 252.  90. 100.  55.\n",
      "  61.  92. 259.  53. 190. 142.  75. 142. 155. 225.  59. 104. 182. 128.\n",
      "  52.  37. 170. 170.  61. 144.  52. 128.  71. 163. 150.  97. 160. 178.\n",
      "  48. 270. 202. 111.  85.  42. 170. 200. 252. 113. 143.  51.  52. 210.\n",
      "  65. 141.  55. 134.  42. 111.  98. 164.  48.  96.  90. 162. 150. 279.\n",
      "  92.  83. 128. 102. 302. 198.  95.  53. 134. 144. 232.  81. 104.  59.\n",
      " 246. 297. 258. 229. 275. 281. 179. 200. 200. 173. 180.  84. 121. 161.\n",
      "  99. 109. 115. 268. 274. 158. 107.  83. 103. 272.  85. 280. 336. 281.\n",
      " 118. 317. 235.  60. 174. 259. 178. 128.  96. 126. 288.  88. 292.  71.\n",
      " 197. 186.  25.  84.  96. 195.  53. 217. 172. 131. 214.  59.  70. 220.\n",
      " 268. 152.  47.  74. 295. 101. 151. 127. 237. 225.  81. 151. 107.  64.\n",
      " 138. 185. 265. 101. 137. 143. 141.  79. 292. 178.  91. 116.  86. 122.\n",
      "  72. 129. 142.  90. 158.  39. 196. 222. 277.  99. 196. 202. 155.  77.\n",
      " 191.  70.  73.  49.  65. 263. 248. 296. 214. 185.  78.  93. 252. 150.\n",
      "  77. 208.  77. 108. 160.  53. 220. 154. 259.  90. 246. 124.  67.  72.\n",
      " 257. 262. 275. 177.  71.  47. 187. 125.  78.  51. 258. 215. 303. 243.\n",
      "  91. 150. 310. 153. 346.  63.  89.  50.  39. 103. 308. 116. 145.  74.\n",
      "  45. 115. 264.  87. 202. 127. 182. 241.  66.  94. 283.  64. 102. 200.\n",
      " 265.  94. 230. 181. 156. 233.  60. 219.  80.  68. 332. 248.  84. 200.\n",
      "  55.  85.  89.  31. 129.  83. 275.  65. 198. 236. 253. 124.  44. 172.\n",
      " 114. 142. 109. 180. 144. 163. 147.  97. 220. 190. 109. 191. 122. 230.\n",
      " 242. 248. 249. 192. 131. 237.  78. 135. 244. 199. 270. 164.  72.  96.\n",
      " 306.  91. 214.  95. 216. 263. 178. 113. 200. 139. 139.  88. 148.  88.\n",
      " 243.  71.  77. 109. 272.  60.  54. 221.  90. 311. 281. 182. 321.  58.\n",
      " 262. 206. 233. 242. 123. 167.  63. 197.  71. 168. 140. 217. 121. 235.\n",
      " 245.  40.  52. 104. 132.  88.  69. 219.  72. 201. 110.  51. 277.  63.\n",
      " 118.  69. 273. 258.  43. 198. 242. 232. 175.  93. 168. 275. 293. 281.\n",
      "  72. 140. 189. 181. 209. 136. 261. 113. 131. 174. 257.  55.  84.  42.\n",
      " 146. 212. 233.  91. 111. 152. 120.  67. 310.  94. 183.  66. 173.  72.\n",
      "  49.  64.  48. 178. 104. 132. 220.  57.]\n"
     ]
    }
   ],
   "source": [
    "X, y = load_diabetes(return_X_y=True)\n",
    "\n",
    "N = int(0.8 * X.shape[0])\n",
    "\n",
    "train_X = X[:N,:]\n",
    "train_y = y[:N]\n",
    "val_X = X[N:,:]\n",
    "val_y = y[N:]\n",
    "\n",
    "print X, y"
   ]
  },
  {
   "cell_type": "markdown",
   "metadata": {},
   "source": [
    "Now, lets look at the first model we'll be evaluating, the classic linear regression."
   ]
  },
  {
   "cell_type": "code",
   "execution_count": 4,
   "metadata": {},
   "outputs": [
    {
     "name": "stdout",
     "output_type": "stream",
     "text": [
      "Score on training:  0.5088933608685378\n",
      "Mean difference on training:  43.4787394570525\n",
      "Score on validation:  0.543757097617623\n",
      "Mean difference on validation:  42.54819305780144\n"
     ]
    }
   ],
   "source": [
    "reg = LinearRegression().fit(train_X, train_y)\n",
    "\n",
    "train_y_hat = reg.predict(train_X)\n",
    "val_y_hat = reg.predict(val_X)\n",
    "\n",
    "print \"Score on training: \", reg.score(train_X, train_y)\n",
    "print \"Mean difference on training: \", mean_difference(train_y, train_y_hat)\n",
    "print \"Score on validation: \", reg.score(val_X, val_y)\n",
    "print \"Mean difference on validation: \", mean_difference(val_y, val_y_hat)"
   ]
  },
  {
   "cell_type": "markdown",
   "metadata": {},
   "source": [
    "While we're here, lets visualize this data. We want this data to be as much of a straight line as possible. The ideal would be where X = Y. This would mean that the predictions lined up perfectly with the true values of the data."
   ]
  },
  {
   "cell_type": "code",
   "execution_count": 5,
   "metadata": {},
   "outputs": [
    {
     "data": {
      "text/plain": [
       "Text(0,0.5,'Predictions')"
      ]
     },
     "execution_count": 5,
     "metadata": {},
     "output_type": "execute_result"
    },
    {
     "data": {
      "image/png": "[encoded data removed]",
      "text/plain": [
       "<Figure size 432x288 with 1 Axes>"
      ]
     },
     "metadata": {
      "needs_background": "light"
     },
     "output_type": "display_data"
    }
   ],
   "source": [
    "plt.scatter(val_y, val_y_hat)\n",
    "plt.xlabel('True Values')\n",
    "plt.ylabel('Predictions')"
   ]
  },
  {
   "cell_type": "markdown",
   "metadata": {},
   "source": [
    "The last thing we can look at doing with this regression is finding which features are the most predictive of diabetes. We will look at greedily finding the best 4 features."
   ]
  },
  {
   "cell_type": "code",
   "execution_count": 6,
   "metadata": {},
   "outputs": [
    {
     "name": "stdout",
     "output_type": "stream",
     "text": [
      "After 4 rounds, the best set of features is [2, 8, 3, 4]. These features came back with the following pair of mean differences: (45.04745262851978, 44.45193091463713)\n",
      "Referencing the SciKit Learn documentation, we know that these features are:\n",
      "Body Mass Index \n",
      "Average Blood Pressure \n",
      "Blood Serum Measurement 1 \n",
      "Blood Serum Measurement 5\n"
     ]
    }
   ],
   "source": [
    "features = []\n",
    "\n",
    "for i in range(0, X.shape[1]):\n",
    "    sub_train_X = train_X[:,i].reshape((-1,1))\n",
    "    sub_val_X = val_X[:,i].reshape((-1,1))\n",
    "    \n",
    "#     print i, train_and_evaluate_model(sub_train_X, train_y, sub_val_X, val_y)\n",
    "    \n",
    "features.append(2)\n",
    "\n",
    "# print \"-------\"\n",
    "for i in [i for i in range(0, X.shape[1]) if i not in features]:\n",
    "    sub_train_X = train_X[:, [i, features[0]]]\n",
    "    sub_val_X = val_X[:, [i, features[0]]]\n",
    "    \n",
    "#     print i, features[0], train_and_evaluate_model(sub_train_X, train_y, sub_val_X, val_y)\n",
    "    \n",
    "features.append(8)\n",
    "\n",
    "# print \"-------\"\n",
    "for i in [i for i in range(0, X.shape[1]) if i not in features]:\n",
    "    sub_train_X = train_X[:, [i, features[0], features[1]]]\n",
    "    sub_val_X = val_X[:, [i, features[0], features[1]]]\n",
    "    \n",
    "#     print i, features[1], features[0], train_and_evaluate_model(sub_train_X, train_y, sub_val_X, val_y)\n",
    "    \n",
    "features.append(3)\n",
    "\n",
    "# print \"-------\"\n",
    "for i in [i for i in range(0, X.shape[1]) if i not in features]:\n",
    "    sub_train_X = train_X[:, [i, features[0], features[1], features[2]]]\n",
    "    sub_val_X = val_X[:, [i, features[0], features[1], features[2]]]\n",
    "    \n",
    "#     print i, features[2], features[1], features[0], train_and_evaluate_model(sub_train_X, train_y, sub_val_X, val_y)\n",
    "    \n",
    "features.append(4)\n",
    "\n",
    "sub_train_X = train_X[:, [features[0], features[1], features[2], features[3]]]\n",
    "sub_val_X = val_X[:, [features[0], features[1], features[2], features[3]]]\n",
    "\n",
    "results = train_and_evaluate_model(sub_train_X, train_y, sub_val_X, val_y)\n",
    "\n",
    "print('After 4 rounds, the best set of features is {}. These features came back with the following pair of mean differences: {}'\n",
    "      .format(features, results))\n",
    "\n",
    "print('Referencing the SciKit Learn documentation, we know that these features are:')\n",
    "print(\"Body Mass Index \\nAverage Blood Pressure \\nBlood Serum Measurement 1 \\nBlood Serum Measurement 5\")\n"
   ]
  },
  {
   "cell_type": "markdown",
   "metadata": {},
   "source": [
    "Next, we will move into using a support vector machine and analyzing how well it performs a regression."
   ]
  },
  {
   "cell_type": "code",
   "execution_count": 7,
   "metadata": {},
   "outputs": [
    {
     "name": "stdout",
     "output_type": "stream",
     "text": [
      "Score on training: "
     ]
    },
    {
     "name": "stderr",
     "output_type": "stream",
     "text": [
      "/usr/local/lib/python2.7/dist-packages/sklearn/svm/base.py:196: FutureWarning: The default value of gamma will change from 'auto' to 'scale' in version 0.22 to account better for unscaled features. Set gamma explicitly to 'auto' or 'scale' to avoid this warning.\n",
      "  \"avoid this warning.\", FutureWarning)\n"
     ]
    },
    {
     "name": "stdout",
     "output_type": "stream",
     "text": [
      " 0.0169971671388102\n",
      "Mean difference on training:  78.43059490084985\n",
      "Score on validation:  0.0\n",
      "Mean difference on validation:  78.95505617977528\n"
     ]
    }
   ],
   "source": [
    "clf = svm.SVC()\n",
    "clf.fit(train_X, train_y)\n",
    "\n",
    "train_y_hat = clf.predict(train_X)\n",
    "val_y_hat = clf.predict(val_X)\n",
    "\n",
    "print \"Score on training: \", clf.score(train_X, train_y)\n",
    "print \"Mean difference on training: \", mean_difference(train_y, train_y_hat)\n",
    "print \"Score on validation: \", clf.score(val_X, val_y)\n",
    "print \"Mean difference on validation: \", mean_difference(val_y, val_y_hat)"
   ]
  },
  {
   "cell_type": "markdown",
   "metadata": {},
   "source": [
    "These results look significantly worse than the linear regression, let's try plotting it out to see if we can confirm or deny that this model isn't working very well."
   ]
  },
  {
   "cell_type": "code",
   "execution_count": 8,
   "metadata": {},
   "outputs": [
    {
     "data": {
      "text/plain": [
       "Text(0,0.5,'Predictions')"
      ]
     },
     "execution_count": 8,
     "metadata": {},
     "output_type": "execute_result"
    },
    {
     "data": {
      "image/png": "[encoded data removed]",
      "text/plain": [
       "<Figure size 432x288 with 1 Axes>"
      ]
     },
     "metadata": {
      "needs_background": "light"
     },
     "output_type": "display_data"
    }
   ],
   "source": [
    "plt.scatter(val_y, val_y_hat)\n",
    "plt.xlabel('True Values')\n",
    "plt.ylabel('Predictions')"
   ]
  },
  {
   "cell_type": "markdown",
   "metadata": {},
   "source": [
    "That doesn't look good at all! None of these predictions were right, or even close for that matter. All of these predictions seem to all be converging on 0. Let's see what a 20-fold cross validation could tell us."
   ]
  },
  {
   "cell_type": "code",
   "execution_count": 9,
   "metadata": {},
   "outputs": [
    {
     "name": "stdout",
     "output_type": "stream",
     "text": [
      "Accuracy on validation folds\n",
      "[0.0, 0.0, 0.0, 0.0, 0.0, 0.0, 0.0, 0.0, 0.0, 0.0, 0.0, 0.0, 0.0, 0.0, 0.0, 0.045454545454545456, 0.0, 0.0, 0.0, 0.0]\n",
      "Avg. over all validation folds 0.0022727272727272726\n"
     ]
    }
   ],
   "source": [
    "k = 20\n",
    "\n",
    "kf = KFold(n_splits=k) \n",
    "kf.get_n_splits(X)\n",
    "\n",
    "fold_accuracies = []\n",
    "\n",
    "for train_index, val_index in kf.split(X):\n",
    "\n",
    "    train_X = X[train_index,:]\n",
    "    train_y = y[train_index]\n",
    "    val_X = X[val_index,:]\n",
    "    val_y = y[val_index]\n",
    "    \n",
    "    clf = svm.SVC(C=1, gamma=0.0001)\n",
    "    clf.fit(train_X, train_y)\n",
    "    \n",
    "    fold_accuracies.append(accuracy_score(clf.predict(val_X), val_y))\n",
    "\n",
    "print \"Accuracy on validation folds\"\n",
    "print fold_accuracies\n",
    "\n",
    "print \"Avg. over all validation folds\", sum(fold_accuracies) / k"
   ]
  },
  {
   "cell_type": "markdown",
   "metadata": {},
   "source": [
    "So, a support vector machine might not be the best choice for us here. Lets move on to our final regression, a logistic regression, to see what kind of results we can get here."
   ]
  },
  {
   "cell_type": "code",
   "execution_count": 10,
   "metadata": {},
   "outputs": [
    {
     "name": "stdout",
     "output_type": "stream",
     "text": [
      "Score on training:  0.014285714285714285\n",
      "Mean difference on training:  78.20238095238095\n",
      "Score on validation:  0.0\n",
      "Mean difference on validation:  84.9090909090909\n"
     ]
    },
    {
     "name": "stderr",
     "output_type": "stream",
     "text": [
      "/usr/local/lib/python2.7/dist-packages/sklearn/linear_model/logistic.py:433: FutureWarning: Default solver will be changed to 'lbfgs' in 0.22. Specify a solver to silence this warning.\n",
      "  FutureWarning)\n",
      "/usr/local/lib/python2.7/dist-packages/sklearn/linear_model/logistic.py:460: FutureWarning: Default multi_class will be changed to 'auto' in 0.22. Specify the multi_class option to silence this warning.\n",
      "  \"this warning.\", FutureWarning)\n"
     ]
    }
   ],
   "source": [
    "logReg = LogisticRegression().fit(train_X, train_y)\n",
    "\n",
    "train_y_hat = logReg.predict(train_X)\n",
    "val_y_hat = logReg.predict(val_X)\n",
    "\n",
    "print \"Score on training: \", logReg.score(train_X, train_y)\n",
    "print \"Mean difference on training: \", mean_difference(train_y, train_y_hat)\n",
    "print \"Score on validation: \", logReg.score(val_X, val_y)\n",
    "print \"Mean difference on validation: \", mean_difference(val_y, val_y_hat)"
   ]
  },
  {
   "cell_type": "markdown",
   "metadata": {},
   "source": [
    "Finally, we will graph this one to confirm the numbers that we are seeing here."
   ]
  },
  {
   "cell_type": "code",
   "execution_count": 11,
   "metadata": {},
   "outputs": [
    {
     "data": {
      "text/plain": [
       "Text(0,0.5,'Predictions')"
      ]
     },
     "execution_count": 11,
     "metadata": {},
     "output_type": "execute_result"
    },
    {
     "data": {
      "image/png": "[encoded data removed]",
      "text/plain": [
       "<Figure size 432x288 with 1 Axes>"
      ]
     },
     "metadata": {
      "needs_background": "light"
     },
     "output_type": "display_data"
    }
   ],
   "source": [
    "plt.scatter(val_y, val_y_hat)\n",
    "plt.xlabel('True Values')\n",
    "plt.ylabel('Predictions')"
   ]
  },
  {
   "cell_type": "markdown",
   "metadata": {},
   "source": [
    "As we can see, we are still having problems similar to those of the support vector machine. The X's are not lining up with the Y's meaning that the predictions are not matching up with the true values."
   ]
  },
  {
   "cell_type": "markdown",
   "metadata": {},
   "source": [
    "## Conclusions"
   ]
  },
  {
   "cell_type": "markdown",
   "metadata": {},
   "source": [
    "As we have discovered through the course of this tutorial, the linear regression is simply the best regression for evaluating this dataset. We're able to see this in both the acurracy ratings, that did far better than the other two regressions, and the graph, that showed a postive linear relationship, as opposed to the lack of relationship that we see on the other two graphs. However, through this tutorial, and the use of a linear regression, we were able to discover some nifty information in regards to diabetes and some potential symptoms.\n",
    "\n",
    "A higher score for any of the following correlates with a higher likelihood of diabetes:\n",
    "* Body Mass Index\n",
    "* Average Blood Pressure\n",
    "* TC - blood measurement\n",
    "* LTG - blood measurement"
   ]
  },
  {
   "cell_type": "markdown",
   "metadata": {},
   "source": [
    "References\n",
    "-----\n",
    "\n",
    "* [Towards Data Science](https://towardsdatascience.com/train-test-split-and-cross-validation-in-python-80b61beca4b6)\n",
    "\n",
    "* [SciKit Learn Diabetes Documentation](https://scikit-learn.org/stable/datasets/index.html#diabetes-dataset)\n"
   ]
  },
  {
   "cell_type": "markdown",
   "metadata": {},
   "source": [
    "Footnotes\n",
    "-----\n",
    "\n",
    "* [Working with Markdown in Jupyter](https://jupyter-notebook.readthedocs.io/en/stable/examples/Notebook/Working%20With%20Markdown%20Cells.html).\n",
    "* [Creating a Jupyter notebook](https://www.dataquest.io/blog/jupyter-notebook-tutorial/)."
   ]
  }
 ],
 "metadata": {
  "kernelspec": {
   "display_name": "Python 2",
   "language": "python",
   "name": "python2"
  },
  "language_info": {
   "codemirror_mode": {
    "name": "ipython",
    "version": 2
   },
   "file_extension": ".py",
   "mimetype": "text/x-python",
   "name": "python",
   "nbconvert_exporter": "python",
   "pygments_lexer": "ipython2",
   "version": "2.7.13"
  }
 },
 "nbformat": 4,
 "nbformat_minor": 2
}
