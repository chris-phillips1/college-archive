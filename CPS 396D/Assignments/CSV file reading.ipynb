{
 "cells": [
  {
   "cell_type": "markdown",
   "metadata": {},
   "source": [
    "# Using numpy to Read and Write CSV Files"
   ]
  },
  {
   "cell_type": "markdown",
   "metadata": {},
   "source": [
    "In this lab, you will be learning how to read and write CSV \n",
    "(comma-separated value) files using the numpy module, as well \n",
    "as get further practice doing matrix manipulations using numpy. \n",
    "You must submit your final notebook on BlackBoard to get credit\n",
    "for this lab."
   ]
  },
  {
   "cell_type": "markdown",
   "metadata": {},
   "source": [
    "## Problem 1\n",
    "\n",
    "Reading CSV files can be done easily using numpy and the loadtxt method.\n",
    "Download the CSV file located on BlackBoard along with this lab notebook\n",
    "and store the data into a matrix named temps. NOTE: It will be helpful\n",
    "if you download the CSV file from BlackBoard, then upload it into Jupyter.\n",
    "Print out the values in temps. Use a method in the numpy module named \n",
    "genfromtxt, and look at the delimiter and names parameter attributes.\n",
    "Make sure the names parameter is assigned the valuie of True."
   ]
  },
  {
   "cell_type": "code",
   "execution_count": 1,
   "metadata": {
    "ExecuteTime": {
     "end_time": "2019-01-25T13:47:10.860596Z",
     "start_time": "2019-01-25T13:47:10.755449Z"
    }
   },
   "outputs": [
    {
     "name": "stdout",
     "output_type": "stream",
     "text": [
      "[(2019., 1., 17., 0., 0., 31.36,  0. , 35.16, 26.34)\n",
      " (2019., 1., 18., 0., 0., 28.13,  0.1, 31.76, 25.64)\n",
      " (2019., 1., 19., 0., 0., 19.71,  9.7, 27.91,  6.16)\n",
      " (2019., 1., 20., 0., 0.,  5.81,  0. , 11.42,  0.51)\n",
      " (2019., 1., 21., 0., 0.,  6.56,  0. , 11.96,  0.28)\n",
      " (2019., 1., 22., 0., 0., 23.48, 13.7, 33.51, 11.01)\n",
      " (2019., 1., 23., 0., 0., 28.69, 13. , 33.78, 19.65)\n",
      " (2019., 1., 24., 0., 0., 17.95,  0. , 22.92,  4.89)]\n"
     ]
    }
   ],
   "source": [
    "import numpy as np\n",
    "\n",
    "temps = np.genfromtxt('MICity.csv', delimiter=',', names=True)\n",
    "print(temps)"
   ]
  },
  {
   "cell_type": "markdown",
   "metadata": {},
   "source": [
    "## Problem 2\n",
    "\n",
    "When you printed out temps, did it print out everything from the data file (Yes or No). If No, what was missing from the printout?"
   ]
  },
  {
   "cell_type": "raw",
   "metadata": {},
   "source": [
    "No, the names were missing. This was intentional though, as indicated by the names parameter."
   ]
  },
  {
   "cell_type": "markdown",
   "metadata": {
    "ExecuteTime": {
     "end_time": "2019-01-25T13:38:24.154045Z",
     "start_time": "2019-01-25T13:38:24.140625Z"
    }
   },
   "source": [
    "## Problem 3\n",
    "\n",
    "The temps object contains a data attribute named dtypes (eg temps.dtype). Print ouit the data types for the temps object.\n",
    "In the cell below the output, explain what the '<f8' signifies. "
   ]
  },
  {
   "cell_type": "code",
   "execution_count": 2,
   "metadata": {
    "ExecuteTime": {
     "end_time": "2019-01-25T13:47:10.869675Z",
     "start_time": "2019-01-25T13:47:10.864570Z"
    }
   },
   "outputs": [
    {
     "name": "stdout",
     "output_type": "stream",
     "text": [
      "[('Year', '<f8'), ('Month', '<f8'), ('Day', '<f8'), ('Hour', '<f8'), ('Minute', '<f8'), ('Temperature_daily_mean', '<f8'), ('Total_Precipitation', '<f8'), ('Temperature_daily_max', '<f8'), ('Temperature_daily_min', '<f8')]\n"
     ]
    }
   ],
   "source": [
    "print(temps.dtype)"
   ]
  },
  {
   "cell_type": "raw",
   "metadata": {},
   "source": [
    "The <f8 signifies a little-endian 64-bit floating point number."
   ]
  },
  {
   "cell_type": "markdown",
   "metadata": {},
   "source": [
    "## Problem 4\n",
    "\n",
    "There exists a names attribute in the dtype tuple. Print out the dtype names for the temps object."
   ]
  },
  {
   "cell_type": "code",
   "execution_count": 3,
   "metadata": {
    "ExecuteTime": {
     "end_time": "2019-01-25T13:47:10.876769Z",
     "start_time": "2019-01-25T13:47:10.872644Z"
    }
   },
   "outputs": [
    {
     "name": "stdout",
     "output_type": "stream",
     "text": [
      "('Year', 'Month', 'Day', 'Hour', 'Minute', 'Temperature_daily_mean', 'Total_Precipitation', 'Temperature_daily_max', 'Temperature_daily_min')\n"
     ]
    }
   ],
   "source": [
    "print(temps.dtype.names)"
   ]
  },
  {
   "cell_type": "markdown",
   "metadata": {
    "ExecuteTime": {
     "end_time": "2019-01-25T13:42:36.203924Z",
     "start_time": "2019-01-25T13:42:36.195022Z"
    }
   },
   "source": [
    "## Problem 5\n",
    "\n",
    "Print out the days column from the temps data.\n",
    "Print out the daily nmean temperatures on a separate line. "
   ]
  },
  {
   "cell_type": "code",
   "execution_count": 4,
   "metadata": {
    "ExecuteTime": {
     "end_time": "2019-01-25T13:47:10.885315Z",
     "start_time": "2019-01-25T13:47:10.880561Z"
    }
   },
   "outputs": [
    {
     "name": "stdout",
     "output_type": "stream",
     "text": [
      "[17. 18. 19. 20. 21. 22. 23. 24.]\n",
      "[31.36 28.13 19.71  5.81  6.56 23.48 28.69 17.95]\n"
     ]
    }
   ],
   "source": [
    "print(temps['Day'])\n",
    "print(temps['Temperature_daily_mean'])"
   ]
  },
  {
   "cell_type": "markdown",
   "metadata": {},
   "source": [
    "## Problem 6\n",
    "\n",
    "Calculate the mean of the daily temperature means, the daily temperature mins and the daiy temperature maxes. Print out the results, all on the same line with labels (e.g. Mean Temp Ave: {}, Min Temp Ave: {}, Max Temp Ave: {}). Print to 2 significant digits."
   ]
  },
  {
   "cell_type": "code",
   "execution_count": 5,
   "metadata": {
    "ExecuteTime": {
     "end_time": "2019-01-25T13:47:10.891005Z",
     "start_time": "2019-01-25T13:47:10.887678Z"
    }
   },
   "outputs": [
    {
     "name": "stdout",
     "output_type": "stream",
     "text": [
      "[31.36 28.13 19.71  5.81  6.56 23.48 28.69 17.95]\n"
     ]
    }
   ],
   "source": [
    "print(temps['Temperature_daily_mean'])"
   ]
  },
  {
   "cell_type": "code",
   "execution_count": 6,
   "metadata": {
    "ExecuteTime": {
     "end_time": "2019-01-25T13:53:08.027887Z",
     "start_time": "2019-01-25T13:53:08.015425Z"
    }
   },
   "outputs": [
    {
     "name": "stdout",
     "output_type": "stream",
     "text": [
      "Mean Temp Ave: 20.21, Min Temp Ave: 11.81, Max Temp Ave: 26.05\n"
     ]
    }
   ],
   "source": [
    "aveTempMean = np.average(temps['Temperature_daily_mean'])\n",
    "aveTempMin = np.average(temps['Temperature_daily_min'])\n",
    "aveTempMax = np.average(temps['Temperature_daily_max'])\n",
    "print('Mean Temp Ave: {:.2f}, Min Temp Ave: {:.2f}, Max Temp Ave: {:.2f}'.format(aveTempMean, aveTempMin, aveTempMax))"
   ]
  },
  {
   "cell_type": "code",
   "execution_count": null,
   "metadata": {},
   "outputs": [],
   "source": []
  }
 ],
 "metadata": {
  "kernelspec": {
   "display_name": "Python 3",
   "language": "python",
   "name": "python3"
  },
  "language_info": {
   "codemirror_mode": {
    "name": "ipython",
    "version": 3
   },
   "file_extension": ".py",
   "mimetype": "text/x-python",
   "name": "python",
   "nbconvert_exporter": "python",
   "pygments_lexer": "ipython3",
   "version": "3.5.3"
  },
  "latex_envs": {
   "LaTeX_envs_menu_present": true,
   "autoclose": false,
   "autocomplete": true,
   "bibliofile": "biblio.bib",
   "cite_by": "apalike",
   "current_citInitial": 1,
   "eqLabelWithNumbers": true,
   "eqNumInitial": 1,
   "hotkeys": {
    "equation": "Ctrl-E",
    "itemize": "Ctrl-I"
   },
   "labels_anchors": false,
   "latex_user_defs": false,
   "report_style_numbering": false,
   "user_envs_cfg": false
  }
 },
 "nbformat": 4,
 "nbformat_minor": 2
}
