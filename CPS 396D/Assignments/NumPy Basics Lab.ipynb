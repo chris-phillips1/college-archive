{
 "cells": [
  {
   "cell_type": "markdown",
   "metadata": {},
   "source": [
    "# NumPy Basics Lab\n",
    "\n",
    "This lab gives you practice using the basics of numpy arrays. Complete the exercises shown and submit your completed notebook on BlackBoard to receive credit."
   ]
  },
  {
   "cell_type": "markdown",
   "metadata": {},
   "source": [
    "## Problem 1\n",
    "\n",
    "Write a NumPy program to create a 6 element array with the values [0 2 4 6 8 10] and store it into a variable named array1. Print out the array."
   ]
  },
  {
   "cell_type": "code",
   "execution_count": 1,
   "metadata": {},
   "outputs": [
    {
     "name": "stdout",
     "output_type": "stream",
     "text": [
      "[ 0  2  4  6  8 10]\n"
     ]
    }
   ],
   "source": [
    "import numpy as np\n",
    "\n",
    "array1 = np.array([0,2,4,6,8,10])\n",
    "print(array1)"
   ]
  },
  {
   "cell_type": "markdown",
   "metadata": {},
   "source": [
    "## Problem 2\n",
    "\n",
    "Create a 3x3 matrix with values ranging from 2 to 10, storing the matrix into a variable named mat1. Print out the matrix.\n",
    "\n",
    "Expected Output:\n",
    "\n",
    "[[ 2 3 4]\n",
    " [ 5 6 7]\n",
    "[ 8 9 10]] "
   ]
  },
  {
   "cell_type": "code",
   "execution_count": 2,
   "metadata": {},
   "outputs": [
    {
     "name": "stdout",
     "output_type": "stream",
     "text": [
      "[[ 2  3  4]\n",
      " [ 5  6  7]\n",
      " [ 8  9 10]]\n"
     ]
    }
   ],
   "source": [
    "mat1 = np.matrix([[2,3,4], [5,6,7], [8,9,10]])\n",
    "\n",
    "print(mat1)"
   ]
  },
  {
   "cell_type": "markdown",
   "metadata": {},
   "source": [
    "## Problem 3\n",
    "\n",
    "Create a 3x3 matrix with random floating point values ranging from 10.0 to 100.0. Store the result into a variable named mat2. Print out the matrix. Use the random module."
   ]
  },
  {
   "cell_type": "code",
   "execution_count": 3,
   "metadata": {
    "code_folding": []
   },
   "outputs": [
    {
     "name": "stdout",
     "output_type": "stream",
     "text": [
      "[[44.0, 45.5, 38.2], [87.2, 57.7, 43.3], [24.3, 78.9, 73.6]]\n"
     ]
    }
   ],
   "source": [
    "import random\n",
    "\n",
    "mat2 = [[0,0,0],[0,0,0],[0,0,0]]\n",
    "\n",
    "for x in range(3):\n",
    "    for y in range(3):\n",
    "        mat2[x][y] = round(random.uniform(10.0, 100.0), 1)\n",
    "        \n",
    "print(mat2)"
   ]
  },
  {
   "cell_type": "markdown",
   "metadata": {},
   "source": [
    "## Problem 4\n",
    "\n",
    "Multiply mat1 and mat2 and store the result into a variable named mat3, printing out the result."
   ]
  },
  {
   "cell_type": "code",
   "execution_count": 4,
   "metadata": {},
   "outputs": [
    {
     "name": "stdout",
     "output_type": "stream",
     "text": [
      "[[ 446.8  579.7  500.7]\n",
      " [ 913.3 1126.   966. ]\n",
      " [1379.8 1672.3 1431.3]]\n"
     ]
    }
   ],
   "source": [
    "mat3 = mat1 * mat2\n",
    "print(mat3)"
   ]
  },
  {
   "cell_type": "markdown",
   "metadata": {},
   "source": [
    "## Problem 5\n",
    "\n",
    "Do an element-wise multiplication of mat1 and mat2. Store the result into a matrix named mat4 and print the result."
   ]
  },
  {
   "cell_type": "code",
   "execution_count": 5,
   "metadata": {},
   "outputs": [
    {
     "name": "stdout",
     "output_type": "stream",
     "text": [
      "[[ 88.  136.5 152.8]\n",
      " [436.  346.2 303.1]\n",
      " [194.4 710.1 736. ]]\n"
     ]
    }
   ],
   "source": [
    "mat4 = np.multiply(mat1, mat2)\n",
    "print(mat4)"
   ]
  },
  {
   "cell_type": "code",
   "execution_count": null,
   "metadata": {},
   "outputs": [],
   "source": []
  }
 ],
 "metadata": {
  "kernelspec": {
   "display_name": "Python 3",
   "language": "python",
   "name": "python3"
  },
  "language_info": {
   "codemirror_mode": {
    "name": "ipython",
    "version": 3
   },
   "file_extension": ".py",
   "mimetype": "text/x-python",
   "name": "python",
   "nbconvert_exporter": "python",
   "pygments_lexer": "ipython3",
   "version": "3.5.3"
  }
 },
 "nbformat": 4,
 "nbformat_minor": 2
}
