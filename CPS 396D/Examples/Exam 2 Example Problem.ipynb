{
 "cells": [
  {
   "cell_type": "markdown",
   "metadata": {},
   "source": [
    "# Exam 2 Example Problem\n",
    "The exam will be open book, open notes. It we be 50 minutes in length, and will consist of 3 open-ended questions you must answer either programmtically or via a combination of programs and visualizations.\n",
    "\n",
    "Comments required to get partial credit.\n",
    "\n",
    "Submission must be via BlackBoard as a Jupyter notebook."
   ]
  },
  {
   "cell_type": "markdown",
   "metadata": {},
   "source": [
    "Assume you have the following velocity function, representing a road trip. You must determine the distance traveled and the maximum acceleration."
   ]
  },
  {
   "cell_type": "markdown",
   "metadata": {},
   "source": [
    "$v(t) = 5 * t^2 - 10 * (t-20)^2$"
   ]
  },
  {
   "cell_type": "markdown",
   "metadata": {},
   "source": [
    "## 1. What is the distance traveled from time t = 0 to time t = 30? Assume units of minutes for t and miles for d."
   ]
  },
  {
   "cell_type": "code",
   "execution_count": 6,
   "metadata": {},
   "outputs": [
    {
     "name": "stdout",
     "output_type": "stream",
     "text": [
      "The vehicle traveled 18522.50 miles\n"
     ]
    },
    {
     "data": {
      "text/plain": [
       "[<matplotlib.lines.Line2D at 0x7fa228634630>]"
      ]
     },
     "execution_count": 6,
     "metadata": {},
     "output_type": "execute_result"
    },
    {
     "data": {
      "image/png": "[encoded data removed]",
      "text/plain": [
       "<Figure size 432x288 with 1 Axes>"
      ]
     },
     "metadata": {
      "needs_background": "light"
     },
     "output_type": "display_data"
    }
   ],
   "source": [
    "def integrateByTrapezoid(f, x1, x2, w):\n",
    "    result = 0.0\n",
    "    \n",
    "    i = x1 # initial starting point\n",
    "    while i <= x2: # loop until reaching the end\n",
    "        # Calculate f(i)\n",
    "        f_i = f(i)\n",
    "        # Calculate f(i + w)\n",
    "        f_iw = f(i + w) \n",
    "        # Calculate the area under the trapezoid\n",
    "        result += (w * f_i) + (0.5 * w * (f_iw - f_i))\n",
    "        \n",
    "        i += w\n",
    "    return result\n",
    "\n",
    "def velocity(t): # Velocity as a function of time\n",
    "    result = 5 * t**2 - 10 * (t - 20)**2\n",
    "    return result\n",
    "\n",
    "distance = integrateByTrapezoid(velocity, 0, 30, 1)\n",
    "print('The vehicle traveled {:.2f} miles'.format(distance))\n",
    "\n",
    "import numpy as np\n",
    "import matplotlib as mpl\n",
    "import matplotlib.pyplot as plt\n",
    "%matplotlib inline\n",
    "\n",
    "times = np.linspace(0, 30, 200)\n",
    "vels = velocity(times)\n",
    "\n",
    "figs, ax = plt.subplots()\n",
    "\n",
    "ax.plot(times, vels)"
   ]
  },
  {
   "cell_type": "markdown",
   "metadata": {},
   "source": [
    "## 2. What was the maximum acceleration during this 30 minute period?"
   ]
  },
  {
   "cell_type": "code",
   "execution_count": 10,
   "metadata": {},
   "outputs": [
    {
     "name": "stdout",
     "output_type": "stream",
     "text": [
      "400.0\n"
     ]
    }
   ],
   "source": [
    "def derivativeAtPoint2(f, x, h):\n",
    "    result = (f(x + h) - f(x - h)) / (2 * h)\n",
    "    return result\n",
    "\n",
    "accelerations = derivativeAtPoint2(velocity, times, 25)\n",
    "\n",
    "print(max(accelerations))"
   ]
  },
  {
   "cell_type": "code",
   "execution_count": null,
   "metadata": {},
   "outputs": [],
   "source": []
  }
 ],
 "metadata": {
  "kernelspec": {
   "display_name": "Python 3",
   "language": "python",
   "name": "python3"
  },
  "language_info": {
   "codemirror_mode": {
    "name": "ipython",
    "version": 3
   },
   "file_extension": ".py",
   "mimetype": "text/x-python",
   "name": "python",
   "nbconvert_exporter": "python",
   "pygments_lexer": "ipython3",
   "version": "3.5.3"
  }
 },
 "nbformat": 4,
 "nbformat_minor": 2
}
