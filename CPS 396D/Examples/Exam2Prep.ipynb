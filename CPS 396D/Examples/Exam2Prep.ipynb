{
 "cells": [
  {
   "cell_type": "markdown",
   "metadata": {},
   "source": [
    "# Exam 2 Example Problem\n",
    "\n",
    "The exam will be open book, open notes. It will be 50 minutes in length, and will consist of 3 open-ended questions you must answer either programmmatically or via a combination of programs and visualization.\n",
    "\n",
    "Comments required to get partial credit. \n",
    "\n",
    "Submission must be via BlackBoard as a Jupyter notebook."
   ]
  },
  {
   "cell_type": "markdown",
   "metadata": {
    "ExecuteTime": {
     "end_time": "2019-03-18T13:15:20.996227Z",
     "start_time": "2019-03-18T13:15:20.984276Z"
    }
   },
   "source": [
    "Assume you have the following velocity function, representing a road trip. You must determine the distance traveled and the maximum acceleration."
   ]
  },
  {
   "cell_type": "markdown",
   "metadata": {},
   "source": [
    "$v(t) = 5 * t^2 - 10 * (t - 20)^2)$"
   ]
  },
  {
   "cell_type": "markdown",
   "metadata": {},
   "source": [
    "### 1. What is the distance traveled from time t = 0 to time t = 30? Assume units of minutes for t and miles for d. "
   ]
  },
  {
   "cell_type": "code",
   "execution_count": 1,
   "metadata": {
    "ExecuteTime": {
     "end_time": "2019-03-19T12:40:37.703915Z",
     "start_time": "2019-03-19T12:40:37.178250Z"
    }
   },
   "outputs": [
    {
     "name": "stdout",
     "output_type": "stream",
     "text": [
      "The vehicle traveled 15000.00 miles\n"
     ]
    },
    {
     "data": {
      "text/plain": [
       "[<matplotlib.lines.Line2D at 0x7f7040964c88>]"
      ]
     },
     "execution_count": 1,
     "metadata": {},
     "output_type": "execute_result"
    },
    {
     "data": {
      "image/png": "[encoded data removed]",
      "text/plain": [
       "<Figure size 432x288 with 1 Axes>"
      ]
     },
     "metadata": {
      "needs_background": "light"
     },
     "output_type": "display_data"
    }
   ],
   "source": [
    "def integrateByTrapezoids(f, x1, x2, w):\n",
    "    result = 0.0\n",
    "    \n",
    "    i = x1 # Initial starting point\n",
    "    while i <= x2: # Loop until reaching the end\n",
    "        # Calculate f(i)\n",
    "        f_i = f(i)\n",
    "        # Calculate f(i + w)\n",
    "        f_iw = f(i + w)\n",
    "        # Calculate the area under the trapezoid\n",
    "        result += (w * f_i) + (0.5  * w * (f_iw - f_i))\n",
    "        \n",
    "        i += w\n",
    "    return result\n",
    "\n",
    "def velocity(t): #Velocity as a function of time\n",
    "    result = 5 * t**2 - 10 * (t - 20)**2\n",
    "    return result\n",
    "\n",
    "distance = integrateByTrapezoids(velocity, 0, 30, 1e-3)\n",
    "print('The vehicle traveled {:.2f} miles'.format(distance))\n",
    "\n",
    "import numpy as np\n",
    "import matplotlib as mpl\n",
    "import matplotlib.pyplot as plt\n",
    "%matplotlib inline\n",
    "\n",
    "times = np.linspace(0, 30, 200)\n",
    "vels = velocity(times)\n",
    "\n",
    "figs, ax = plt.subplots()\n",
    "\n",
    "ax.plot(times, vels)"
   ]
  },
  {
   "cell_type": "markdown",
   "metadata": {},
   "source": [
    "## 2. What was the maximum acceleration during this 30 minute period?"
   ]
  },
  {
   "cell_type": "code",
   "execution_count": 2,
   "metadata": {
    "ExecuteTime": {
     "end_time": "2019-03-19T12:40:37.715502Z",
     "start_time": "2019-03-19T12:40:37.707216Z"
    }
   },
   "outputs": [
    {
     "name": "stdout",
     "output_type": "stream",
     "text": [
      "The max acceleration is 400.00 miles/minute squared\n",
      "The max acceleration is 400.00 miles/minute squared\n",
      "The max acceleration is 400.00 miles/minute squared\n"
     ]
    }
   ],
   "source": [
    "# Method to numerically approximate the derivative at a point\n",
    "def derivativeAtAPoint2(f, x, h):\n",
    "    result = (f(x + h) - f(x - h)) / (2 * h)\n",
    "    return result\n",
    "\n",
    "accelerations = derivativeAtAPoint2(velocity, times, 25)\n",
    "\n",
    "# print(accelerations)\n",
    "\n",
    "# Calculate the maximum value in the collection\n",
    "def calcMax(accelerations):\n",
    "    result = -999.25 # Magic number represented exactly in floating point\n",
    "                     # Used ofter to represent NULL or not calculated\n",
    "    for i in range(accelerations.size):\n",
    "        if accelerations[i] > result:\n",
    "            result = accelerations[i]\n",
    "        \n",
    "    return result\n",
    "\n",
    "# Method 1: Use the calcMax method above\n",
    "maxAcceleration = calcMax(accelerations)\n",
    "print('The max acceleration is {:.2f} miles/minute squared'.format(maxAcceleration))\n",
    "\n",
    "# Method 2: Use the max() method in python\n",
    "maxAcceleration2 = max(accelerations)\n",
    "print('The max acceleration is {:.2f} miles/minute squared'.format(maxAcceleration2))\n",
    "\n",
    "#Method 3: Use the max method in the np class (OOP method)\n",
    "maxAcceleration = accelerations.max()\n",
    "print('The max acceleration is {:.2f} miles/minute squared'.format(maxAcceleration))"
   ]
  },
  {
   "cell_type": "markdown",
   "metadata": {},
   "source": [
    "## Alternate method of answering Question 1 above"
   ]
  },
  {
   "cell_type": "code",
   "execution_count": 3,
   "metadata": {
    "ExecuteTime": {
     "end_time": "2019-03-19T12:40:38.077515Z",
     "start_time": "2019-03-19T12:40:37.717664Z"
    }
   },
   "outputs": [
    {
     "name": "stdout",
     "output_type": "stream",
     "text": [
      "The vehicle traveled 15000.00 miles\n"
     ]
    }
   ],
   "source": [
    "import sympy\n",
    "\n",
    "# Initialize the variables\n",
    "t = sympy.Symbol('t')\n",
    "expr = 5 * t**2 - 10 * (t - 20)**2\n",
    "\n",
    "# Definite integral\n",
    "distance = sympy.integrate(expr, (t, 0, 30))\n",
    "print('The vehicle traveled {:.2f} miles'.format(float(distance)))"
   ]
  },
  {
   "cell_type": "markdown",
   "metadata": {},
   "source": [
    "## Alternate method of answering Question 2 above"
   ]
  },
  {
   "cell_type": "code",
   "execution_count": 4,
   "metadata": {
    "ExecuteTime": {
     "end_time": "2019-03-19T12:40:38.254748Z",
     "start_time": "2019-03-19T12:40:38.081925Z"
    }
   },
   "outputs": [
    {
     "name": "stdout",
     "output_type": "stream",
     "text": [
      "The max acceleration is 400.00 miles/minute squared\n"
     ]
    }
   ],
   "source": [
    "# Symbolic differentiation \n",
    "diffExpr = sympy.diff(expr)\n",
    "\n",
    "# Evaluate the derivatives at the time intervals\n",
    "accelerations = [diffExpr.subs(t, tt).evalf(6) for tt in times]\n",
    "\n",
    "# Get the maximum value\n",
    "maxAcceleration = max(accelerations)\n",
    "print('The max acceleration is {:.2f} miles/minute squared'.format(maxAcceleration))\n",
    "# print(accelerations)"
   ]
  },
  {
   "cell_type": "markdown",
   "metadata": {},
   "source": [
    "## Example of plotting the velocity, acceleration and distance"
   ]
  },
  {
   "cell_type": "code",
   "execution_count": 5,
   "metadata": {
    "ExecuteTime": {
     "end_time": "2019-03-19T12:40:40.087884Z",
     "start_time": "2019-03-19T12:40:38.257595Z"
    }
   },
   "outputs": [
    {
     "data": {
      "text/plain": [
       "[<matplotlib.lines.Line2D at 0x7f6fc6e39240>]"
      ]
     },
     "execution_count": 5,
     "metadata": {},
     "output_type": "execute_result"
    },
    {
     "data": {
      "image/png": "[encoded data removed]",
      "text/plain": [
       "<Figure size 1440x216 with 3 Axes>"
      ]
     },
     "metadata": {
      "needs_background": "light"
     },
     "output_type": "display_data"
    }
   ],
   "source": [
    "## Plots of the velocity, distance and acceleration over time\n",
    "\n",
    "figs, ax = plt.subplots(1, 3, figsize=(20, 3))\n",
    "\n",
    "def setLabels(plot, x, y, title):\n",
    "    plot.set_xlabel(x)\n",
    "    plot.set_ylabel(y)\n",
    "    plot.set_title(title)\n",
    "    plot.grid(color=\"grey\", which=\"major\", axis='x', linestyle='-', linewidth=0.5)\n",
    "    plot.grid(color=\"grey\", which=\"major\", axis='y', linestyle='-', linewidth=0.5)\n",
    "\n",
    "# Velocity plot\n",
    "ax[0].plot(times, vels)\n",
    "setLabels(ax[0], 'Time (minutes)', 'Velocity (miles/minute)', 'Velocity over Time')\n",
    "\n",
    "ax[1].plot(times, accelerations)\n",
    "setLabels(ax[1], 'Time (minutes)', 'Acceleration\\n(miles/ minute squared)', 'Acceleration over Time')\n",
    "\n",
    "distances = [sympy.integrate(expr, (t, 0, curT)) for curT in times]\n",
    "setLabels(ax[2], 'Time (minutes)', 'Distance (miles)', 'Distance Traveled over Time')\n",
    "ax[2].plot(times, distances)"
   ]
  },
  {
   "cell_type": "code",
   "execution_count": null,
   "metadata": {},
   "outputs": [],
   "source": []
  }
 ],
 "metadata": {
  "kernelspec": {
   "display_name": "Python 3",
   "language": "python",
   "name": "python3"
  },
  "language_info": {
   "codemirror_mode": {
    "name": "ipython",
    "version": 3
   },
   "file_extension": ".py",
   "mimetype": "text/x-python",
   "name": "python",
   "nbconvert_exporter": "python",
   "pygments_lexer": "ipython3",
   "version": "3.5.3"
  },
  "latex_envs": {
   "LaTeX_envs_menu_present": true,
   "autoclose": false,
   "autocomplete": true,
   "bibliofile": "biblio.bib",
   "cite_by": "apalike",
   "current_citInitial": 1,
   "eqLabelWithNumbers": true,
   "eqNumInitial": 1,
   "hotkeys": {
    "equation": "Ctrl-E",
    "itemize": "Ctrl-I"
   },
   "labels_anchors": false,
   "latex_user_defs": false,
   "report_style_numbering": false,
   "user_envs_cfg": false
  }
 },
 "nbformat": 4,
 "nbformat_minor": 2
}
