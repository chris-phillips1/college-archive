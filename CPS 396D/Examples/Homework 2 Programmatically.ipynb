{
 "cells": [
  {
   "cell_type": "code",
   "execution_count": null,
   "metadata": {},
   "outputs": [],
   "source": [
    "# Did the robot collide with the wall?\n",
    "\n",
    "def wall_collision(xLocs, yLocs):\n",
    "    # wall dimensions\n",
    "    ORIGIN_X = 0\n",
    "    ORIGIN_Y = 0\n",
    "    WIDTH = 20\n",
    "    HEIGHT = 18\n",
    "    xPos = 0\n",
    "    yPos = 0\n",
    "    hitsWall = False\n",
    "    \n",
    "    for i in range(1, xLocs.size):\n",
    "        if (xLocs[i] <= ORIGIN_X or xLocs[i] >= WIDTH) and hitsWall == False:\n",
    "            hitsWall = True\n",
    "            xPos = xLocs[i]\n",
    "            yPos = yLocs[i]\n",
    "        elif (yLocs[i] <= ORIGIN_Y or yLocs[i] >= HEIGHT) and hitsWall == False:\n",
    "            hitsWall = True\n",
    "            xPos = xLocs[i]\n",
    "            yPos = yLocs[i]\n",
    "        \n",
    "    return hitsWall, xPos, yPos\n",
    "\n",
    "print(wall_collision(your_x, your_y))\n",
    "print(wall_collision(their_x, their_y))"
   ]
  },
  {
   "cell_type": "code",
   "execution_count": null,
   "metadata": {},
   "outputs": [],
   "source": [
    "print(find_distance(your_x, your_y, their_x, their_y))\n",
    "def check_intersect(x1, y1, x2, y2):\n",
    "    intersect = False\n",
    "    xPos = 0\n",
    "    yPos = 0\n",
    "    dist = find_distance(x1, y1, x2, y2)\n",
    "    \n",
    "    for i in range(x1.size):\n",
    "        if dist[i] == 0:\n",
    "            intersect = True\n",
    "            xPos = x1[i]\n",
    "            yPos = y1[i]\n",
    "    return intersect, xPos, yPos\n",
    "\n",
    "def check_intersect_2(x1, y1, x2, y2):\n",
    "    intersect = False\n",
    "    xPos = 0\n",
    "    yPos = 0\n",
    "    \n",
    "    for i in range(x1.size):\n",
    "        ptX = x1[i]\n",
    "        ptY = y1[i]\n",
    "        for j in range(x2.size):\n",
    "            if (np.abs(ptX - x2[j]) < 5e-2) and (np.abs(ptY - y2[j]) < 5e-2) and not intersect:\n",
    "                intersect = True\n",
    "                xPos = x1[i]\n",
    "                yPos = y2[j]\n",
    "            \n",
    "    return intersect, xPos, yPos\n",
    "\n",
    "print(check_intersect(your_x, your_y, their_x, their_y))\n",
    "print(check_intersect_2(your_x, your_y, their_x, their_y))"
   ]
  }
 ],
 "metadata": {
  "kernelspec": {
   "display_name": "Python 3",
   "language": "python",
   "name": "python3"
  },
  "language_info": {
   "codemirror_mode": {
    "name": "ipython",
    "version": 3
   },
   "file_extension": ".py",
   "mimetype": "text/x-python",
   "name": "python",
   "nbconvert_exporter": "python",
   "pygments_lexer": "ipython3",
   "version": "3.5.3"
  }
 },
 "nbformat": 4,
 "nbformat_minor": 2
}
