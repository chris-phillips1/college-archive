{
 "cells": [
  {
   "cell_type": "markdown",
   "metadata": {},
   "source": [
    "# Exaples of Numerical Differentiation and Integration\n",
    "## Numerical Differentiation"
   ]
  },
  {
   "cell_type": "code",
   "execution_count": 9,
   "metadata": {
    "scrolled": true
   },
   "outputs": [
    {
     "name": "stdout",
     "output_type": "stream",
     "text": [
      "53.0500\n",
      "53.0000\n"
     ]
    }
   ],
   "source": [
    "def func1(x):\n",
    "    result = 5 * x**2 + 3 * x + 4\n",
    "    return result\n",
    "\n",
    "def derivativeAtPoint(f, x, h):\n",
    "    result = (f(x + h) - f(x)) / h\n",
    "    return result\n",
    "\n",
    "def derivativeAtPoint2(f, x, h):\n",
    "    result = (f(x + h) - f(x - h)) / (2 * h)\n",
    "    return result\n",
    "\n",
    "sample = derivativeAtPoint(func1, 5, 1e-2)\n",
    "print(\"{:.4f}\".format(sample))\n",
    "\n",
    "sample2 = derivativeAtPoint2(func1, 5, 1e-2)\n",
    "print(\"{:.4f}\".format(sample2))"
   ]
  },
  {
   "cell_type": "markdown",
   "metadata": {},
   "source": [
    "## Numerical Integration"
   ]
  },
  {
   "cell_type": "markdown",
   "metadata": {},
   "source": [
    "### First method: Midpoint Method (Rectangular)"
   ]
  },
  {
   "cell_type": "code",
   "execution_count": 15,
   "metadata": {},
   "outputs": [
    {
     "name": "stdout",
     "output_type": "stream",
     "text": [
      "12156.6687\n"
     ]
    }
   ],
   "source": [
    "def integrateByMidpoint(f, x1, x2, w):\n",
    "    result = 0.0\n",
    "    \n",
    "    i = x1 # initial starting point\n",
    "    while i <= x2: # loop until reaching the end\n",
    "        midpoint = i + (w / 2) # Calculate midpoint of column\n",
    "        height = f(midpoint)\n",
    "        result += (w * height) #Area under rectangle\n",
    "        i += w\n",
    "    return result\n",
    "\n",
    "example1 = integrateByMidpoint(func1, 10, 20, 1e-6)\n",
    "print(\"{:.4f}\".format(example1))"
   ]
  },
  {
   "cell_type": "markdown",
   "metadata": {},
   "source": [
    "### Second method: Trapezoidal Method"
   ]
  },
  {
   "cell_type": "code",
   "execution_count": 18,
   "metadata": {},
   "outputs": [
    {
     "name": "stdout",
     "output_type": "stream",
     "text": [
      "12156.6687\n"
     ]
    }
   ],
   "source": [
    "def integrateByTrapezoid(f, x1, x2, w):\n",
    "    result = 0.0\n",
    "    \n",
    "    i = x1 # initial starting point\n",
    "    while i <= x2: # loop until reaching the end\n",
    "        # Calculate f(i)\n",
    "        f_i = f(i)\n",
    "        # Calculate f(i + w)\n",
    "        f_iw = f(i + w) \n",
    "        # Calculate the area under the trapezoid\n",
    "        result += (w * f_i) + (0.5 * w * (f_iw - f_i))\n",
    "        \n",
    "        i += w\n",
    "    return result\n",
    "\n",
    "example1 = integrateByTrapezoid(func1, 10, 20, 1e-6)\n",
    "print(\"{:.4f}\".format(example1))"
   ]
  },
  {
   "cell_type": "code",
   "execution_count": null,
   "metadata": {},
   "outputs": [],
   "source": []
  }
 ],
 "metadata": {
  "kernelspec": {
   "display_name": "Python 3",
   "language": "python",
   "name": "python3"
  },
  "language_info": {
   "codemirror_mode": {
    "name": "ipython",
    "version": 3
   },
   "file_extension": ".py",
   "mimetype": "text/x-python",
   "name": "python",
   "nbconvert_exporter": "python",
   "pygments_lexer": "ipython3",
   "version": "3.5.3"
  }
 },
 "nbformat": 4,
 "nbformat_minor": 2
}
