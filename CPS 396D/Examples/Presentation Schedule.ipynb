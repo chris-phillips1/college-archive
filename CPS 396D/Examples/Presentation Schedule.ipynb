{
 "cells": [
  {
   "cell_type": "code",
   "execution_count": 22,
   "metadata": {},
   "outputs": [
    {
     "name": "stdout",
     "output_type": "stream",
     "text": [
      "0 Joshua Machuta\n",
      "1 Jose Zavala\n",
      "2 Tyler Blanchard\n",
      "3 Brennan Connor\n",
      "4 Patrick Langan\n",
      "5 David Padalino\n",
      "6 Tabbatha Seifert\n",
      "---------------------\n",
      "7 Shyam Patel\n",
      "8 Bradley Moore\n",
      "9 Lucas Magno\n",
      "10 Christopher Phillips\n",
      "11 Diego Kieliszewski\n",
      "12 Thomas Hankins Jr\n",
      "13 Nicholas Bravata\n",
      "14 Blake Page\n"
     ]
    }
   ],
   "source": [
    "import csv\n",
    "import random\n",
    "\n",
    "names = []\n",
    "presenting = []\n",
    "with open('Roster.csv') as csvfile:\n",
    "    reader = csv.reader(csvfile, delimiter=',')\n",
    "    for row in reader:\n",
    "        names.append([row[1], row[0]])\n",
    "        \n",
    "names.remove(['First Name', 'Last Name'])\n",
    "while len(names) > 0:\n",
    "    selected = random.randrange(0, len(names))\n",
    "    name = names.pop(selected)\n",
    "    presenting.append(name)\n",
    "\n",
    "for idx, (first, last) in enumerate(presenting):\n",
    "    if idx is len(presenting) // 2:\n",
    "        print('---------------------')\n",
    "    print(idx, first, last)"
   ]
  },
  {
   "cell_type": "code",
   "execution_count": null,
   "metadata": {},
   "outputs": [],
   "source": []
  }
 ],
 "metadata": {
  "kernelspec": {
   "display_name": "Python 3",
   "language": "python",
   "name": "python3"
  },
  "language_info": {
   "codemirror_mode": {
    "name": "ipython",
    "version": 3
   },
   "file_extension": ".py",
   "mimetype": "text/x-python",
   "name": "python",
   "nbconvert_exporter": "python",
   "pygments_lexer": "ipython3",
   "version": "3.5.3"
  }
 },
 "nbformat": 4,
 "nbformat_minor": 2
}
