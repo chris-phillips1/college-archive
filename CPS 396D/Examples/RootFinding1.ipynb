{
 "cells": [
  {
   "cell_type": "code",
   "execution_count": null,
   "metadata": {
    "ExecuteTime": {
     "end_time": "2019-02-14T15:52:50.185909Z",
     "start_time": "2019-02-14T15:52:48.923466Z"
    }
   },
   "outputs": [],
   "source": [
    "%matplotlib inline\n",
    "\n",
    "import numpy as np\n",
    "import math\n",
    "import matplotlib as mpl\n",
    "import matplotlib.pyplot as plt\n",
    "\n",
    "numElems = 100\n",
    "xLocs = np.linspace(0., 2. * math.pi, numElems)\n",
    "yLocs = 4 * np.sin(xLocs)**3 + 2. * np.sin(xLocs)**2.\n",
    "\n",
    "fig, ax = plt.subplots()\n",
    "ax.plot(xLocs, yLocs)\n",
    "\n",
    "# ax.set_xlim(0., 3.5)\n",
    "# ax.set_ylim(-1., 1.)\n",
    "\n",
    "x_major_ticker = mpl.ticker.MultipleLocator(0.5)\n",
    "x_minor_ticker = mpl.ticker.MultipleLocator(0.1)\n",
    "y_major_ticker = mpl.ticker.MultipleLocator(0.5)\n",
    "y_minor_ticker = mpl.ticker.MultipleLocator(0.1)\n",
    "ax.xaxis.set_major_locator(x_major_ticker)\n",
    "ax.yaxis.set_major_locator(y_major_ticker)\n",
    "ax.xaxis.set_minor_locator(x_minor_ticker)\n",
    "ax.yaxis.set_minor_locator(y_minor_ticker)\n",
    "\n",
    "ax.grid(color=\"red\", which=\"major\", axis='x', linestyle='-', linewidth=0.5)\n",
    "ax.grid(color=\"blue\", which=\"minor\", axis='x', linestyle=':', linewidth=0.25)\n",
    "ax.grid(color=\"red\", which=\"major\", axis='y', linestyle='-', linewidth=0.5)\n",
    "ax.grid(color=\"blue\", which=\"minor\", axis='y', linestyle=':', linewidth=0.25)\n",
    "\n",
    "def findRoots(xLocs, yLocs) :\n",
    "    x1 = -1\n",
    "    x2 = -1\n",
    "    foundAll = False\n",
    "    for i in range(1, xLocs.size) :\n",
    "        if yLocs[i] * yLocs[i - 1] == 0. and foundAll == False:\n",
    "            if yLocs[i - 1] == 0:\n",
    "                if x1 == -1:\n",
    "                    x1 = yLocs[i - 1]\n",
    "                else:\n",
    "                    x2 = yLocs[i - 1]\n",
    "                    foundAll = True\n",
    "            elif yLocs[i] == 0:\n",
    "                if x1 == -1:\n",
    "                    x1 = yLocs[i]\n",
    "                else:\n",
    "                    x2 = yLocs[i]\n",
    "                    foundAll = True\n",
    "                    \n",
    "        elif yLocs[i] * yLocs[i - 1] < 0. and foundAll == False:\n",
    "            if x1 == -1:\n",
    "                x1 = (yLocs[i] + yLocs[i - 1]) / 2.\n",
    "            else:\n",
    "                x2 = (yLocs[i] + yLocs[i - 1]) / 2.\n",
    "                foundAll = True\n",
    "    return x1, x2\n",
    "\n",
    "\n",
    "# def findRoots(xLocs, yLocs):\n",
    "#     first_root = -1\n",
    "#     second_root = -1\n",
    "#     foundAll = False\n",
    "    \n",
    "roots = [intercept for i, intercept in enumerate(xLocs) if yLocs[i] == 0]\n",
    "print roots\n",
    "\n",
    "# x1, x2 = findRoots(xLocs, yLocs)\n",
    "# print(x1, x2)"
   ]
  },
  {
   "cell_type": "code",
   "execution_count": null,
   "metadata": {},
   "outputs": [],
   "source": []
  }
 ],
 "metadata": {
  "kernelspec": {
   "display_name": "Python 3",
   "language": "python",
   "name": "python3"
  },
  "language_info": {
   "codemirror_mode": {
    "name": "ipython",
    "version": 3
   },
   "file_extension": ".py",
   "mimetype": "text/x-python",
   "name": "python",
   "nbconvert_exporter": "python",
   "pygments_lexer": "ipython3",
   "version": "3.5.3"
  },
  "latex_envs": {
   "LaTeX_envs_menu_present": true,
   "autoclose": false,
   "autocomplete": true,
   "bibliofile": "biblio.bib",
   "cite_by": "apalike",
   "current_citInitial": 1,
   "eqLabelWithNumbers": true,
   "eqNumInitial": 1,
   "hotkeys": {
    "equation": "Ctrl-E",
    "itemize": "Ctrl-I"
   },
   "labels_anchors": false,
   "latex_user_defs": false,
   "report_style_numbering": false,
   "user_envs_cfg": false
  }
 },
 "nbformat": 4,
 "nbformat_minor": 2
}
