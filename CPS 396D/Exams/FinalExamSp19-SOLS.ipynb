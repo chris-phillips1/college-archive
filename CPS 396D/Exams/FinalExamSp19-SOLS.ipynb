{
 "cells": [
  {
   "cell_type": "markdown",
   "metadata": {},
   "source": [
    "<h1><center>CPS 396D Final Exam</center></h1>\n",
    "<h2><center>April 29, 2019 <br>\n",
    "200 Points</center></h2>\n",
    "<b>Answer the following questions and submit your Jupyter notebook via BlackBoard. Show your work by providing comments in your code shells to get partial credit.</b>"
   ]
  },
  {
   "cell_type": "markdown",
   "metadata": {},
   "source": [
    "You have been recruited as a leading expert in developing scientific simulations for KinniCorps, Inc. Their client is designing an automated factory and one of their autonomous vehicles will be used to transport a widget from one location in the factory to another. This transporter was designed to only move in a straight line between 2 points, and has no ability to steer itself. Assuming a perfectly flat, smooth surface, the transporter will go ina perfectly straight path. However, due to engineering flaws the factory floor has random imperfections and rough spots, causing the transporter to deviate from its straight path.\n",
    "\n",
    "Your job is to write a time-based simulation to determine how close the transporter gets to its target destination. Use the following parameters and then answer the following questions.\n",
    "\n",
    "Simulation Parameters:\n",
    "\n",
    "1. Simulation time: 15 seconds\n",
    "2. Simulation time interval: 1 second\n",
    "3. Starting position: (0, 0) in feet\n",
    "4. Target position: (15, 0) in feet\n",
    "5. Velocity: Normally distributed. Mean of 1 ft/sec with a standard deviation of 0.05 ft/sec\n",
    "6. Deviation from straight path per second (radians from x axis): $\\pm$0.05 radians uniformaly distributed\n",
    "\n",
    "<b>Note:</b> Remember or look up trigonometric functions like cosine and sine and the pythagorean theorem to help you in this problem.\n",
    "    \n",
    "Do the following:\n",
    "\n",
    "1. Implement the velocity calculation (30 Points)\n",
    "2. Implement the deviation angle (30 Points)\n",
    "3. Determine the new position given the angle and the velocity (30 Points)\n",
    "4. Calculate the distance from the simulated final position after 15 seconds and the target position, and print it out (30 Points)\n",
    "5. Implement the correct simulation controls and state variables to do the simulation (40 Points)\n",
    "6. Plot the path of the transporter (40 Points)"
   ]
  },
  {
   "cell_type": "code",
   "execution_count": 5,
   "metadata": {
    "ExecuteTime": {
     "end_time": "2019-04-29T13:05:26.239431Z",
     "start_time": "2019-04-29T13:05:25.887634Z"
    }
   },
   "outputs": [
    {
     "name": "stdout",
     "output_type": "stream",
     "text": [
      "Distance from target: 0.14 feet.\n"
     ]
    },
    {
     "data": {
      "image/png": "[encoded data removed]",
      "text/plain": [
       "<Figure size 432x288 with 1 Axes>"
      ]
     },
     "metadata": {
      "needs_background": "light"
     },
     "output_type": "display_data"
    }
   ],
   "source": [
    "%matplotlib inline\n",
    "import matplotlib as mpl\n",
    "import matplotlib.pyplot as pyp\n",
    "import numpy as np\n",
    "import random as rand\n",
    "import math\n",
    "\n",
    "TOTAL = 16 # 15 seconds, 16 samples\n",
    "\n",
    "# Velocity calculation\n",
    "def velocity():\n",
    "    val = rand.gauss(1., 0.05)\n",
    "    return val\n",
    "\n",
    "# Deviation angle calculation\n",
    "def deviation():\n",
    "    val = rand.uniform(-0.05, 0.05)\n",
    "    return val\n",
    "\n",
    "# Calculate new position\n",
    "def calcNewPosition(oldX, oldY, oldAngle):\n",
    "    # Get the velocity\n",
    "    vel = velocity() # Change in distance\n",
    "    dev = deviation() # Deviation \n",
    "    angle = oldAngle + dev\n",
    "    x = oldX + vel * math.cos(dev)\n",
    "    y = oldY + vel * math.sin(dev)\n",
    "    return x, y, angle\n",
    "\n",
    "# Calculate the distance\n",
    "def distance(targetX, targetY, simX, simY):\n",
    "    dist = math.sqrt((simX - targetX)**2 + (simY - targetY)**2)\n",
    "    return dist\n",
    "\n",
    "# Plot\n",
    "def plot():\n",
    "    figs, ax = pyp.subplots()\n",
    "    ax.set_xlim(0., 16.)\n",
    "    x_major_ticker = mpl.ticker.MultipleLocator(2)\n",
    "    x_minor_ticker = mpl.ticker.MultipleLocator(1)\n",
    "    ax.xaxis.set_major_locator(x_major_ticker)\n",
    "    ax.xaxis.set_minor_locator(x_minor_ticker)\n",
    "    ax.grid(color=\"grey\", which=\"major\", axis='x', linestyle='-', linewidth=0.5)\n",
    "    ax.grid(color=\"grey\", which=\"minor\", axis='x', linestyle=':', linewidth=0.25)\n",
    "    ax.grid(color=\"grey\", which=\"major\", axis='y', linestyle='-', linewidth=0.5)\n",
    "    ax.grid(color=\"grey\", which=\"minor\", axis='y', linestyle=':', linewidth=0.25)\n",
    "    ax.plot(15., 0., 'o')\n",
    "    ax.set_title('Path of Transporter')\n",
    "    ax.set_xlabel('x (ft)')\n",
    "    ax.set_ylabel('y (ft)')\n",
    "    \n",
    "    return figs, ax\n",
    "\n",
    "# Plot the path\n",
    "def plotPath(ax, x, y):\n",
    "    ax.plot(x, y)\n",
    "    ax.plot([x[TOTAL - 1], 15.], [y[TOTAL - 1], 0], lw=0.5, ls='--', color=\"black\")\n",
    "    \n",
    "# Simulation\n",
    "x = np.zeros(TOTAL)\n",
    "y = np.zeros(TOTAL)\n",
    "angle = 0.\n",
    "figs, ax = plot()\n",
    "\n",
    "for i in range(1, TOTAL):\n",
    "    x[i], y[i], angle = calcNewPosition(x[i - 1], y[i - 1], angle)\n",
    "dist = distance(15., 0., x[TOTAL - 1], y[TOTAL - 1])\n",
    "print('Distance from target: {:.2f} feet.'.format(dist))\n",
    "plotPath(ax, x, y)\n",
    "\n"
   ]
  },
  {
   "cell_type": "code",
   "execution_count": null,
   "metadata": {},
   "outputs": [],
   "source": []
  }
 ],
 "metadata": {
  "kernelspec": {
   "display_name": "Python 3",
   "language": "python",
   "name": "python3"
  },
  "language_info": {
   "codemirror_mode": {
    "name": "ipython",
    "version": 3
   },
   "file_extension": ".py",
   "mimetype": "text/x-python",
   "name": "python",
   "nbconvert_exporter": "python",
   "pygments_lexer": "ipython3",
   "version": "3.5.3"
  },
  "latex_envs": {
   "LaTeX_envs_menu_present": true,
   "autoclose": false,
   "autocomplete": true,
   "bibliofile": "biblio.bib",
   "cite_by": "apalike",
   "current_citInitial": 1,
   "eqLabelWithNumbers": true,
   "eqNumInitial": 1,
   "hotkeys": {
    "equation": "Ctrl-E",
    "itemize": "Ctrl-I"
   },
   "labels_anchors": false,
   "latex_user_defs": false,
   "report_style_numbering": false,
   "user_envs_cfg": false
  }
 },
 "nbformat": 4,
 "nbformat_minor": 2
}
