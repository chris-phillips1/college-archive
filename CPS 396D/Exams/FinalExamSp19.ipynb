{
 "cells": [
  {
   "cell_type": "markdown",
   "metadata": {},
   "source": [
    "<h1><center>CPS 396D Final Exam</center></h1>\n",
    "<h2><center>April 29, 2019 <br>\n",
    "200 Points</center></h2>\n",
    "<b>Answer the following questions and submit your Jupyter notebook via BlackBoard. Show your work by providing comments in your code shells to get partial credit.</b>"
   ]
  },
  {
   "cell_type": "markdown",
   "metadata": {},
   "source": [
    "You have been recruited as a leading expert in developing scientific simulations for KinniCorps, Inc. Their client is designing an automated factory and one of their autonomous vehicles will be used to transport a widget from one location in the factory to another. This transporter was designed to only move in a straight line between 2 points, and has no ability to steer itself. Assuming a perfectly flat, smooth surface, the transporter will go ina perfectly straight path. However, due to engineering flaws the factory floor has random imperfections and rough spots, causing the transporter to deviate from its straight path.\n",
    "\n",
    "Your job is to write a time-based simulation to determine how close the transporter gets to its target destination. Use the following parameters and then answer the following questions.\n",
    "\n",
    "Simulation Parameters:\n",
    "\n",
    "1. Simulation time: 15 seconds\n",
    "2. Simulation time interval: 1 second\n",
    "3. Starting position: (0, 0) in feet\n",
    "4. Target position: (15, 0) in feet\n",
    "5. Velocity: Normally distributed. Mean of 1 ft/sec with a standard deviation of 0.05 ft/sec\n",
    "6. Deviation from straight path per second (radians from x axis): $\\pm$0.05 radians uniformaly distributed\n",
    "\n",
    "<b>Note:</b> Remember or look up trigonometric functions like cosine and sine and the pythagorean theorem to help you in this problem.\n",
    "    \n",
    "Do the following:\n",
    "\n",
    "1. Implement the velocity calculation (30 Points)\n",
    "2. Implement the deviation angle (30 Points)\n",
    "3. Determine the new position given the angle and the velocity (30 Points)\n",
    "4. Calculate the distance from the simulated final position after 15 seconds and the target position, and print it out (30 Points)\n",
    "5. Implement the correct simulation controls and state variables to do the simulation (40 Points)\n",
    "6. Plot the path of the transporter (40 Points)"
   ]
  },
  {
   "cell_type": "code",
   "execution_count": 38,
   "metadata": {},
   "outputs": [],
   "source": [
    "import numpy as np\n",
    "import random\n",
    "import math\n",
    "import matplotlib.pyplot as plt"
   ]
  },
  {
   "cell_type": "code",
   "execution_count": 39,
   "metadata": {},
   "outputs": [],
   "source": [
    "def calc_velocity():\n",
    "    return np.random.normal(1.,0.05)"
   ]
  },
  {
   "cell_type": "code",
   "execution_count": 40,
   "metadata": {},
   "outputs": [],
   "source": [
    "def calc_deviation_angle():\n",
    "    return random.uniform(-0.05, 0.05)"
   ]
  },
  {
   "cell_type": "code",
   "execution_count": 49,
   "metadata": {},
   "outputs": [],
   "source": [
    "def distance(x1, y1, x2, y2):\n",
    "    return np.sqrt((x2 - x1)**2 + (y2 - y1)**2) "
   ]
  },
  {
   "cell_type": "code",
   "execution_count": 73,
   "metadata": {},
   "outputs": [
    {
     "name": "stdout",
     "output_type": "stream",
     "text": [
      "The distance between the final location and the intended location is: 0.002602\n"
     ]
    },
    {
     "data": {
      "text/plain": [
       "Text(0,0.5,'Deviation')"
      ]
     },
     "execution_count": 73,
     "metadata": {},
     "output_type": "execute_result"
    },
    {
     "data": {
      "image/png": "[encoded data removed]",
      "text/plain": [
       "<Figure size 432x288 with 1 Axes>"
      ]
     },
     "metadata": {
      "needs_background": "light"
     },
     "output_type": "display_data"
    }
   ],
   "source": [
    "# sim control variables\n",
    "sim_time = 1\n",
    "sim_max = 15\n",
    "\n",
    "# sim state variables\n",
    "\n",
    "# Keep track of current location of transporter\n",
    "x = 0\n",
    "y = 0\n",
    "\n",
    "targ_x = 15\n",
    "targ_y = 0\n",
    "\n",
    "# Keep track of historic location of transporter, for graphing\n",
    "xs = []\n",
    "ys = []\n",
    "\n",
    "while sim_time <= sim_max:\n",
    "    # Get a velocity and an angle for this moment in the simulation\n",
    "    vel = calc_velocity()\n",
    "    angle = math.radians(calc_deviation_angle())\n",
    "    \n",
    "    # Using 'TOA': tan = opposite / adjacent\n",
    "    # Solve for y_move: tan(angle) = y_move / velocity\n",
    "    y_move = np.tan(angle) * vel\n",
    "    \n",
    "    # append current locations, for graphing\n",
    "    xs.append(x)\n",
    "    ys.append(y)\n",
    "    \n",
    "    x += 1\n",
    "    y += y_move\n",
    "    \n",
    "    sim_time += 1\n",
    "\n",
    "print('The distance between the final location and the intended location is: {:.6f}'.format(distance(x,y,targ_x,targ_y)))\n",
    "    \n",
    "fig, ax = plt.subplots()\n",
    "plt.plot(xs, ys)\n",
    "plt.title(\"Transporter Path Deviation\")\n",
    "plt.xlabel(\"Time/Distance\")\n",
    "plt.ylabel(\"Deviation\")"
   ]
  }
 ],
 "metadata": {
  "kernelspec": {
   "display_name": "Python 3",
   "language": "python",
   "name": "python3"
  },
  "language_info": {
   "codemirror_mode": {
    "name": "ipython",
    "version": 3
   },
   "file_extension": ".py",
   "mimetype": "text/x-python",
   "name": "python",
   "nbconvert_exporter": "python",
   "pygments_lexer": "ipython3",
   "version": "3.5.3"
  },
  "latex_envs": {
   "LaTeX_envs_menu_present": true,
   "autoclose": false,
   "autocomplete": true,
   "bibliofile": "biblio.bib",
   "cite_by": "apalike",
   "current_citInitial": 1,
   "eqLabelWithNumbers": true,
   "eqNumInitial": 1,
   "hotkeys": {
    "equation": "Ctrl-E",
    "itemize": "Ctrl-I"
   },
   "labels_anchors": false,
   "latex_user_defs": false,
   "report_style_numbering": false,
   "user_envs_cfg": false
  }
 },
 "nbformat": 4,
 "nbformat_minor": 2
}
