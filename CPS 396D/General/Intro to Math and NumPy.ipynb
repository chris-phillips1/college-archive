{
 "cells": [
  {
   "cell_type": "markdown",
   "metadata": {},
   "source": [
    "# Intro to the Math and NumPy Packages, continued"
   ]
  },
  {
   "cell_type": "markdown",
   "metadata": {},
   "source": [
    "This example will first go through some math methods, then will solve a problem using the math package."
   ]
  },
  {
   "cell_type": "markdown",
   "metadata": {},
   "source": [
    "First, we must import the math package."
   ]
  },
  {
   "cell_type": "code",
   "execution_count": 2,
   "metadata": {},
   "outputs": [],
   "source": [
    "import math"
   ]
  },
  {
   "cell_type": "code",
   "execution_count": 3,
   "metadata": {},
   "outputs": [
    {
     "name": "stdout",
     "output_type": "stream",
     "text": [
      "a = 5, b = 6, c = 2.65433, d = 3.141592653589793\n"
     ]
    }
   ],
   "source": [
    "a = 5\n",
    "b = 6\n",
    "c = 2.65433\n",
    "d = math.pi\n",
    "print('a = ' + str(a) + ', b = ' + str(b) + ', c = ' + repr(c) + ', d = ' + str(d))"
   ]
  },
  {
   "cell_type": "markdown",
   "metadata": {},
   "source": [
    "Printing can be done in a number of ways.\n",
    "Here are a couple:"
   ]
  },
  {
   "cell_type": "code",
   "execution_count": 4,
   "metadata": {},
   "outputs": [
    {
     "name": "stdout",
     "output_type": "stream",
     "text": [
      "PI = 3.1416\n",
      "PI = 3.1416\n"
     ]
    }
   ],
   "source": [
    "print('PI = {:.4f}'.format(d))\n",
    "myPi = round(d, 4)\n",
    "print('PI = ' + str(myPi))"
   ]
  },
  {
   "cell_type": "code",
   "execution_count": 7,
   "metadata": {},
   "outputs": [
    {
     "name": "stdout",
     "output_type": "stream",
     "text": [
      "[5, 6, 2.65433, 3.1415]\n"
     ]
    }
   ],
   "source": [
    "myList1 = [a, b, c, 3.1415]\n",
    "print(myList1)"
   ]
  },
  {
   "cell_type": "markdown",
   "metadata": {},
   "source": [
    "Compute the sum in 2 ways:"
   ]
  },
  {
   "cell_type": "code",
   "execution_count": 8,
   "metadata": {},
   "outputs": [
    {
     "name": "stdout",
     "output_type": "stream",
     "text": [
      "16.79583\n",
      "16.79583\n"
     ]
    }
   ],
   "source": [
    "sum1 = sum(myList1)\n",
    "print(sum1)\n",
    "sum2 = math.fsum(myList1)\n",
    "print(sum2)"
   ]
  },
  {
   "cell_type": "code",
   "execution_count": 9,
   "metadata": {},
   "outputs": [
    {
     "name": "stdout",
     "output_type": "stream",
     "text": [
      "7.99999\n",
      "7.99999\n"
     ]
    }
   ],
   "source": [
    "myList2 = [0.99999, 3, 4, 0]\n",
    "sum1 = sum(myList2)\n",
    "print(sum1)\n",
    "sum2 = math.fsum(myList2)\n",
    "print(sum2)"
   ]
  },
  {
   "cell_type": "code",
   "execution_count": 10,
   "metadata": {},
   "outputs": [
    {
     "name": "stdout",
     "output_type": "stream",
     "text": [
      "39\n",
      "39.0\n"
     ]
    }
   ],
   "source": [
    "myList2 = [1, 3, 1, 34]\n",
    "sum1 = sum(myList2)\n",
    "print(sum1)\n",
    "sum2 = math.fsum(myList2)\n",
    "print(sum2)"
   ]
  },
  {
   "cell_type": "code",
   "execution_count": 11,
   "metadata": {},
   "outputs": [
    {
     "name": "stdout",
     "output_type": "stream",
     "text": [
      "0.9999999999999999\n",
      "1.0\n"
     ]
    }
   ],
   "source": [
    "print(sum([.1, .1, .1, .1, .1, .1, .1, .1, .1, .1]))\n",
    "print(math.fsum([.1, .1, .1, .1, .1, .1, .1, .1, .1, .1]))"
   ]
  },
  {
   "cell_type": "markdown",
   "metadata": {},
   "source": [
    "Trigonometric Methods"
   ]
  },
  {
   "cell_type": "code",
   "execution_count": 13,
   "metadata": {},
   "outputs": [
    {
     "name": "stdout",
     "output_type": "stream",
     "text": [
      "0.7071067811865475\n",
      "0.7071067811865475\n",
      "0.7071067811865476\n",
      "0.7071067811865476\n"
     ]
    }
   ],
   "source": [
    "print(math.sin(math.radians(45.0)))\n",
    "print(math.sin(math.pi / 4.0))\n",
    "print(math.cos(math.radians(45.0)))\n",
    "print(math.cos(math.pi / 4.0))"
   ]
  },
  {
   "cell_type": "markdown",
   "metadata": {},
   "source": [
    "Calculate the time of flight for an object"
   ]
  },
  {
   "cell_type": "code",
   "execution_count": 15,
   "metadata": {},
   "outputs": [
    {
     "name": "stdout",
     "output_type": "stream",
     "text": [
      "Time = 10.20 seconds\n",
      "127.55102040816324\n"
     ]
    }
   ],
   "source": [
    "v0 = 100.0 # Initial velocity, m/s\n",
    "theta = 30.0 # Initial angle, degrees\n",
    "g = 9.8 # m/s^2\n",
    "\n",
    "# Time\n",
    "t = (2.0 * v0 * math.sin(math.radians(theta))) / g\n",
    "print('Time = {:.2f} seconds'.format(t))\n",
    "\n",
    "# Height reached\n",
    "H = (math.pow(v0, 2.0) * math.pow(math.sin(math.radians(theta)), 2) / (2 * g))\n",
    "print(H)"
   ]
  },
  {
   "cell_type": "code",
   "execution_count": null,
   "metadata": {},
   "outputs": [],
   "source": []
  }
 ],
 "metadata": {
  "kernelspec": {
   "display_name": "Python 3",
   "language": "python",
   "name": "python3"
  },
  "language_info": {
   "codemirror_mode": {
    "name": "ipython",
    "version": 3
   },
   "file_extension": ".py",
   "mimetype": "text/x-python",
   "name": "python",
   "nbconvert_exporter": "python",
   "pygments_lexer": "ipython3",
   "version": "3.5.3"
  }
 },
 "nbformat": 4,
 "nbformat_minor": 2
}
