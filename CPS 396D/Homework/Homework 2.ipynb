{
 "cells": [
  {
   "cell_type": "markdown",
   "metadata": {},
   "source": [
    "# Robots Part 1\n",
    "# Implementation"
   ]
  },
  {
   "cell_type": "markdown",
   "metadata": {},
   "source": [
    "## 0. Import Statements and Variable Declarations"
   ]
  },
  {
   "cell_type": "code",
   "execution_count": 1,
   "metadata": {},
   "outputs": [],
   "source": [
    "import matplotlib as mpl\n",
    "import matplotlib.pyplot as plt\n",
    "import matplotlib.patches as patch\n",
    "import numpy as np\n",
    "\n",
    "# Your Robot\n",
    "R1 = 1\n",
    "R1_v0 = 1\n",
    "R1_x0 = 0\n",
    "R1_y0 = 12\n",
    "\n",
    "# Their Robot\n",
    "R2 = 2\n",
    "R2_v0 = 3\n",
    "R2_x0 = 20\n",
    "R2_y0 = 6"
   ]
  },
  {
   "cell_type": "markdown",
   "metadata": {},
   "source": [
    "## 1. First, we will create a method to get each robot's coordinates."
   ]
  },
  {
   "cell_type": "code",
   "execution_count": 2,
   "metadata": {},
   "outputs": [],
   "source": [
    "# code = which calculation to use (1 for my robot, 2 for their robot)\n",
    "def get_coords(v0, x0, y0, t, code):\n",
    "    if code == 1:\n",
    "        x = x0 + (v0 * t)\n",
    "        y = y0 + (-0.5 * v0 * t)\n",
    "    elif code == 2:\n",
    "        x = x0 - (0.8 * v0 * t)\n",
    "        y = y0 - (-0.05 * v0 * t**2)\n",
    "        \n",
    "    return x, y"
   ]
  },
  {
   "cell_type": "markdown",
   "metadata": {},
   "source": [
    "## 2. Then, we will calculate the coordinates for the first 10 seconds. "
   ]
  },
  {
   "cell_type": "code",
   "execution_count": 3,
   "metadata": {},
   "outputs": [],
   "source": [
    "NUM_STEPS = 100\n",
    "time = np.linspace(0, NUM_STEPS/10, NUM_STEPS)\n",
    "\n",
    "R1_x, R1_y = get_coords(R1_v0, R1_x0, R1_y0, time, R1)\n",
    "R2_x, R2_y = get_coords(R2_v0, R2_x0, R2_y0, time, R2)"
   ]
  },
  {
   "cell_type": "markdown",
   "metadata": {},
   "source": [
    "## 3. Then, we will plot these trajectories and the playing field."
   ]
  },
  {
   "cell_type": "code",
   "execution_count": 4,
   "metadata": {},
   "outputs": [
    {
     "data": {
      "text/plain": [
       "<matplotlib.patches.Rectangle at 0x7fd0a081b7b8>"
      ]
     },
     "execution_count": 4,
     "metadata": {},
     "output_type": "execute_result"
    },
    {
     "data": {
      "image/png": "[encoded data removed]",
      "text/plain": [
       "<Figure size 432x288 with 1 Axes>"
      ]
     },
     "metadata": {
      "needs_background": "light"
     },
     "output_type": "display_data"
    }
   ],
   "source": [
    "figs, ax = plt.subplots()\n",
    "\n",
    "ax.plot(R1_x, R1_y, color = \"blue\", lw = 2)\n",
    "ax.plot(R2_x, R2_y, color = \"red\", lw = 2)\n",
    "\n",
    "rect = patch.Rectangle((0,0), 20, 18)\n",
    "rect.set_color(\"gray\")\n",
    "ax.add_patch(rect)"
   ]
  },
  {
   "cell_type": "markdown",
   "metadata": {},
   "source": [
    "## 4. Then, we will need to calculate the intended trajectories for each robot."
   ]
  },
  {
   "cell_type": "code",
   "execution_count": 5,
   "metadata": {},
   "outputs": [],
   "source": [
    "def ideal_trajectory(v0, x0, y0, t, code):\n",
    "    if code == 1:\n",
    "        x = x0 + (v0 * t)\n",
    "        y = y0\n",
    "    elif code == 2:\n",
    "        x = x0 - (v0 * t)\n",
    "        y = y0  \n",
    "\n",
    "    return x, y\n",
    "\n",
    "R1_ix, R1_iy = ideal_trajectory(R1_v0, R1_x0, R1_y0, 10, R1)\n",
    "R2_ix, R2_iy = ideal_trajectory(R2_v0, R2_x0, R2_y0, 10, R2)"
   ]
  },
  {
   "cell_type": "markdown",
   "metadata": {},
   "source": [
    "## 5. Now, we will calculate the distance between the actual and intended trajectories for each robot."
   ]
  },
  {
   "cell_type": "code",
   "execution_count": 6,
   "metadata": {},
   "outputs": [
    {
     "name": "stdout",
     "output_type": "stream",
     "text": [
      "Number of Feet Off-Course:\n",
      "    Robot 1: 5.00 ft\n",
      "    Robot 2: 16.16 ft\n"
     ]
    }
   ],
   "source": [
    "def distance(x1, y1, x2, y2):\n",
    "    return np.sqrt((x2 - x1)**2 + (y2 - y1)**2) \n",
    "\n",
    "R1_deviation = distance(R1_ix, R1_iy, R1_x[-1], R1_y[-1])\n",
    "R2_deviation = distance(R2_ix, R2_iy, R2_x[-1], R2_y[-1])\n",
    "print(\"Number of Feet Off-Course:\")\n",
    "print(\"    Robot 1: {:.2f} ft\".format(R1_deviation))\n",
    "print(\"    Robot 2: {:.2f} ft\".format(R2_deviation))"
   ]
  },
  {
   "cell_type": "markdown",
   "metadata": {},
   "source": [
    "## 6. Finally, we calculate how far the robots strayed away from each other."
   ]
  },
  {
   "cell_type": "code",
   "execution_count": 7,
   "metadata": {},
   "outputs": [
    {
     "name": "stdout",
     "output_type": "stream",
     "text": [
      "Expected distance apart:  20.8806130178211\n",
      "Actual distance apart:  19.798989873223334\n",
      "1.0816 additional ft apart\n"
     ]
    }
   ],
   "source": [
    "actual_distance_apart = distance(R1_x[-1], R1_y[-1], R2_x[-1], R2_y[-1])\n",
    "expected_distance_apart = distance(R1_ix, R1_iy, R2_ix, R2_iy)\n",
    "\n",
    "print(\"Expected distance apart: \", expected_distance_apart)\n",
    "print(\"Actual distance apart: \", actual_distance_apart)\n",
    "print(\"{:.4f} additional ft apart\".format(expected_distance_apart - actual_distance_apart))"
   ]
  },
  {
   "cell_type": "markdown",
   "metadata": {},
   "source": [
    "# Answers"
   ]
  },
  {
   "cell_type": "markdown",
   "metadata": {},
   "source": [
    "## 1. Will any of the robots hit a wall on the playing field? If so, at what location?"
   ]
  },
  {
   "cell_type": "markdown",
   "metadata": {},
   "source": [
    "Yes. According to the graph created in step 3, Robot 2 (Red) clearly leaves the playing field at the approximate location (0, 16.5). Robot 1 (Blue) starts on the edge of the playing field, but never actually leaves, so we won't count this as an instance of leaving the playing field."
   ]
  },
  {
   "cell_type": "markdown",
   "metadata": {},
   "source": [
    "## 2. Do the robot paths intersect and if so, at what location on the playing field do they intersect at?"
   ]
  },
  {
   "cell_type": "markdown",
   "metadata": {},
   "source": [
    "No. According to the graph created in step 3, the paths of these two robots will never intersect."
   ]
  },
  {
   "cell_type": "markdown",
   "metadata": {},
   "source": [
    "## 3. Will the robots collide with each other or will they not collide? If they collide, at what time will the collide in seconds?"
   ]
  },
  {
   "cell_type": "markdown",
   "metadata": {},
   "source": [
    "No, they will not collide. Because the paths of these robots never intersect, we know for a fact that there will also be no point within these 10 seconds that the robots will collide."
   ]
  },
  {
   "attachments": {},
   "cell_type": "markdown",
   "metadata": {},
   "source": [
    "## 4. Which robot veered the furthest from their straight path they were supposed to take? What distance apart are the robots after 10 seconds from there they were supposed to be?"
   ]
  },
  {
   "cell_type": "markdown",
   "metadata": {},
   "source": [
    "As we can see in step 5, Robot 2 veered the furtherest from its path, at 16.16 ft compared to Robot 1's 5.00 ft. If the robots had not veered off course, we would have expected them to be around 20.88 ft apart at 10 seconds. In reality, we saw them being around 19.80 ft apart. This means that, at 10 seconds, the robots were 1.08 ft closer than they should have been. These calculations were completed in step 6."
   ]
  }
 ],
 "metadata": {
  "kernelspec": {
   "display_name": "Python 3",
   "language": "python",
   "name": "python3"
  },
  "language_info": {
   "codemirror_mode": {
    "name": "ipython",
    "version": 3
   },
   "file_extension": ".py",
   "mimetype": "text/x-python",
   "name": "python",
   "nbconvert_exporter": "python",
   "pygments_lexer": "ipython3",
   "version": "3.5.3"
  }
 },
 "nbformat": 4,
 "nbformat_minor": 2
}
