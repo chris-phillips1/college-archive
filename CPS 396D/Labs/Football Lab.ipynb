{
 "cells": [
  {
   "cell_type": "markdown",
   "metadata": {},
   "source": [
    "# SuperBowl $LIII$ Frenzy!\n",
    "\n",
    "It's the third quarter and Tom Brady has the football! The score is tied, 3-3.\n",
    "He makes a throw to Rob Gronkowski. How long was the throw? Use the following \n",
    "information to figure it out. $\\bf{DISCLAIMER:}$ This throw is based on\n",
    "fictional data and in no way represents an actual throw made during the Super\n",
    "Bowl."
   ]
  },
  {
   "cell_type": "markdown",
   "metadata": {},
   "source": [
    "## Information\n",
    "\n",
    "Assume the following about the now famous throw:\n",
    "    \n",
    "    1. The starting coordinate of the football (x, y) in meters, is (0, 0)\n",
    "    2. The football is thrown at an angle of 20 degrees relative to the horizontal plane running towards the endzone.\n",
    "    3. Assume the acceleration due to the force of gravity is 9.8 m/s\n",
    "    4. Assume no additional friction or drag\n",
    "    \n",
    "Your task this lab is to calculate the distance the ball will be thrown, such that the height is at 0 (relative to the origin, assume this it the height at which the football will be caught). You will also plot the throw, putting your solution in the following cells as asked."
   ]
  },
  {
   "cell_type": "markdown",
   "metadata": {},
   "source": [
    "### 1. Enter the import statements for the appropriate modules here, for numpy and matlibplot"
   ]
  },
  {
   "cell_type": "code",
   "execution_count": 1,
   "metadata": {},
   "outputs": [],
   "source": [
    "%matplotlib inline\n",
    "import matplotlib.pyplot as plt\n",
    "import matplotlib as mpl\n",
    "import numpy as np\n",
    "\n",
    "gravity = 9.8\n",
    "velocity = 30.0\n",
    "angle = 20.0"
   ]
  },
  {
   "cell_type": "markdown",
   "metadata": {},
   "source": [
    "### 2. Write a method that takes the starting angle in degrees, and returns the distance the football is thrown. Print out the answer returned by calling the method. "
   ]
  },
  {
   "cell_type": "code",
   "execution_count": 2,
   "metadata": {},
   "outputs": [
    {
     "name": "stdout",
     "output_type": "stream",
     "text": [
      "59.03151517529442\n"
     ]
    }
   ],
   "source": [
    "def distance_thrown(theta):\n",
    "    \n",
    "    angle = np.sin(2*np.radians(theta))   \n",
    "    \n",
    "    dist = (velocity ** 2 * angle) / gravity\n",
    "    return dist\n",
    "\n",
    "distance = distance_thrown(angle)\n",
    "print(distance)"
   ]
  },
  {
   "cell_type": "markdown",
   "metadata": {},
   "source": [
    "### 3. Create a array of values from the start to the end of the throw for the x coordinate, equally spacing these values out. Make it 100 elements."
   ]
  },
  {
   "cell_type": "code",
   "execution_count": 3,
   "metadata": {},
   "outputs": [
    {
     "name": "stdout",
     "output_type": "stream",
     "text": [
      "[ 0.          0.59627793  1.19255586  1.78883379  2.38511172  2.98138966\n",
      "  3.57766759  4.17394552  4.77022345  5.36650138  5.96277931  6.55905724\n",
      "  7.15533517  7.7516131   8.34789103  8.94416897  9.5404469  10.13672483\n",
      " 10.73300276 11.32928069 11.92555862 12.52183655 13.11811448 13.71439241\n",
      " 14.31067035 14.90694828 15.50322621 16.09950414 16.69578207 17.29206\n",
      " 17.88833793 18.48461586 19.08089379 19.67717173 20.27344966 20.86972759\n",
      " 21.46600552 22.06228345 22.65856138 23.25483931 23.85111724 24.44739517\n",
      " 25.0436731  25.63995104 26.23622897 26.8325069  27.42878483 28.02506276\n",
      " 28.62134069 29.21761862 29.81389655 30.41017448 31.00645242 31.60273035\n",
      " 32.19900828 32.79528621 33.39156414 33.98784207 34.58412    35.18039793\n",
      " 35.77667586 36.37295379 36.96923173 37.56550966 38.16178759 38.75806552\n",
      " 39.35434345 39.95062138 40.54689931 41.14317724 41.73945517 42.33573311\n",
      " 42.93201104 43.52828897 44.1245669  44.72084483 45.31712276 45.91340069\n",
      " 46.50967862 47.10595655 47.70223449 48.29851242 48.89479035 49.49106828\n",
      " 50.08734621 50.68362414 51.27990207 51.87618    52.47245793 53.06873586\n",
      " 53.6650138  54.26129173 54.85756966 55.45384759 56.05012552 56.64640345\n",
      " 57.24268138 57.83895931 58.43523724 59.03151518]\n"
     ]
    }
   ],
   "source": [
    "x_coords = np.linspace(0, distance, 100)\n",
    "print(x_coords)"
   ]
  },
  {
   "cell_type": "markdown",
   "metadata": {},
   "source": [
    "### 4. Write a method that will compute the time in seconds the throw takes to occur."
   ]
  },
  {
   "cell_type": "code",
   "execution_count": 4,
   "metadata": {},
   "outputs": [
    {
     "name": "stdout",
     "output_type": "stream",
     "text": [
      "2.094000877504094\n"
     ]
    }
   ],
   "source": [
    "def time_taken(theta):\n",
    "    \n",
    "    angle = np.sin(np.radians(theta))\n",
    "    \n",
    "    time = (2 * velocity * angle) / gravity\n",
    "    return time\n",
    "\n",
    "time = time_taken(angle)\n",
    "print(time)"
   ]
  },
  {
   "cell_type": "markdown",
   "metadata": {
    "ExecuteTime": {
     "end_time": "2019-02-04T13:54:02.168455Z",
     "start_time": "2019-02-04T13:54:02.162755Z"
    }
   },
   "source": [
    "### 5. Write a method that will return the y coordinates to pair with the x coordinates."
   ]
  },
  {
   "cell_type": "code",
   "execution_count": 5,
   "metadata": {},
   "outputs": [],
   "source": [
    "def height(time, theta):\n",
    "    \n",
    "    angle = np.sin(np.radians(theta))\n",
    "    y_velocity = velocity * angle\n",
    "    \n",
    "    height = (y_velocity * time) + (0.5 * (-1 * gravity) * time ** 2)\n",
    "    return height"
   ]
  },
  {
   "cell_type": "markdown",
   "metadata": {
    "ExecuteTime": {
     "end_time": "2019-02-04T13:55:50.060505Z",
     "start_time": "2019-02-04T13:55:50.053350Z"
    }
   },
   "source": [
    "### 6. Write code to call the above methods and plot the x and y locations, drawing the line of the trajectory. Use your creativity to label the axes."
   ]
  },
  {
   "cell_type": "code",
   "execution_count": 6,
   "metadata": {},
   "outputs": [
    {
     "data": {
      "text/plain": [
       "Text(-25,-30,'(29.81, 5.37)')"
      ]
     },
     "execution_count": 6,
     "metadata": {},
     "output_type": "execute_result"
    },
    {
     "data": {
      "image/png": "[encoded data removed]",
      "text/plain": [
       "<Figure size 720x72 with 1 Axes>"
      ]
     },
     "metadata": {
      "needs_background": "light"
     },
     "output_type": "display_data"
    }
   ],
   "source": [
    "time_val = np.linspace(0, time_taken(angle), 100)\n",
    "y_coords = [height(time, angle) for time in time_val]\n",
    "\n",
    "fig, ax = plt.subplots(figsize=(10, 1), subplot_kw={'facecolor': \"#ebf5ff\"})\n",
    "\n",
    "ax.plot(x_coords, y_coords, color='blue')\n",
    "\n",
    "ax.set_xlim(0., 60.)\n",
    "ax.set_ylim(0., 6.)\n",
    "x_major_ticker = mpl.ticker.MultipleLocator(5)\n",
    "x_minor_ticker = mpl.ticker.MultipleLocator(1)\n",
    "y_major_ticker = mpl.ticker.MultipleLocator(5)\n",
    "y_minor_ticker = mpl.ticker.MultipleLocator(1)\n",
    "ax.xaxis.set_major_locator(x_major_ticker)\n",
    "ax.yaxis.set_major_locator(y_major_ticker)\n",
    "ax.xaxis.set_minor_locator(x_minor_ticker)\n",
    "ax.yaxis.set_minor_locator(y_minor_ticker)\n",
    "    \n",
    "ax.set_xlabel('Distance (m)', fontsize=14)\n",
    "ax.set_ylabel('Height (m)', fontsize=14)\n",
    "ax.set_title('Football Trajectory', fontsize=18)\n",
    "ax.grid(color=\"grey\", which=\"major\", axis='x', linestyle='-', linewidth=0.5)\n",
    "ax.grid(color=\"grey\", which=\"minor\", axis='x', linestyle=':', linewidth=0.25)\n",
    "ax.grid(color=\"grey\", which=\"major\", axis='y', linestyle='-', linewidth=0.5)\n",
    "ax.grid(color=\"grey\", which=\"minor\", axis='y', linestyle=':', linewidth=0.25)\n",
    "\n",
    "ax.plot(x_coords[50], y_coords[50], 'o')\n",
    "ax.annotate('(%.2f, %.2f)' % (x_coords[50], y_coords[50]),\n",
    "            fontsize=9, family=\"serif\",\n",
    "            xy=(x_coords[50], y_coords[50]), xycoords='data',\n",
    "            xytext=(-25, -30), textcoords='offset points', \n",
    "            arrowprops=dict(arrowstyle=\"->\", connectionstyle='arc3'))"
   ]
  },
  {
   "cell_type": "code",
   "execution_count": null,
   "metadata": {},
   "outputs": [],
   "source": []
  }
 ],
 "metadata": {
  "kernelspec": {
   "display_name": "Python 3",
   "language": "python",
   "name": "python3"
  },
  "language_info": {
   "codemirror_mode": {
    "name": "ipython",
    "version": 3
   },
   "file_extension": ".py",
   "mimetype": "text/x-python",
   "name": "python",
   "nbconvert_exporter": "python",
   "pygments_lexer": "ipython3",
   "version": "3.5.3"
  },
  "latex_envs": {
   "LaTeX_envs_menu_present": true,
   "autoclose": false,
   "autocomplete": true,
   "bibliofile": "biblio.bib",
   "cite_by": "apalike",
   "current_citInitial": 1,
   "eqLabelWithNumbers": true,
   "eqNumInitial": 1,
   "hotkeys": {
    "equation": "Ctrl-E",
    "itemize": "Ctrl-I"
   },
   "labels_anchors": false,
   "latex_user_defs": false,
   "report_style_numbering": false,
   "user_envs_cfg": false
  }
 },
 "nbformat": 4,
 "nbformat_minor": 2
}
