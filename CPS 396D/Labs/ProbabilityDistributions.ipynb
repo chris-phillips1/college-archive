{
 "cells": [
  {
   "cell_type": "markdown",
   "metadata": {},
   "source": [
    "# CPS 396D\n",
    "## Probability Distributions Using Random\n",
    "Submit this lab via BlackBoard by Wednesday at 11:59pm. In this lab, you will be looking at different probability distributions and plotting histograms (remember Ch. 4) of them."
   ]
  },
  {
   "cell_type": "markdown",
   "metadata": {},
   "source": [
    "### 1. Implement code to generate 1000 random values, uniformly distributed between 75 and 100. Plot the results in a histogram plot using 25 bins."
   ]
  },
  {
   "cell_type": "code",
   "execution_count": 9,
   "metadata": {},
   "outputs": [
    {
     "data": {
      "text/plain": [
       "(array([38., 43., 48., 40., 40., 38., 25., 59., 36., 37., 33., 49., 35.,\n",
       "        41., 42., 38., 38., 34., 40., 32., 42., 49., 42., 38., 43.]),\n",
       " array([75.00833004, 76.00775138, 77.00717273, 78.00659407, 79.00601541,\n",
       "        80.00543675, 81.00485809, 82.00427943, 83.00370077, 84.00312212,\n",
       "        85.00254346, 86.0019648 , 87.00138614, 88.00080748, 89.00022882,\n",
       "        89.99965016, 90.9990715 , 91.99849285, 92.99791419, 93.99733553,\n",
       "        94.99675687, 95.99617821, 96.99559955, 97.99502089, 98.99444224,\n",
       "        99.99386358]),\n",
       " <a list of 25 Patch objects>)"
      ]
     },
     "execution_count": 9,
     "metadata": {},
     "output_type": "execute_result"
    },
    {
     "data": {
      "image/png": "[encoded data removed]",
      "text/plain": [
       "<Figure size 432x288 with 1 Axes>"
      ]
     },
     "metadata": {
      "needs_background": "light"
     },
     "output_type": "display_data"
    }
   ],
   "source": [
    "import random\n",
    "import numpy as np\n",
    "import matplotlib.pyplot as plt\n",
    "\n",
    "uniform_rand = []\n",
    "for i in range(1000):\n",
    "    uniform_rand.append(random.uniform(75, 100))\n",
    "    \n",
    "plt.hist(uniform_rand, bins=25)\n",
    "    "
   ]
  },
  {
   "cell_type": "markdown",
   "metadata": {},
   "source": [
    "### 2. Implement code to generate 1000 random values, using a triangular distribution between 75 and 100, where the highest probability occurs at 75 and the lowest probability occurs at 100. Plot the results in a histogram plot using 25 bins."
   ]
  },
  {
   "cell_type": "code",
   "execution_count": 2,
   "metadata": {
    "ExecuteTime": {
     "end_time": "2019-04-01T10:13:41.661363Z",
     "start_time": "2019-04-01T10:13:41.654909Z"
    }
   },
   "outputs": [
    {
     "data": {
      "text/plain": [
       "(array([56., 70., 68., 74., 77., 62., 49., 52., 53., 50., 44., 51., 44.,\n",
       "        30., 24., 41., 39., 32., 23., 22., 11., 10.,  8.,  6.,  4.]),\n",
       " array([75.00375655, 75.99179715, 76.97983775, 77.96787834, 78.95591894,\n",
       "        79.94395953, 80.93200013, 81.92004073, 82.90808132, 83.89612192,\n",
       "        84.88416252, 85.87220311, 86.86024371, 87.8482843 , 88.8363249 ,\n",
       "        89.8243655 , 90.81240609, 91.80044669, 92.78848728, 93.77652788,\n",
       "        94.76456848, 95.75260907, 96.74064967, 97.72869026, 98.71673086,\n",
       "        99.70477146]),\n",
       " <a list of 25 Patch objects>)"
      ]
     },
     "execution_count": 2,
     "metadata": {},
     "output_type": "execute_result"
    },
    {
     "data": {
      "image/png": "[encoded data removed]",
      "text/plain": [
       "<Figure size 432x288 with 1 Axes>"
      ]
     },
     "metadata": {
      "needs_background": "light"
     },
     "output_type": "display_data"
    }
   ],
   "source": [
    "triangular_rand = []\n",
    "for i in range(1000):\n",
    "    triangular_rand.append(np.random.triangular(75, 75, 100))\n",
    "    \n",
    "plt.hist(triangular_rand, bins=25)"
   ]
  },
  {
   "cell_type": "markdown",
   "metadata": {},
   "source": [
    "### 3. Implement code to generate 1000 random values, normally distributed with a mean of 80 and a standard deviation of 5. Plot the results in a histogram plot using 25 bins."
   ]
  },
  {
   "cell_type": "code",
   "execution_count": 3,
   "metadata": {},
   "outputs": [
    {
     "data": {
      "text/plain": [
       "(array([  4.,   2.,   9.,  19.,  28.,  41.,  67.,  90., 109., 113.,  97.,\n",
       "        125.,  81.,  78.,  55.,  33.,  20.,  13.,  10.,   3.,   1.,   1.,\n",
       "          0.,   0.,   1.]),\n",
       " array([ 65.39601543,  66.78631264,  68.17660985,  69.56690706,\n",
       "         70.95720427,  72.34750148,  73.73779869,  75.1280959 ,\n",
       "         76.51839311,  77.90869032,  79.29898753,  80.68928474,\n",
       "         82.07958195,  83.46987915,  84.86017636,  86.25047357,\n",
       "         87.64077078,  89.03106799,  90.4213652 ,  91.81166241,\n",
       "         93.20195962,  94.59225683,  95.98255404,  97.37285125,\n",
       "         98.76314846, 100.15344567]),\n",
       " <a list of 25 Patch objects>)"
      ]
     },
     "execution_count": 3,
     "metadata": {},
     "output_type": "execute_result"
    },
    {
     "data": {
      "image/png": "[encoded data removed]",
      "text/plain": [
       "<Figure size 432x288 with 1 Axes>"
      ]
     },
     "metadata": {
      "needs_background": "light"
     },
     "output_type": "display_data"
    }
   ],
   "source": [
    "normal_rand = []\n",
    "for i in range(1000):\n",
    "    normal_rand.append(np.random.normal(80., 5.))\n",
    "    \n",
    "plt.hist(normal_rand, bins=25)"
   ]
  },
  {
   "cell_type": "markdown",
   "metadata": {},
   "source": [
    "### 4. Implement code to generate 1000 random values, weibull distributed with a shape factor of 4 and a scale factor of 75. Plot the results in a histogram plot using 25 bins."
   ]
  },
  {
   "cell_type": "code",
   "execution_count": 8,
   "metadata": {},
   "outputs": [
    {
     "data": {
      "text/plain": [
       "(array([ 6.,  4., 10., 13., 18., 32., 28., 48., 72., 70., 78., 94., 90.,\n",
       "        90., 83., 65., 76., 34., 35., 25., 15.,  5.,  5.,  3.,  1.]),\n",
       " array([ 13.04423131,  17.5139675 ,  21.98370369,  26.45343988,\n",
       "         30.92317607,  35.39291226,  39.86264845,  44.33238464,\n",
       "         48.80212083,  53.27185703,  57.74159322,  62.21132941,\n",
       "         66.6810656 ,  71.15080179,  75.62053798,  80.09027417,\n",
       "         84.56001036,  89.02974655,  93.49948274,  97.96921893,\n",
       "        102.43895512, 106.90869131, 111.3784275 , 115.84816369,\n",
       "        120.31789988, 124.78763607]),\n",
       " <a list of 25 Patch objects>)"
      ]
     },
     "execution_count": 8,
     "metadata": {},
     "output_type": "execute_result"
    },
    {
     "data": {
      "image/png": "[encoded data removed]",
      "text/plain": [
       "<Figure size 432x288 with 1 Axes>"
      ]
     },
     "metadata": {
      "needs_background": "light"
     },
     "output_type": "display_data"
    }
   ],
   "source": [
    "weibull_rand = []\n",
    "for i in range(1000):\n",
    "    weibull_rand.append(np.random.weibull(4) * 75)\n",
    "\n",
    "plt.hist(weibull_rand, bins=25)"
   ]
  },
  {
   "cell_type": "code",
   "execution_count": null,
   "metadata": {},
   "outputs": [],
   "source": []
  }
 ],
 "metadata": {
  "kernelspec": {
   "display_name": "Python 3",
   "language": "python",
   "name": "python3"
  },
  "language_info": {
   "codemirror_mode": {
    "name": "ipython",
    "version": 3
   },
   "file_extension": ".py",
   "mimetype": "text/x-python",
   "name": "python",
   "nbconvert_exporter": "python",
   "pygments_lexer": "ipython3",
   "version": "3.5.3"
  },
  "latex_envs": {
   "LaTeX_envs_menu_present": true,
   "autoclose": false,
   "autocomplete": true,
   "bibliofile": "biblio.bib",
   "cite_by": "apalike",
   "current_citInitial": 1,
   "eqLabelWithNumbers": true,
   "eqNumInitial": 1,
   "hotkeys": {
    "equation": "Ctrl-E",
    "itemize": "Ctrl-I"
   },
   "labels_anchors": false,
   "latex_user_defs": false,
   "report_style_numbering": false,
   "user_envs_cfg": false
  }
 },
 "nbformat": 4,
 "nbformat_minor": 2
}
