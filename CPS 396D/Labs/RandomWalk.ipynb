{
 "cells": [
  {
   "cell_type": "markdown",
   "metadata": {},
   "source": [
    "# CPS 396D\n",
    "## Random Walking\n",
    "38 Points\n",
    "\n",
    "You are in charge of programming a robot to move around a playing field, and decide to test it out in an open field. The initial position (x, y) of the robot is at (0,0) (units in feet), and the robot moves in a random fashion as follows:\n",
    "\n",
    "  - For each second t, the robot moves from the currwent position according to the following random distributions:\n",
    "    - In x, it moves using a uniform distribution from [-2 to +2]\n",
    "    - In y, it moved in a normal distribution with a mean of 1 and a standard distribution of 0.5\n",
    "  - The robot is run for a total of 20 seconds\n",
    "  \n",
    "Compute and plot the robot's trajectory from it's origin. Show your work via comments, and label the title, x and y axes."
   ]
  },
  {
   "cell_type": "code",
   "execution_count": 47,
   "metadata": {},
   "outputs": [
    {
     "data": {
      "text/plain": [
       "[<matplotlib.axis.YTick at 0x7fe4966f42b0>,\n",
       " <matplotlib.axis.YTick at 0x7fe4966f5b38>,\n",
       " <matplotlib.axis.YTick at 0x7fe4966edb70>,\n",
       " <matplotlib.axis.YTick at 0x7fe496704a90>,\n",
       " <matplotlib.axis.YTick at 0x7fe496704f60>,\n",
       " <matplotlib.axis.YTick at 0x7fe4967084a8>,\n",
       " <matplotlib.axis.YTick at 0x7fe4967089b0>,\n",
       " <matplotlib.axis.YTick at 0x7fe496708eb8>,\n",
       " <matplotlib.axis.YTick at 0x7fe496708978>,\n",
       " <matplotlib.axis.YTick at 0x7fe496704b38>,\n",
       " <matplotlib.axis.YTick at 0x7fe49668d780>,\n",
       " <matplotlib.axis.YTick at 0x7fe49668dc88>]"
      ]
     },
     "execution_count": 47,
     "metadata": {},
     "output_type": "execute_result"
    },
    {
     "data": {
      "image/png": "[encoded data removed]",
      "text/plain": [
       "<Figure size 432x288 with 1 Axes>"
      ]
     },
     "metadata": {
      "needs_background": "light"
     },
     "output_type": "display_data"
    }
   ],
   "source": [
    "import numpy as np\n",
    "import matplotlib.pyplot as plt\n",
    "\n",
    "time = 0\n",
    "x = 0\n",
    "y = 0\n",
    "\n",
    "xs = []\n",
    "ys = []\n",
    "\n",
    "while time <= 20:\n",
    "    x_move = round(np.random.uniform(-2, 2))\n",
    "    y_move = round(np.random.normal(1, 0.5))\n",
    "    \n",
    "    xs.append(x)\n",
    "    ys.append(y)\n",
    "    \n",
    "    x += x_move\n",
    "    y += y_move\n",
    "    \n",
    "    time += 1\n",
    "\n",
    "fig, ax = plt.subplots()\n",
    "plt.plot(xs, ys)\n",
    "plt.title(\"Random Walking\")\n",
    "plt.xlabel(\"X-Position\")\n",
    "plt.ylabel(\"Y-Position\")\n",
    "ax.set_yticks([i for i in range(24) if i % 2 is 0])"
   ]
  },
  {
   "cell_type": "code",
   "execution_count": null,
   "metadata": {},
   "outputs": [],
   "source": []
  }
 ],
 "metadata": {
  "kernelspec": {
   "display_name": "Python 3",
   "language": "python",
   "name": "python3"
  },
  "language_info": {
   "codemirror_mode": {
    "name": "ipython",
    "version": 3
   },
   "file_extension": ".py",
   "mimetype": "text/x-python",
   "name": "python",
   "nbconvert_exporter": "python",
   "pygments_lexer": "ipython3",
   "version": "3.5.3"
  },
  "latex_envs": {
   "LaTeX_envs_menu_present": true,
   "autoclose": false,
   "autocomplete": true,
   "bibliofile": "biblio.bib",
   "cite_by": "apalike",
   "current_citInitial": 1,
   "eqLabelWithNumbers": true,
   "eqNumInitial": 1,
   "hotkeys": {
    "equation": "Ctrl-E",
    "itemize": "Ctrl-I"
   },
   "labels_anchors": false,
   "latex_user_defs": false,
   "report_style_numbering": false,
   "user_envs_cfg": false
  }
 },
 "nbformat": 4,
 "nbformat_minor": 2
}
