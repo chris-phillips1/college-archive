{
 "cells": [
  {
   "cell_type": "markdown",
   "metadata": {},
   "source": [
    "# Designing a discrete-event simulation from scratch\n",
    "\n",
    "In this simulation, we will model the behavior and population growth for 3 species: snakes, hawks, and humans. "
   ]
  },
  {
   "cell_type": "markdown",
   "metadata": {},
   "source": [
    "Question: What is the final population for each species after a period of 1000 years? How many snakes are eaten? How many humans are killed by snakes?"
   ]
  },
  {
   "cell_type": "markdown",
   "metadata": {},
   "source": [
    "### Info on Snakes\n",
    "\n",
    "Population Growth: Uniform distribution of population growth $1000-1200 snakes/year$.  \n",
    "Mortality Rate: Triangular distribution, 0.0 probability at 4 years, 0.5 probability at 6 years.  \n",
    "Human Bite Rate: Uniform distribution between 2-4 times per year."
   ]
  },
  {
   "cell_type": "markdown",
   "metadata": {},
   "source": [
    "### Info on Hawks\n",
    "\n",
    "Population Growth: uniform distribution of population growth $50-70 hawks/year$.  \n",
    "Mortality Rate: Uniform distribution, 25 years to 30 years.  \n",
    "Snake Kill Rate: Uniform distribution between 350-400 times per year."
   ]
  },
  {
   "cell_type": "markdown",
   "metadata": {},
   "source": [
    "### Info on Humans\n",
    "\n",
    "Population Growth: uniform distribution of population growth $15-20 humans/year$.  \n",
    "Mortality Rate: Uniform distribution, 20 years to 30 years.  \n",
    "Snake Kill Rate: Normal distribution between 180-200 times per year.  \n",
    "Hawk Kill Rate: Uniform distribution between 50-55 times per year."
   ]
  },
  {
   "cell_type": "markdown",
   "metadata": {},
   "source": [
    "### List of Possible Events\n",
    "1. Birth of a snake\n",
    "2. Birth of a hawk\n",
    "3. Birth of a human\n",
    "4. Snake bites human\n",
    "5. Hawk eats snake\n",
    "6. Human eats snake\n",
    "7. Human eats hawk\n",
    "8. Snake dies via natural causes\n",
    "9. Hawk dies via natural causes\n",
    "10. Human dies via natural causes"
   ]
  },
  {
   "cell_type": "code",
   "execution_count": 13,
   "metadata": {},
   "outputs": [],
   "source": [
    "import random\n",
    "# Methods for creating events\n",
    "# Use OOP to model the objects\n",
    "\n",
    "class Snake:\n",
    "    mortality = -1\n",
    "    bite = 0\n",
    "    birth = 0\n",
    "    time = 0 #Next event time\n",
    "    \n",
    "    def __init__(self, time):\n",
    "        self.birth = time\n",
    "        \n",
    "    def calc_mortality(self, time):\n",
    "        value = time + random.triangular(4, 6, 6)\n",
    "        self.mortality = value\n",
    "        return value\n",
    "    \n",
    "    def calc_bite_rate(self, time):\n",
    "        value = time + random.uniform(0.25, 0.5)\n",
    "        self.bite = value\n",
    "        return value\n",
    "    \n",
    "    def calc_next_birth(self, time):\n",
    "        value = time + (1 / random.uniform(1000, 1200))\n",
    "        self.offspring = value\n",
    "        return value\n",
    "    \n",
    "    def __str__(self):\n",
    "        format_string = 'Birth Year: {:d}\\n'.format(self.birth)\n",
    "        format_string += 'Death Year (Natural Causes): {:.2f}\\n'.format(self.mortality)\n",
    "        format_string += 'Next Bite Time: {:.2f}'.format(self.bite)\n",
    "        return format_string\n",
    "    \n",
    "    def __repr__(self):\n",
    "        form_string = self.__str__()\n",
    "        return form_string\n",
    "    \n",
    "    def update_time(self, time):\n",
    "        if self.birth > time and self.birth < self.mortality and self.birth < self.bite:\n",
    "            self.time = self.birth \n",
    "        elif self.mortality > time and self.mortality < self.birth and self.mortality < self.bite:\n",
    "            self.time = self.mortality\n",
    "        elif self.bite > time:\n",
    "            self.time = self.bite\n",
    "        else:\n",
    "            self.time = -1\n",
    "    \n",
    "    def createNewSnake(time, population):\n",
    "        return Snake(time), population + 1\n",
    "            \n",
    "# class Hawk:\n",
    "    \n",
    "# class Human:\n",
    "    "
   ]
  },
  {
   "cell_type": "code",
   "execution_count": 15,
   "metadata": {},
   "outputs": [
    {
     "name": "stdout",
     "output_type": "stream",
     "text": [
      "Birth Year: 0\n",
      "Death Year (Natural Causes): -1.00\n",
      "Next Bite Time: 0.00\n",
      "Birth Year: 1\n",
      "Death Year (Natural Causes): -1.00\n",
      "Next Bite Time: 0.00\n",
      "Birth Year: 2\n",
      "Death Year (Natural Causes): -1.00\n",
      "Next Bite Time: 0.00\n",
      "3\n"
     ]
    }
   ],
   "source": [
    "events = []\n",
    "cur_time = 0\n",
    "snake_pop = 0\n",
    "\n",
    "snake, snake_pop = Snake.createNewSnake(cur_time, snake_pop)\n",
    "events.append(snake)\n",
    "cur_time += 1\n",
    "snake2, snake_pop = Snake.createNewSnake(cur_time, snake_pop)\n",
    "events.append(snake2)\n",
    "cur_time += 1\n",
    "snake3, snake_pop = Snake.createNewSnake(cur_time, snake_pop)\n",
    "events.append(snake3)\n",
    "cur_time += 1\n",
    "\n",
    "# Here is where the event-based simulation starts\n",
    "\n",
    "#Iterate through each item in the list, removing the first item\n",
    "\n",
    "# while len(events) > 0:\n",
    "#     # Remove the first event\n",
    "#     cur_event = events.pop(0)\n",
    "    \n",
    "#     # Process the event\n",
    "#     # Check event type\n",
    "#     if cur_event.time >= cur_time: # Birth event\n",
    "#         cur_time = cur_event.time # Update simulation time\n",
    "#         snake_pop += 1 # Update snake population\n",
    "#         cur_event.calc_mortality(cur_time) # Update the natural death year\n",
    "#         cur_event.calc_bite_rate(cur_time) # Determine when the snake will bite a human\n",
    "#         cur_event.calc_next_birth(cur_time) # Determine when the next snake will be born\n",
    "#         print('A snake has been born on year {:d}.'.format(cur_time))\n",
    "\n",
    "#     # Add new events to the list\n",
    "#     # Determine the next event time\n",
    "#     cur_event.update_time(cur_time)\n",
    "#     events.append(cur_event)\n",
    "    \n",
    "\n",
    "# # print('Snake Birth Time: {:d}, Snake Death Time: {:.2f}'.format(aSnake.time, aSnake.mortality))\n",
    "for i in events:\n",
    "    print(i)\n",
    "print(snake_pop)"
   ]
  },
  {
   "cell_type": "code",
   "execution_count": null,
   "metadata": {},
   "outputs": [],
   "source": []
  }
 ],
 "metadata": {
  "kernelspec": {
   "display_name": "Python 3",
   "language": "python",
   "name": "python3"
  },
  "language_info": {
   "codemirror_mode": {
    "name": "ipython",
    "version": 3
   },
   "file_extension": ".py",
   "mimetype": "text/x-python",
   "name": "python",
   "nbconvert_exporter": "python",
   "pygments_lexer": "ipython3",
   "version": "3.5.3"
  }
 },
 "nbformat": 4,
 "nbformat_minor": 2
}
