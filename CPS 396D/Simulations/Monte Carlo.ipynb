{
 "cells": [
  {
   "cell_type": "markdown",
   "metadata": {},
   "source": [
    "### Monte Carlo Simulation: Dice Simulation"
   ]
  },
  {
   "cell_type": "markdown",
   "metadata": {},
   "source": [
    "#### In this simulation we will look at a dice game simulation with a bettor betting virtual money!"
   ]
  },
  {
   "cell_type": "markdown",
   "metadata": {
    "slideshow": {
     "slide_type": "fragment"
    }
   },
   "source": [
    "First, we create a model for the dice:"
   ]
  },
  {
   "cell_type": "code",
   "execution_count": 1,
   "metadata": {},
   "outputs": [],
   "source": [
    "%matplotlib inline\n",
    "import random\n",
    "import matplotlib as mpl\n",
    "import matplotlib.pyplot as plt\n",
    "import numpy as np\n",
    "\n",
    "#Dice Class\n",
    "class Dice:\n",
    "    \n",
    "    def __init__(self, sides):\n",
    "        self.sides = sides\n",
    "           \n",
    "    def roll(self):\n",
    "        return random.randint(1, self.sides)\n",
    "        \n",
    "d = Dice(6)\n",
    "\n",
    "# for i in range(100):\n",
    "#     print(\"Dice Roll: {:d}\".format(d.roll()))"
   ]
  },
  {
   "cell_type": "markdown",
   "metadata": {},
   "source": [
    "Now, we create a bettor who will bet money on the dice:"
   ]
  },
  {
   "cell_type": "code",
   "execution_count": 12,
   "metadata": {},
   "outputs": [],
   "source": [
    "class Bettor:\n",
    "    \n",
    "    def __init__(self, money, bet, total_bets):\n",
    "        self.money = money\n",
    "        self.bet = bet\n",
    "        self.total_bets = total_bets\n",
    "        self.history = np.zeros(total_bets)\n",
    "       \n",
    "    #Get history from the bettor\n",
    "    def get_history(self):\n",
    "        return self.history\n",
    "    \n",
    "    # Rules:\n",
    "    # 1. The roller will roll the dice\n",
    "    # 2. If dice is 1 or 2, bettor loses\n",
    "    # 3. If dice is 3 or 4, bettor gets wager back\n",
    "    # 4. if dice is 5 or 6, bettor gets wager doubled\n",
    "    \n",
    "    def eval_game(self, roll):\n",
    "        if roll is 1 or roll is 2:\n",
    "            return -1\n",
    "        elif roll is 3 or roll is 4:\n",
    "            return 0\n",
    "        elif roll is 5 or roll is 6:\n",
    "            return 1\n",
    "        \n",
    "    def update_money(self, money, outcome):\n",
    "        if outcome is -1:\n",
    "            money -= self.bet\n",
    "        elif outcome is 1:\n",
    "            money += self.bet   \n",
    "        return money\n",
    "    \n",
    "    def play_game(self, dice):\n",
    "        current_money = self.money\n",
    "        has_money = True\n",
    "        \n",
    "        for i in range(self.total_bets):\n",
    "            if has_money:\n",
    "                roll = dice.roll()\n",
    "                outcome = self.eval_game(roll)\n",
    "                current_money = self.update_money(current_money, outcome)\n",
    "                self.history[i] = current_money\n",
    "#                 print('Current Money: {:d}'.format(current_money))\n",
    "                if current_money <= 0:\n",
    "                    has_money = False\n",
    "        \n",
    "\n",
    "        \n",
    "dice = Dice(6)        \n",
    "bettor = Bettor(10, 1, 1000)\n",
    "\n",
    "bettor.play_game(dice)"
   ]
  },
  {
   "cell_type": "markdown",
   "metadata": {},
   "source": [
    "Here, we plot the results:"
   ]
  },
  {
   "cell_type": "code",
   "execution_count": 13,
   "metadata": {},
   "outputs": [
    {
     "data": {
      "text/plain": [
       "[<matplotlib.lines.Line2D at 0x7f82b7f0c3c8>]"
      ]
     },
     "execution_count": 13,
     "metadata": {},
     "output_type": "execute_result"
    },
    {
     "data": {
      "image/png": "[encoded data removed]",
      "text/plain": [
       "<Figure size 432x288 with 1 Axes>"
      ]
     },
     "metadata": {
      "needs_background": "light"
     },
     "output_type": "display_data"
    }
   ],
   "source": [
    "money = bettor.get_history()\n",
    "sequence = list(range(bettor.total_bets))\n",
    "\n",
    "# print(sequence)\n",
    "\n",
    "figs, ax = plt.subplots()\n",
    "ax.plot(sequence, money)"
   ]
  },
  {
   "cell_type": "code",
   "execution_count": null,
   "metadata": {},
   "outputs": [],
   "source": []
  }
 ],
 "metadata": {
  "kernelspec": {
   "display_name": "Python 3",
   "language": "python",
   "name": "python3"
  },
  "language_info": {
   "codemirror_mode": {
    "name": "ipython",
    "version": 3
   },
   "file_extension": ".py",
   "mimetype": "text/x-python",
   "name": "python",
   "nbconvert_exporter": "python",
   "pygments_lexer": "ipython3",
   "version": "3.5.3"
  }
 },
 "nbformat": 4,
 "nbformat_minor": 2
}
